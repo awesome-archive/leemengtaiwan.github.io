{
 "cells": [
  {
   "cell_type": "markdown",
   "metadata": {},
   "source": [
    "- author: Lee Meng\n",
    "- date: 2018-03-24 15:33\n",
    "- title: Designing Data-Intensive Applications (1) - 序言\n",
    "- slug: designing-data-intensive-applications-1-preface\n",
    "- tags: 資料工程\n",
    "- description: 最近在拜讀 Martin Kleppmann 的 Designing Data-Intensive Applications， 覺得受益匪淺，且我也相信透過 Feynman Technique 將學到的東西用最淺顯易懂的方式表達能幫助自己內化這些知識，遂嘗試把閱讀後的心得記錄在此。\n",
    "- summary: 最近在拜讀 Martin Kleppmann 的 Designing Data-Intensive Applications， 覺得受益匪淺，且我也相信透過 Feynman Technique 將學到的東西用最淺顯易懂的方式表達能幫助自己內化這些知識，遂嘗試把閱讀後的心得記錄在此。\n",
    "- image: eugene-lim-263830-unsplash.jpg\n",
    "- image_credit_url: https://unsplash.com/photos/X3MNSra7o9s?utm_source=unsplash&utm_medium=referral&utm_content=creditCopyText"
   ]
  },
  {
   "cell_type": "markdown",
   "metadata": {},
   "source": [
    "最近在拜讀 [Martin Kleppmann](http://martin.kleppmann.com/) 的 [Designing Data-Intensive Applications](https://dataintensive.net/)，\n",
    "覺得受益匪淺，且我也相信透過 \n",
    "[Feynman Technique](http://blog.xxc.idv.tw/km/%E8%B2%BB%E6%9B%BC%E7%9A%84%E5%AD%B8%E7%BF%92%E6%8A%80%E5%B7%A7-the-feynman-technique.html) \n",
    "將學到的東西用最淺顯易懂的方式表達能幫助自己內化這些知識，遂嘗試把閱讀後的心得記錄在此。\n",
    "\n",
    "另外在提到書內內容時都會盡量使用英文原文，不另做名詞的翻譯，以方便對照書內內容。"
   ]
  },
  {
   "cell_type": "markdown",
   "metadata": {},
   "source": [
    "## 何謂 data-intensive applications"
   ]
  },
  {
   "cell_type": "markdown",
   "metadata": {},
   "source": [
    "所謂的 data-intensive applications 如同名稱所示，專注在如何有效率地處理、儲存[密集資料](#何謂資料密集)。通常一個這樣的系統的後端要用多種方式處理資料，而不是只用一個資料庫就結束了。（雖然對 end users 來說可能看起來像這樣）\n",
    "\n",
    "舉個簡單例子，一個電子商務網頁的後端除了做為 [OLTP](https://zh.wikipedia.org/wiki/%E7%B7%9A%E4%B8%8A%E4%BA%A4%E6%98%93%E8%99%95%E7%90%86) 的 NoSQL 資料庫 (e.g., MongoDB) 以外，可能還有：\n",
    "- 一個專門存放網頁快取的資料庫 (e.g. Redis) \n",
    "- 給資料科學家分析用的資料倉儲 (e.g., Redshift) \n",
    "- 處理 streaming events 的 messaging queue (e.g., Kafka)\n",
    "- 定期將 NoSQL 資料庫的資料做 [ETL](https://zh.wikipedia.org/wiki/ETL) 存到 資料倉儲的批次處理 (e.g., Hive jobs)\n",
    "\n",
    "光是要把以上所列的資料庫 / 分散式系統 / 資料流 以有系統的方式組合起來就需要大量經驗，更遑論還要達到以下三個要求了：\n",
    "- 可靠性 (reliable): 像是 zero-down time, 很短的回應時間 etc\n",
    "- 規模性 (scalable): 即使之後資料量增加，系統也能很好地運作\n",
    "- 維護性 (maintainable): 容易改善、新增功能的系統設計\n",
    "\n",
    "<center>\n",
    "    <img src=\"images/ddia/jigsaw-puzzle.png\" style=\"\"/>\n",
    "</center>\n",
    "<center>\n",
    "    <a href=\"http://www.jigsaw-puzzle-club.co.uk/\" target=\"_blank\">Image Credit</a>\n",
    "    <font color='purple'>: 如何了解各個 data system 的優缺點並予以組合</font><br>\n",
    "    \n",
    "</center>"
   ]
  },
  {
   "cell_type": "markdown",
   "metadata": {},
   "source": [
    "儘管我們不可能熟悉所有資料庫以及分散式系統的細節，了解他們背後設計的核心理念、演算法以及大致上的運作方式能讓我們了解每個 data system 的特性以及優缺點，依照不同的使用案例選擇最適合的 data system 並予以組合。"
   ]
  },
  {
   "cell_type": "markdown",
   "metadata": {},
   "source": [
    "## 何謂資料密集"
   ]
  },
  {
   "cell_type": "markdown",
   "metadata": {},
   "source": [
    "書中所指的「密集」資料有以下所列的特徵（一個以上）：\n",
    "- 大量資料\n",
    "- 資料的（格式、 schema etc）變動速度很快\n",
    "- 資料有複雜結構\n",
    "\n",
    "針對「資料有複雜結構」以及「資料變動很快」這點，最為人所知的 solution 就是 NoSQL 等允許彈性 schema 的資料庫的崛起；\n",
    "而針對「資料量很大」這點，則端看使用案例有各式各樣的資料庫、分散式系統。舉幾個例子：\n",
    "\n",
    "- 能有效儲存大量資料的 Google BigTable\n",
    "- 以欄 (column) 為單位儲存以壓縮大量資料的資料倉儲 Redshift\n",
    "- Amazon 的 Single-leader Replication - DynamoDB\n",
    "- 專門處理 realtime streaming data 的 Kafka, RabbitMQ etc.\n",
    "\n",
    "如同前述，以上提到的系統依照它們想要解決的問題的特性，背後都會有一些假設以及 trade-off 。了解這些背後的原理可以讓我們了解哪些工具在什麼時候最 powerful 。\n",
    "\n",
    "\n",
    "這本書主要分成三部分來闡述，抓到大方向會比較容易閱讀：\n",
    "- 針對單一機器上的資料，有哪些常用的資料儲存/處理方法\n",
    "- 類似前一部份，闡述針對分散式系統的資料儲存/處理方法\n",
    "- 資料密集型應用：如何將多個 data systems 組合起來"
   ]
  },
  {
   "cell_type": "markdown",
   "metadata": {},
   "source": [
    "## 一句話總結"
   ]
  },
  {
   "cell_type": "code",
   "execution_count": null,
   "metadata": {
    "collapsed": true
   },
   "outputs": [],
   "source": [
    "#blockquote\n",
    "在資料密集的時代，我們的最終目標在於如何將各式各樣的 data systems 以有系統的方式「組合」起來，以建立一個可靠、具規模性以及維護性的系統。"
   ]
  }
 ],
 "metadata": {
  "Author": "Lee Meng",
  "Category": "",
  "Date": "2018-03-24 15:33",
  "Description": "最近在拜讀 Martin Kleppmann 的 Designing Data-Intensive Applications， 覺得受益匪淺，且我也相信透過 Feynman Technique 將學到的東西用最淺顯易懂的方式表達能幫助自己內化這些知識，遂嘗試把閱讀後的心得記錄在此。",
  "Image": "eugene-lim-263830-unsplash.jpg",
  "Image_credit_url": "https://unsplash.com/photos/X3MNSra7o9s?utm_source=unsplash&utm_medium=referral&utm_content=creditCopyText",
  "Summary": "DDIA 序言",
  "Tags": "Software Engineering, data",
  "Title": "Designing Data-Intensive Applications (1) - 序言",
  "_draft": {
   "nbviewer_url": "https://gist.github.com/131285d2734bc44b4db0d57dd5cb52fa"
  },
  "gist": {
   "data": {
    "description": "content/20180324-designing-data-intensive-applications-1-preface.ipynb",
    "public": true
   },
   "id": "131285d2734bc44b4db0d57dd5cb52fa"
  },
  "kernelspec": {
   "display_name": "Python 3",
   "language": "python",
   "name": "python3"
  },
  "language_info": {
   "codemirror_mode": {
    "name": "ipython",
    "version": 3
   },
   "file_extension": ".py",
   "mimetype": "text/x-python",
   "name": "python",
   "nbconvert_exporter": "python",
   "pygments_lexer": "ipython3",
   "version": "3.6.5"
  },
  "toc": {
   "nav_menu": {},
   "number_sections": true,
   "sideBar": false,
   "skip_h1_title": false,
   "toc_cell": false,
   "toc_position": {},
   "toc_section_display": "block",
   "toc_window_display": false
  },
  "varInspector": {
   "cols": {
    "lenName": 16,
    "lenType": 16,
    "lenVar": 40
   },
   "kernels_config": {
    "python": {
     "delete_cmd_postfix": "",
     "delete_cmd_prefix": "del ",
     "library": "var_list.py",
     "varRefreshCmd": "print(var_dic_list())"
    },
    "r": {
     "delete_cmd_postfix": ") ",
     "delete_cmd_prefix": "rm(",
     "library": "var_list.r",
     "varRefreshCmd": "cat(var_dic_list()) "
    }
   },
   "types_to_exclude": [
    "module",
    "function",
    "builtin_function_or_method",
    "instance",
    "_Feature"
   ],
   "window_display": false
  }
 },
 "nbformat": 4,
 "nbformat_minor": 2
}
