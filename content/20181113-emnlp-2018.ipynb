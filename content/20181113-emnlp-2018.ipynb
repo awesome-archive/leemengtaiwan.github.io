{
 "cells": [
  {
   "cell_type": "markdown",
   "metadata": {},
   "source": [
    "- author: Lee Meng\n",
    "- date: 2018-11-19 08:00\n",
    "- title: 我在比利時 EMNLP 之旅中學到的 3 堂課\n",
    "- slug: 3-lessons-i-learnt-from-emnlp-2018-at-belgium\n",
    "- tags: 隨筆, 自然語言處理, 深度學習\n",
    "- description: 這是一個 NLP 初心者勇闖自然語言處理的頂級學術會議 EMNLP 的故事。在這篇文章裡，我想跟你分享 3 個這次旅行中帶給我最重要的體悟。這些體悟改變了我的人生，而我也希望你能從這個故事裡頭獲得些啟發，重新思考你自己的學習，並做一些好的改變。\n",
    "- summary: 這是一個 NLP 初心者勇闖自然語言處理的頂級學術會議 EMNLP 的故事。在這篇文章裡，我想跟你分享 3 個這次旅行中帶給我最重要的體悟。這些體悟改變了我的人生，而我也希望你能從這個故事裡頭獲得些啟發，重新思考你自己的學習，並做一些好的改變。\n",
    "- image: bruxelles-post-cover.jpg\n",
    "- image_credit_url: "
   ]
  },
  {
   "cell_type": "markdown",
   "metadata": {},
   "source": [
    "我想將最近在比利時[布魯塞爾](https://zh.wikipedia.org/wiki/%E5%B8%83%E9%B2%81%E5%A1%9E%E5%B0%94)參加自然語言處理的頂級會議 [EMNLP 2018](http://emnlp2018.org/) 的心得記錄下來並與你分享。"
   ]
  },
  {
   "cell_type": "markdown",
   "metadata": {},
   "source": [
    "!image\n",
    "- emnlp2018/emnlp-entrance.jpg\n",
    "- EMNLP 2018 會場門口"
   ]
  },
  {
   "cell_type": "markdown",
   "metadata": {},
   "source": [
    "這篇文章會把我數天參加會議時所感受到的個人想法總結成最重要的 3 個 lessons。希望你在閱讀我的故事以後，一樣也能從中獲得一些啟發。\n",
    "\n",
    "最後在文末，我則會說明這些想法將如何影響今後部落格的走向。如果你是忠實讀者，或許也會有興趣了解這個故事：）"
   ]
  },
  {
   "cell_type": "markdown",
   "metadata": {},
   "source": [
    "## 計畫之外的 NLP 之旅"
   ]
  },
  {
   "cell_type": "markdown",
   "metadata": {},
   "source": [
    "今年 10 月底，我跟公司請了一個禮拜的假參加在布魯塞爾舉辦的 [EMNLP 會議](http://emnlp2018.org/)。\n",
    "\n",
    "EMNLP 作為世界頂尖的[自然語言處理](https://zh.wikipedia.org/wiki/%E8%87%AA%E7%84%B6%E8%AF%AD%E8%A8%80%E5%A4%84%E7%90%86)會議之一，每年都有無以數計的專業人士聚集在此，與他人分享自己最新的研究成果。與大多數國際會議相同，[深度學習（Deep Learning）](https://zh.wikipedia.org/zh-hant/%E6%B7%B1%E5%BA%A6%E5%AD%A6%E4%B9%A0)的蹤影基本上無所不在。\n",
    "\n",
    "你可以在[這邊看到所有議程以及論文](http://emnlp2018.org/schedule)。"
   ]
  },
  {
   "cell_type": "markdown",
   "metadata": {},
   "source": [
    "!image\n",
    "- emnlp2018/emnlp-line-up.jpg\n",
    "- Workshops / Tutorials 第一天報到的人龍"
   ]
  },
  {
   "cell_type": "markdown",
   "metadata": {},
   "source": [
    "不過老實說，在同事提及此會議之前，我並沒有聽過它的名號，更不用說考慮報名參加了。我本來預計是要參加跟資料工程相關的 [DataEngConf](https://www.dataengconf.com/) 會議。（你可能已經從[我寫過的幾篇資料工程文章](https://leemeng.tw/tag/zi-liao-gong-cheng.html)了解我對 DE 的興趣）\n",
    "\n",
    "但想説難得有機會深入了解現在 NLP 的研究趨勢，況且人多有個照應，稍微衡量一下就決定參加 EMNLP 了。\n",
    "\n",
    "當時的我還不曉得，這趟旅程為自己帶來的收穫，比原先預想地來得多。"
   ]
  },
  {
   "cell_type": "markdown",
   "metadata": {},
   "source": [
    "## 幾萬呎高空上的兩本書"
   ]
  },
  {
   "cell_type": "markdown",
   "metadata": {},
   "source": [
    "這趟旅行從我坐上飛機就開始了。\n",
    "\n",
    "從東京到比利時，飛行距離大約有 1 萬公里，直飛也需快 12 小時。在長途飛行中沒有網路，因此我這次決定帶兩本買了好一陣子都沒翻開的書，計畫去程與回程各看一本。"
   ]
  },
  {
   "cell_type": "markdown",
   "metadata": {},
   "source": [
    "中途因為沒有任何如 Facebook 通知的干擾，我在飛機快抵達布魯塞爾時消化完《你要如何衡量你的人生？》的內容。"
   ]
  },
  {
   "cell_type": "markdown",
   "metadata": {},
   "source": [
    "!image\n",
    "- emnlp2018/two-books.jpg\n",
    "- 這次跟我一起去比利時的兩本書\n",
    "- https://leemeng.tw/books.html"
   ]
  },
  {
   "cell_type": "markdown",
   "metadata": {},
   "source": [
    "透過此書我學到，那些你在職場或人生中設定的策略以及計劃，在實際展開行動去執行它們之前，什麼都不是。為了達成你要的目標，你得實際分配精力、時間等資源在上面，而非只是空想或說大話。\n",
    "\n",
    "在回東京時，我則閱讀了[《華頓商學院最受歡迎的談判課》](https://gettingmore.com/)。戴蒙教授用深入淺出的說明以及大量真實案例，再次提醒我在進行溝通或談判時，以「人」為本、設身處地的重要性。"
   ]
  },
  {
   "cell_type": "markdown",
   "metadata": {},
   "source": [
    "!image\n",
    "- emnlp2018/aaron-burden-236415-unsplash.jpg"
   ]
  },
  {
   "cell_type": "markdown",
   "metadata": {},
   "source": [
    "這兩本書值得推薦，但在這裏，重點其實並不在於這兩本書的內容。在閱讀完《你要如何衡量你的人生？》時飛機正好抵達比利時，我則驚覺："
   ]
  },
  {
   "cell_type": "markdown",
   "metadata": {},
   "source": [
    "!quote\n",
    "- 為何我當初在買書時早已預感能從此書獲得許多寶貴的思想，卻拖到現在才閱讀？"
   ]
  },
  {
   "cell_type": "markdown",
   "metadata": {},
   "source": [
    "這正是「沒有下定決心分配資源以執行策略」的活生生例子。\n",
    "\n",
    "你的書櫃上是否也放了不少買了卻沒看的書？當初買書時你期望透過書本學到什麼？沒看完的原因又是什麼呢？\n",
    "\n",
    "如果「沒時間」是你的理由，那麼正說明了你跟當時的我一樣，沒有下定決心將自己的資源（時間）花在執行策略上面（看書變聰明、豐富人生）。"
   ]
  },
  {
   "cell_type": "markdown",
   "metadata": {},
   "source": [
    "!image\n",
    "- emnlp2018/chuttersnap-412981-unsplash.jpg"
   ]
  },
  {
   "cell_type": "markdown",
   "metadata": {},
   "source": [
    "資訊爆炸時代，我們的閱讀時間變得極度零碎，也難以長時間集中自己的注意力。很多時候跟看 Youtube 影片比起來，我們會覺得讀一本書的「投資報酬率」太低：花費時間太多，帶來的刺激太少。\n",
    "\n",
    "但其實並不是那麼一回事。好的書籍能改變你的一生，讓你終身受惠。而這次的機上閱讀帶給我的第一堂課即是："
   ]
  },
  {
   "cell_type": "markdown",
   "metadata": {},
   "source": [
    "!quote\n",
    "- 閱讀好書是最好的長期投資，能豐富並讓你的人生更好。確保你會實際安排時間與精力去閱讀自己感興趣的書籍。"
   ]
  },
  {
   "cell_type": "markdown",
   "metadata": {},
   "source": [
    "的確，你不需要像我一樣在幾萬呎高空上閱讀才能得到一樣的感想。但多虧了長途飛行給的專注時間，讓我在這趟旅行的一開始就重新體會到這件重要的事情。"
   ]
  },
  {
   "cell_type": "markdown",
   "metadata": {},
   "source": [
    "## 從零開始的 NLP 之路 "
   ]
  },
  {
   "cell_type": "markdown",
   "metadata": {},
   "source": [
    "!image\n",
    "- emnlp2018/La-place-Royale.jpg\n",
    "- 到達布魯塞爾的當天飄著綿綿細雨"
   ]
  },
  {
   "cell_type": "markdown",
   "metadata": {},
   "source": [
    "下了飛機，坐地鐵來到市區，EMNLP 會議也即將拉開序幕。讓我們回到 NLP 的話題。"
   ]
  },
  {
   "cell_type": "markdown",
   "metadata": {},
   "source": [
    "儘管我一直以來都對 NLP 抱持著不少興趣，過去卻沒有認真去了解近年深度學習在 NLP 領域的快速發展以及創新。\n",
    "\n",
    "因此我明白，以自己當下幾乎是 0 的 NLP 知識水平，要在像 EMNLP 這種專業的會場內頭，迅速理解演講者們的論文發表這件事情的難度是很高的。"
   ]
  },
  {
   "cell_type": "markdown",
   "metadata": {},
   "source": [
    "!image\n",
    "- emnlp2018/emnlp-conference.jpg\n",
    "- EMNLP 其中一個會議廳"
   ]
  },
  {
   "cell_type": "markdown",
   "metadata": {},
   "source": [
    "基於這樣的背景，我將此次參加會議的目標設定為「掌握 NLP 基本概念以及關鍵字」。\n",
    "\n",
    "為了達到這樣的目標，我有一個非常 naive 的策略，其分為三個步驟：\n",
    "- 選擇有興趣的 Sessions 聆聽\n",
    "- 聽到不熟悉的關鍵字就把它們記下來\n",
    "- Session 結束後 Google 這些關鍵字"
   ]
  },
  {
   "cell_type": "markdown",
   "metadata": {},
   "source": [
    "!image\n",
    "- emnlp2018/food-in-belgium.jpg\n",
    "- 來比利時，用功之餘也不能錯過淡菜及啤酒"
   ]
  },
  {
   "cell_type": "markdown",
   "metadata": {},
   "source": [
    "當然你可以想像得到，一開始的幾場演講，作者的一句話或是一張投影片就能讓我打下無數關鍵字。\n",
    "\n",
    "不過會議每進行一天，我就記越少關鍵字。這並不稀奇，畢竟大部分論文運用的「基本」 NLP 概念是相通的，而我也逐漸熟悉這些概念。（謝了，Google！）"
   ]
  },
  {
   "cell_type": "markdown",
   "metadata": {},
   "source": [
    "為了讓你實際感受一下，以下節錄一些被我紀錄下來的關鍵字：\n",
    "- Recurrent Neural Network（RNN）\n",
    "    - [LSTM](https://zh.wikipedia.org/wiki/%E9%95%B7%E7%9F%AD%E6%9C%9F%E8%A8%98%E6%86%B6)\n",
    "    - [BiLSTM](https://datascience.stackexchange.com/a/25657)\n",
    "    - [GRU](https://zhuanlan.zhihu.com/p/32481747)\n",
    "    - [SRNN](http://www.sohu.com/a/240293276_610300)\n",
    "- Word Embedding\n",
    "    - [ELMo](https://allennlp.org/elmo)\n",
    "    - [GloVe](https://nlp.stanford.edu/projects/glove/)\n",
    "    - [BERT](https://arxiv.org/abs/1810.04805)\n",
    "- Evaluation / Dataset\n",
    "    - [BLEU](https://en.wikipedia.org/wiki/BLEU)\n",
    "    - [SQuAD](https://rajpurkar.github.io/SQuAD-explorer/)\n",
    "- NLP Tasks\n",
    "    - [Named Entity Recognition](https://1fly2sky.wordpress.com/2016/04/02/%E5%91%BD%E5%90%8D%E5%AF%A6%E9%AB%94%E8%AD%98%E5%88%A5%E6%8A%80%E8%A1%93named-entity-recognition/)\n",
    "    - [Machine Translation](https://en.wikipedia.org/wiki/Machine_translation)\n",
    "    - [Question Answering](https://zh.wikipedia.org/wiki/%E5%95%8F%E7%AD%94%E7%B3%BB%E7%B5%B1)\n",
    "    - [Text Summarization](https://machinelearningmastery.com/gentle-introduction-text-summarization/)\n",
    "    - [Style Transfer](https://arxiv.org/abs/1711.06861)\n",
    "    - [Reading Comprehension](https://towardsdatascience.com/nlp-building-a-question-answering-model-ed0529a68c54)\n",
    "    - [Open / Closed Domain Conversation](http://www.wildml.com/2016/04/deep-learning-for-chatbots-part-1-introduction/)\n",
    "- [Attention Mechanism](https://skymind.ai/wiki/attention-mechanism-memory-network)\n",
    "- [Transformer](https://bigdatafinance.tw/index.php/news/578-transformer-rnn-lstm)\n",
    "- ..."
   ]
  },
  {
   "cell_type": "markdown",
   "metadata": {},
   "source": [
    "如果你平常有在接觸 NLP 領域，可能都已經對這些詞彙朗朗上口；但假如你跟當初參加會議時的我一樣，對 NLP 有興趣但卻什麼都不知道的話也別擔心，之後我會在其他文章解釋這些 NLP 術語並附上最好的學習資源。"
   ]
  },
  {
   "cell_type": "markdown",
   "metadata": {},
   "source": [
    "!image\n",
    "- emnlp2018/nlp-word-cloud.jpg"
   ]
  },
  {
   "cell_type": "markdown",
   "metadata": {},
   "source": [
    "EMNLP 當然不只談了上述東西，但以上詞彙應該沒有人會否認是現在 NLP 研究/應用領域裡頭常用的關鍵字。別忘了我們的目標是「掌握 NLP 基本概念以及關鍵字」。即使是 NLP 初學者如我，先了解這些詞彙的意義以及背後的理論，也能讓你對現在的 NLP 領域有個「還可以」的掌握。"
   ]
  },
  {
   "cell_type": "markdown",
   "metadata": {},
   "source": [
    "!image\n",
    "- emnlp2018/pan-xiaozhen-423533-unsplash.jpg"
   ]
  },
  {
   "cell_type": "markdown",
   "metadata": {},
   "source": [
    "這個「高頻關鍵字策略」很簡單，就跟我們從小學外語的方式如出一轍。在初學語言時，比較有效率的學習方法通常是先拿起「英文高頻 5000 單字」或是「常用日本會話 1000 句」來看，而不是去背一輩子可能看不到 5 次的「[火山矽肺症](https://www.ettoday.net/news/20121228/146060.htm)」英文。\n",
    "\n",
    "下個小節你會看到，這個策略的效果還不賴。"
   ]
  },
  {
   "cell_type": "markdown",
   "metadata": {},
   "source": [
    "## 美術館驗收學習成果"
   ]
  },
  {
   "cell_type": "markdown",
   "metadata": {},
   "source": [
    "為期數天的 EMNLP 會議裡的某一天晚上，在[皇家美術館](https://zh.wikipedia.org/wiki/%E6%AF%94%E5%88%A9%E6%97%B6%E7%9A%87%E5%AE%B6%E7%BE%8E%E6%9C%AF%E5%8D%9A%E7%89%A9%E9%A6%86)有一個與會者專屬的 Social Event。此活動讓所有人都可以欣賞到創作時期橫跨 15 世紀到 21 世紀的 20,000 件藝術作品。"
   ]
  },
  {
   "cell_type": "markdown",
   "metadata": {},
   "source": [
    "!image\n",
    "- emnlp2018/La-Mort-de-Marat.jpg\n",
    "- 路易．大衛的《馬拉之死》"
   ]
  },
  {
   "cell_type": "markdown",
   "metadata": {},
   "source": [
    "除了欣賞如法國新古典主義畫家[路易．大衛](https://zh.wikipedia.org/wiki/%E9%9B%85%E5%85%8B-%E8%B7%AF%E6%98%93%C2%B7%E5%A4%A7%E5%8D%AB)最為人知的[《馬拉之死》](https://gushi.tw/%E6%B3%95%E5%9C%8B%E5%A4%A7%E9%9D%A9%E5%91%BD%E7%9A%84%E7%9C%9F%E5%AF%A6%E6%9A%97%E6%AE%BA%EF%BC%9A%E3%80%8A%E9%A6%AC%E6%8B%89%E4%B9%8B%E6%AD%BB%E3%80%8B/)等經典藝術作品之外，很多來參加 Social Event 的人是來「 Social 」的：跟一起來的同事聊聊天吃點心、想辦法多認識幾個厲害學者要個名片、或是找幾個陌生人討論彼此的研究。\n",
    "\n",
    "利用上節説的簡單策略，我將目前流行的 NLP 術語理解了一遍，接著就這樣在皇家美術館裡頭拿著香檳與比利時巧克力，跟完全陌生的研究者、工程師們互相寒暄，大聊 NLP。"
   ]
  },
  {
   "cell_type": "markdown",
   "metadata": {},
   "source": [
    "!image\n",
    "- emnlp2018/art-museum.jpg\n",
    "- 皇家美術館裡的 Social Event"
   ]
  },
  {
   "cell_type": "markdown",
   "metadata": {},
   "source": [
    "我都跟他們說：「我完全不懂 NLP，是劉姥姥到大觀園。」但卻不只一位跟我說：「我覺得你 NLP 概念很不錯啊！我講的內容你都能理解，甚至還能給我的研究一些建議！」\n",
    "\n",
    "但那只是因為我在前幾天學會了這門「 NLP 語言 」的基礎詞彙，並運用我不受任何限制的想像力，針對他們的研究給出一些自己的想法而已。"
   ]
  },
  {
   "cell_type": "markdown",
   "metadata": {},
   "source": [
    "在這個夜晚，我學到了第二堂課："
   ]
  },
  {
   "cell_type": "markdown",
   "metadata": {},
   "source": [
    "!quote\n",
    "- 在這個科技變化快速的時代，思考如何用最有效率的方式學習新知非常重要。未來，我們最大的潛力取決於能多快熟悉並掌握新事物。"
   ]
  },
  {
   "cell_type": "markdown",
   "metadata": {},
   "source": [
    "別誤會，我並沒有說自己去了 EMNLP 就已經掌握了所有 NLP 專業知識，也沒有說學了一門知識的「基礎詞彙」就已經足夠。但對的方式能為你後面的學習奠定非常好的基礎及方向。\n",
    "\n",
    "這邊的重點在於你要找出最有效率的方式學習，並突破傳統「要掌握一門學門得花數年時間的正統教育」的思考框架。現在網際網路上有數不清的資源等待你的探索，幫助你快速起飛。"
   ]
  },
  {
   "cell_type": "markdown",
   "metadata": {},
   "source": [
    "## 開啟全新的學習之旅"
   ]
  },
  {
   "cell_type": "markdown",
   "metadata": {},
   "source": [
    "我當初努力思考「從這趟 EMNLP 之旅，我究竟學到什麼？」這個問題時，發現會議裡頭的確有不少振奮人心的演說以及構思巧妙的論文，但真正讓我自己獲益最多的是以下 3 個體悟：\n",
    "1. 閱讀好書是最好的長期投資，能豐富並讓你的人生更好。確保你會實際安排時間與精力去閱讀自己感興趣的書籍。\n",
    "2. 在這個科技變化快速的時代，思考如何用最有效率的方式學習新知非常重要。未來我們最大的潛力取決於能多快熟悉並掌握新事物。\n",
    "3. 旅行其中一個好處是能讓你探索自我並改變人生。"
   ]
  },
  {
   "cell_type": "markdown",
   "metadata": {},
   "source": [
    "!image\n",
    "- emnlp2018/Eglise-Notre-Dame-du-Sablon.jpg\n",
    "- 薩布隆聖母教堂"
   ]
  },
  {
   "cell_type": "markdown",
   "metadata": {},
   "source": [
    "前 2 點我們已經在前面花了不少篇幅解釋，在這邊我們花一點點篇幅說明最後一項："
   ]
  },
  {
   "cell_type": "markdown",
   "metadata": {},
   "source": [
    "!quote\n",
    "- 旅行其中一個好處是能讓你探索自我並改變人生。"
   ]
  },
  {
   "cell_type": "markdown",
   "metadata": {},
   "source": [
    "對我而言，這次的旅行是一個人生的轉捩點。它正式地打開了我「多年」對深度學習以及 NLP 興趣的開關，促使我開始大量學習相關知識。\n",
    "\n",
    "之後的部落格，除了[資料科學](https://leemeng.tw/tag/zi-liao-ke-xue.html)以及[資料工程](https://leemeng.tw/tag/zi-liao-gong-cheng.html)的文章以外，也將會包含自己學習深度學習以及 NLP 時使用到的線上資源和個人心得。如果你也對 NLP 與深度學習有興趣，或許之後可以從這裡學到點東西；而如果你能跟我分享好的 NLP 學習資源，我也會非常感激！"
   ]
  },
  {
   "cell_type": "markdown",
   "metadata": {},
   "source": [
    "!image\n",
    "- emnlp2018/bruno-van-der-kraan-750941-unsplash.jpg"
   ]
  },
  {
   "cell_type": "markdown",
   "metadata": {},
   "source": [
    "不管如何，我都希望你能從我的故事裡頭獲得些啟發，重新思考你自己的學習，並做一些好的改變。"
   ]
  },
  {
   "cell_type": "markdown",
   "metadata": {},
   "source": [
    "## 布魯塞爾美麗風景"
   ]
  },
  {
   "cell_type": "markdown",
   "metadata": {},
   "source": [
    "篇幅有限，這邊簡單跟你分享這次旅程中我所看到的一些美麗景色。"
   ]
  },
  {
   "cell_type": "markdown",
   "metadata": {},
   "source": [
    "!image\n",
    "- emnlp2018/IMG_1186.jpg\n",
    "- EMNLP 會場附近風光"
   ]
  },
  {
   "cell_type": "markdown",
   "metadata": {},
   "source": [
    "!image\n",
    "- emnlp2018/Grand-Place.jpg\n",
    "- 布魯塞爾大廣場"
   ]
  },
  {
   "cell_type": "markdown",
   "metadata": {},
   "source": [
    "!image\n",
    "- emnlp2018/Cathedrale-des.jpg\n",
    "- 聖彌額爾聖古都勒主教座堂"
   ]
  },
  {
   "cell_type": "markdown",
   "metadata": {},
   "source": [
    "!image\n",
    "- emnlp2018/Cathedrale-des-inner.jpg\n",
    "- 主教座堂內部"
   ]
  },
  {
   "cell_type": "markdown",
   "metadata": {},
   "source": [
    "!image\n",
    "- emnlp2018/Basilique-Nationale-2.jpg\n",
    "- 聖心聖殿"
   ]
  },
  {
   "cell_type": "markdown",
   "metadata": {},
   "source": [
    "!image\n",
    "- emnlp2018/Basilique-Nationale-inner.jpg\n",
    "- 聖殿內部"
   ]
  },
  {
   "cell_type": "markdown",
   "metadata": {},
   "source": [
    "!image\n",
    "- emnlp2018/Basilique-Nationale.jpg\n",
    "- 從聖心聖殿眺望布魯塞爾"
   ]
  },
  {
   "cell_type": "markdown",
   "metadata": {},
   "source": [
    "這趟旅途雖然到此告一段落，但讓我們在下次的 NLP 文章再次碰面吧！：）"
   ]
  }
 ],
 "metadata": {
  "kernelspec": {
   "display_name": "Python 3",
   "language": "python",
   "name": "python3"
  },
  "language_info": {
   "codemirror_mode": {
    "name": "ipython",
    "version": 3
   },
   "file_extension": ".py",
   "mimetype": "text/x-python",
   "name": "python",
   "nbconvert_exporter": "python",
   "pygments_lexer": "ipython3",
   "version": "3.7.0"
  }
 },
 "nbformat": 4,
 "nbformat_minor": 2
}
