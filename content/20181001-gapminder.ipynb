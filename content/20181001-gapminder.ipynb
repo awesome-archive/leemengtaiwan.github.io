{
 "cells": [
  {
   "cell_type": "markdown",
   "metadata": {},
   "source": [
    "- author: Lee Meng\n",
    "- date: 2018-10-08 08:00\n",
    "- title: 如何用 30 秒了解台灣發展與全球趨勢：用 GapMinder 培養正確世界觀\n",
    "- slug: gapminder\n",
    "- tags: GapMinder, 資料視覺化\n",
    "- description: \n",
    "- summary: \n",
    "- image: taiwan-in-the-center-of-earth.jpg\n",
    "- image_credit_url: https://earth.google.com/\n",
    "- render_gapminder: true\n",
    "- status: draft"
   ]
  },
  {
   "cell_type": "markdown",
   "metadata": {},
   "source": [
    "<br/>\n",
    "<br/>\n",
    "拉回上圖，再稍微花個 5 秒鐘咀嚼一下你所看到的。\n",
    "\n",
    "現在告訴我，你看到了什麼？"
   ]
  },
  {
   "cell_type": "markdown",
   "metadata": {},
   "source": [
    "在這個資訊爆炸的時代，大腦為了保護你的心智不被大量數據淹沒，可能已經習慣忽視眼前的數據其背後所隱含的意義。\n",
    "\n",
    "但讓我提醒你一下，就在剛剛的 30 秒內，過去 200 年至今全世界的經濟（所得收入）與社會（平均壽命）發展狀況活生生地重現在你眼前！這可不是小時候歷史老師會秀給你看的東西。我不知道你感受如何，但在我[第一次見識到此圖](https://www.ted.com/talks/hans_rosling_shows_the_best_stats_you_ve_ever_seen)的時候，內心可說是激動得不得了！\n",
    "\n",
    "\n",
    "<center>\n",
    "    <a href=\"https://www.ted.com/talks/hans_rosling_shows_the_best_stats_you_ve_ever_seen#t-249222\" target=\"_blank\">\n",
    "        <img src=\"{filename}images/gapminder/ted-video-screenshot.jpg\" style=\"\"/>\n",
    "    </a>\n",
    "</center>\n",
    "<center>\n",
    "    瑞典全球公衛教授 <a href=\"https://zh.wikipedia.org/zh-tw/%E6%B1%89%E6%96%AF%C2%B7%E7%BD%97%E6%96%AF%E6%9E%97\" target=\"_blank\">漢斯・羅斯林</a> \n",
    "    <br/>\n",
    "    2006 年在 TED 利用上面的泡泡圖向觀眾們解說世界的經濟與社會發展\n",
    "    <br/>\n",
    "    <br/>\n",
    "    <br/>\n",
    "</center>\n",
    "\n",
    "\n",
    "將專注拉回台灣。看著台灣的發展軌跡，你甚至還可以發現一些值得注意的現象：\n",
    "- 1939 至 1945 年，人民所得以及平均壽命走倒車（二戰）\n",
    "- 1945 至 1953 年國民平均壽命的大幅提升，所得回歸正常\n",
    "- 1960 年代以後，經濟與社會的持續穩定發展\n",
    "- 2000 年後成長趨緩（多數國家也是如此）\n",
    "\n",
    "<center>\n",
    "    <img src=\"{filename}images/gapminder/tw-demo.jpg\" style=\"\"/>\n",
    "</center>\n",
    "<center>\n",
    "    泡泡圖除了可以讓我們觀察世界趨勢，也能同時了解台灣的發展軌跡以及與其他國家的相對位置\n",
    "    <br/>\n",
    "    <br/>\n",
    "    <br/>\n",
    "</center>\n",
    "\n",
    "除了發展軌跡以外，將全球考慮進去，還能發現台灣在右上角，名列前茅。\n",
    "\n",
    "你應該還有很多其他發現，並且迫不及待地想要了解更多。\n",
    "\n",
    "事實上，如果在看了剛剛的動畫以後，你突然渴望想要知道更多，想要更加地了解台灣或是其他不同的國家在各種社會 / 經濟 / 健康指標的發展（如所得收入、兒童死亡率、二氧化碳排放量等），我鼓勵你先上去改改 X 或 Y 軸、點選不同國家，查看結果以後再繼續往下讀。畢竟文章跑不掉，你的好奇心則可能在幾秒鐘後消逝：）\n",
    "\n",
    "你回來了嗎？\n",
    "\n",
    "你現在應該已經暸解，透過值得信賴的數據來源（比方說[聯合國](https://www.gapminder.org/data/documentation/gd004/)）以及良好的呈現方式（文章開頭的泡泡圖），你能在很短時間內「正確」地掌握全世界趨勢以及台灣的發展狀況。儘管媒體總是報憂不報喜，你會發現全世界大致上變得越來越好；你也會發現以「人均收入」以及「平均壽命」的角度來看，台灣的表現在全世界也是名列前茅，這點值得我們欣慰及驕傲。\n",
    "\n",
    "<center>\n",
    "    <img src=\"{filename}images/gapminder/factfulness-cover.jpg\" style=\"\"/>\n",
    "</center>\n",
    "<center>\n",
    "    《真確》是 2018 年由漢斯・羅斯林（Hans Rosling）所撰。在這本書裡，羅斯林教授闡述如何利用數據以及正確心態來理解世界，是一本深具啟發性的著作。而本頁的「泡泡圖」則是他在傳達知識時，經常使用到的工具。（圖片來源：<a href=\"https://meet.eslite.com/tw/tc/product/201807030007\" target=\"_blank\">迷誠品</a>）\n",
    "    <br/>\n",
    "    <br/>\n",
    "    <br/>\n",
    "</center>\n",
    "\n",
    "首先你需要知道，文中的泡泡圖（Bubble Chart）的開發以及各個國家的數據整理，並非由我獨自完成，而是由漢斯・羅斯林教授與他所創辦的 [GapMinder 基金會](https://www.gapminder.org/)從各個地方（比方說聯合國、國際衛生組織）蒐集、整理並[開源](https://github.com/Gapminder)而來。（給他們點掌聲！）事實上，你可以直接使用[官方的泡泡圖](https://www.gapminder.org/tools/)，或是像本文一樣，依照[這邊的教學](https://bl.ocks.org/angieskazka/ed82b664173a9023fa8a)來將泡泡圖內嵌在你自己的網站裡頭。\n",
    "\n",
    "我知道你在想什麼。\n",
    "\n",
    "「既然官方都已經有泡泡圖了，為何你要在這裡再弄一個出來呢？」\n",
    "\n",
    "非常好的問題。我會在[為何需要本文的泡泡圖？](#為何需要本文的泡泡圖？)章節裡頭仔細說明。（提示：跟台灣有關係）\n",
    "\n",
    "在這邊想要讓你知道的是，文章接下來會說明泡泡圖裡頭有什麼台灣數據可供你探索，以及提供幾個簡單的探索例子，讓你可以熟悉泡泡圖的使用方式，並利用它來更深入瞭解台灣以及培養正確的世界觀。最重要的是，在有了正確的世界觀以後，你能怎樣讓世界以及台灣變得更加美好。\n",
    "\n",
    "前言很長，不過接下來才是重頭戲。準備好了就跟上來吧！"
   ]
  },
  {
   "cell_type": "markdown",
   "metadata": {},
   "source": [
    "## 本文章節\n",
    "- [為何需要本文的泡泡圖？](#為何需要本文的泡泡圖？)\n",
    "- [有什麼台灣數據可供探索？](#有什麼台灣數據可供探索？)\n",
    "- [泡泡圖探索例子](#泡泡圖探索例子)\n",
    "- 如何培養正確世界觀：幾個例子\n",
    "    - 小心鴻溝！\n",
    "    - 小心過度關注 Outliers！\n",
    "    - （以 hanse 的 10 條守則，舉台灣的資料為例）\n",
    "- 你能做些什麼？\n",
    "- 結語\n",
    "    - 懷疑數據\n",
    "    - 致謝"
   ]
  },
  {
   "cell_type": "markdown",
   "metadata": {},
   "source": [
    "## 為何需要本文的泡泡圖？\n",
    "\n",
    "你可能在想，何必大費周章地弄出此頁面的泡泡圖呢？畢竟，只要使用 GapMinder 基金會（以下簡稱 GapMinder）[官方釋出的泡泡圖](https://www.gapminder.org/tools/#)就可以探索「全世界」與「台灣」了啊？\n",
    "\n",
    "這句話只對了前半段。\n",
    "\n",
    "第一，如同下面截圖所示，目前官方的泡泡圖只有英文，沒有繁體中文版本。\n",
    "\n",
    "雖然台灣人的英文能力普遍不差，但是要所有人把各個國家的英文名字背起來可不是一件簡單的事情（還記得東帝汶或剛果共和國的英文嗎？）；更不用說聯合國以及各個國際組織定義的社會 / 經濟 / 公衛指標的英文了（還記得結核病以及肺炎怎麼唸嗎？）。\n",
    "\n",
    "我們看泡泡圖的主要目的是為了瞭解世界，而不是學習英翻中。\n",
    "\n",
    "<center>\n",
    "    <img src=\"{filename}images/gapminder/official-page.jpg\" style=\"\"/>\n",
    "</center>\n",
    "<center>\n",
    "    GapMinder 釋出的<a href=\"https://www.gapminder.org/tools/#\" target=\"_blank\">泡泡圖</a>截圖。在右邊的清單搜尋「 Taiwan 」不會有結果\n",
    "    <br/>\n",
    "    <br/>\n",
    "    <br/>\n",
    "</center>\n",
    "\n",
    "第二，也是最致命的一點。\n",
    "\n",
    "從上面的截圖你可以看到，在我撰寫此文的這個時間點（2018/10/01），在 [GapMinder 上的泡泡圖](https://www.gapminder.org/tools/#)裡頭，你並無法找到「 Taiwan 」的存在。\n",
    "\n",
    "你沒看錯，有 2,300 多萬人口的台灣並不存在 GapMinder 的泡泡圖之中。\n",
    "\n",
    "依據 <a href=\"https://getsatisfaction.com/gapminder/topics/what-happened-to-taiwan-it-used-to-be-included\" target=\"_blank\">GapMinder 的說法</a>，泡泡圖預設只顯示<a href=\"http://www.un.org/en/member-states/#gotoT\" target=\"_blank\">聯合國會員國</a>，所以理所當然台灣不會被顯示在上面。 2018 年 7 月，GapMinder 表示<a href=\"https://getsatisfaction.com/gapminder/topics/i-really-want-to-know-what-is-the-latest-situation-of-those-countries\" target=\"_blank\">他們正在想辦法讓非聯合國會員國（如台灣、香港）也能被加到泡泡圖裡頭</a>，但自從那之後已經過了數個月。我不怪他們，畢竟他們是非營利機構，人手有限且已經為世界做出很多貢獻了。\n",
    "\n",
    "<center>\n",
    "    <img src=\"{filename}images/gapminder/united-nations-headquarters.jpg\" style=\"\"/>\n",
    "</center>\n",
    "<center>\n",
    "    聯合國總部，紐約（圖片來源：<a href=\"https://foreignpolicy.com/2017/03/13/white-house-seeks-to-cut-billions-in-funding-for-united-nations/\" target=\"_blank\">Foreign Policy</a>）\n",
    "    <br/>\n",
    "    <br/>\n",
    "    <br/>\n",
    "</center>\n",
    "\n",
    "我無法忍受在閱讀完《真確》，想要開始探索世界的時候，發現那個世界裡頭竟然沒有熟悉的台灣。\n",
    "\n",
    "後來的故事你大概猜得到了。我開始研究 GapMinder [製作泡泡圖的程式碼](https://github.com/vizabi/vizabi)以及[數據儲存格式](https://github.com/open-numbers/ddf--gapminder--systema_globalis)。我寫些程式、閱讀聯合國以及各個國際組織說明指標的文章以後，把台灣「駭」進泡泡圖的國家列表裡頭，並將所有國家名稱以及（幾乎）所有指標翻成中文，就完成你在文章開頭看到的泡泡圖了。（感謝 Google 大神以及咖啡因！）\n",
    "\n",
    "為了避免贅述，我在這章節不會提到所有技術細節。但如果你願意協助翻譯、增加新的台灣數據或是有任何改善泡泡圖的想法，歡迎在本文留言或是查看[你能做些什麼？](#你能做些什麼？)章節。\n",
    "\n",
    "現在，在了解本文泡泡圖的典故之後，讓我們看一下目前的泡泡圖裡頭有哪些台灣數據可供你探索。"
   ]
  },
  {
   "cell_type": "markdown",
   "metadata": {},
   "source": [
    "## 有什麼台灣數據可供探索？\n",
    "\n",
    "GapMinder 將所有搜集來的資料整理在這個 [Github Repo](https://github.com/open-numbers/ddf--gapminder--systema_globalis) 裡頭，也是本文泡泡圖的數據來源。\n",
    "\n",
    "理想上，每個指標（如二氧化碳排放量、國民平均壽命、人均收入）都會（或者說都要）包含每個國家及地區每年的資料。但你可以想像，這不太可能實現。\n",
    "\n",
    "實際上，依照不同國家的數據開放狀況、不同國際組織蒐集數據的方法，可能造成某些指標裡頭沒有某些國家的資料。\n",
    "\n",
    "以台灣為例，透過分析 GapMinder 數據來源，我們可以知道，截至目前為止，泡泡圖裡頭總共有 500 多個指標，其中約有 40 % （ 200 個 ）指標含有台灣數據。\n",
    "\n",
    "<center>\n",
    "    <img src=\"{filename}images/gapminder/gapminder-indicators-with-twn.svg\"/>\n",
    "</center>\n",
    "<center>\n",
    "    （跟本文的泡泡圖以及數據來源一樣，此圖的資訊也會定期更新）\n",
    "    <br/>\n",
    "    <br/>\n",
    "    <br/>\n",
    "</center>\n",
    "\n",
    "如上圖所示，以大分類來看的話，「健康」、「工作」以及「進階用途」等分類中有較多的資料可供我們檢視台灣的狀況並與其他國家做比較；相較之下，「能源」及「經濟」涵蓋的台灣指標較少，公共建設分類則只有 1 個（交通死亡人數）。\n",
    "\n",
    "健康分類中，屬男女的「癌症」相關數據最為完整：大腸癌、胃癌、肝癌、乳癌、攝護腺癌 .. 應有盡有。\n",
    "\n",
    "工作分類則有各個年齡層的失業 / 就業率及「勞動參與率」等指標，你可以自行稍後在泡泡圖上查看。\n",
    "\n",
    "不過實際上，你也不需記住哪些分類有多少台灣數據。\n",
    "\n",
    "<center>\n",
    "    <img src=\"{filename}images/gapminder/menu-demo.png\"/>\n",
    "</center>\n",
    "<center>\n",
    "    利用泡泡圖的選單，我們可以馬上知道每個分類底下有多少指標、有哪些指標有台灣數據、最早的年份為何\n",
    "    <br/>\n",
    "    <br/>\n",
    "    <br/>\n",
    "</center>\n",
    "\n",
    "如果你剛剛有把玩泡泡圖的話，可能會好奇在每個分類後面的數字代表什麼。圖中健康分類後面的 `（63/166）`　代表在泡泡圖中，健康分類底下總共有 166 個指標，而其中的 63 個有台灣數據。這跟我們上一張長條圖吻合。\n",
    "\n",
    "現在看到上圖最右邊的「肺癌病例數」：指標名稱後面的 `（1990 ~` 則代表在該指標中，台灣數據最早可以追溯到西元 1990 年。有了這些額外資訊，可以讓你更方便地探索台灣與世界的關係。\n",
    "\n",
    "值得一提的是，以上的結果僅代表 GapMinder 目前有的數據。他們持續努力地在添加新的數據，而我們也能想辦法自己增加新的數據。我預計在未來導入更多台灣數據，但現在，先讓我們從已有的指標裡頭選幾個探索看看吧！"
   ]
  },
  {
   "cell_type": "markdown",
   "metadata": {},
   "source": [
    "## 泡泡圖探索例子\n",
    "在《真確》裡頭，漢斯・羅斯林教授已經展示了很多很棒的泡泡圖使用範例，在這個章節裡頭，我會列出一些不一樣的例子。"
   ]
  },
  {
   "cell_type": "markdown",
   "metadata": {},
   "source": [
    "### "
   ]
  },
  {
   "cell_type": "markdown",
   "metadata": {},
   "source": [
    "1. 進階用途 > Alternative child mortality data > Child mortality. More years. Version 7. (有 205 年資料，最早年份：1800)\n",
    "VS\n",
    "婦女人均嬰兒數\n",
    "key finding:\n",
    "- 1876 ~ 1955 兒童死亡率大幅下降，可能跟環境衛生改變相關？\n",
    "- 1955 後婦女生育率直線下降，可能跟觀念改變相關？\n",
    "        \n",
    "\n",
    "2. 進階用途 > corruption_perception_index_cpi_pre2012\n",
    "VS\n",
    "\n",
    "\n",
    "3. 進階用途 > Injury deaths by gender, age, road user > Motorcycle deaths /100k people\n",
    "泰國？？\n",
    "\n",
    "4. Dollar billionaires /1M people\n",
    "摩納哥？？\n",
    "\n",
    "\n",
    "肺癌 vs 吸菸\n",
    "\n",
    "兒童年長者數（每 100 位成人\n",
    "\n",
    "\n",
    "5. BMI men \n",
    "VS Colon & Rectum cancer \n",
    "- BMI 逐年增加，同時罹患大腸癌也上升\n",
    "\n",
    "6. oil VS coal\n",
    "新加坡石油！\n",
    "只有哈薩克跟奧大利雅比我們用的煤礦多\n",
    "\n",
    "7. 民主指數跟 所得收入\n",
    "- 我們在 1990 - 1992 大幅上升，1985- 1986 也是\n",
    "- 跟我們同分且所得更高的有美國、挪威\n",
    "- 民主指數不高但收入屌打的有新加坡，喀威特\n",
    "\n",
    "8. 民主 vs 謀殺\n",
    "\n",
    "9. gender ratio of female year in school VS democracy\n",
    "非洲在中間\n",
    "賴索托、卡達？？？\n",
    "中國又贏印度\n",
    "\n",
    "10. 平均壽命 vS 所得，但是 color 用宗教\n",
    "可以發現三大信仰的各個領頭羊：新加坡、卡達、盧森堡\n",
    "\n",
    "11. 最富 / 最窮 所得分配\n",
    "\n",
    "\n",
    "\n",
    "\n",
    "\n",
    "- 所得收入、平均壽命、二氧化碳排放量以及\n",
    "- 健康，尤其是癌症資料齊全\n",
    "- 教育中的平均在校年數\n",
    "- 環境中的排放量"
   ]
  },
  {
   "cell_type": "markdown",
   "metadata": {},
   "source": [
    "這麼多的國家、這麼多的指標，探索方式只會受限於我們的想像力。\n",
    "\n",
    "你的好奇心絕對可以帶領你找到更多有趣的東西。如果你自己在使用泡泡圖的時候發現一些有趣、想要分享的發現或是洞見（Insight）的話，歡迎截圖後在底下留言讓我知道，我會想辦法把它們加到文章裡頭：）"
   ]
  },
  {
   "cell_type": "markdown",
   "metadata": {},
   "source": [
    "## 背景：小心鴻溝！"
   ]
  },
  {
   "cell_type": "code",
   "execution_count": null,
   "metadata": {},
   "outputs": [],
   "source": [
    "\n",
    "我去官網用不就好了嗎？為何要在這邊看？\n",
    "- 非聯合國會員 （所以沒顯示）\n",
    "- 全英文，更不用說翻譯了\n",
    "\n",
    "\n",
    "像 hans loing  致敬\n",
    "\n",
    "\n",
    "政府常常在說公開資料，但是沒有人用也等於沒用\n",
    "\n",
    "gap minder: mind the gap! 世界不是二分法！\n",
    "\n"
   ]
  },
  {
   "cell_type": "markdown",
   "metadata": {},
   "source": [
    "## 小心過度關注 outlier ！\n",
    "- 印尼強震（https://asean.thenewslens.com/article/105086?tnl_source=fb01）\n",
    "\n"
   ]
  },
  {
   "cell_type": "markdown",
   "metadata": {},
   "source": [
    "## 一些數據"
   ]
  },
  {
   "cell_type": "code",
   "execution_count": null,
   "metadata": {},
   "outputs": [],
   "source": []
  },
  {
   "cell_type": "markdown",
   "metadata": {},
   "source": [
    "儘管用大量的數據以及這種圖表，讓我們彷彿站在上帝視角綜觀一切，我們也需要注意到數據背後的故事。\n",
    "（而且就算我們看到台灣整體不錯，也要注意也是有人過得苦。除了平均也要看分佈）\n",
    "\n",
    "我們不完美，有很多要改進，但是我們一直在進步"
   ]
  },
  {
   "cell_type": "markdown",
   "metadata": {},
   "source": [
    "## 懷疑數據\n",
    "data doubt\n",
    "\n"
   ]
  },
  {
   "cell_type": "markdown",
   "metadata": {},
   "source": [
    "## 你能做些什麼？\n",
    "\n",
    "如果你是資料科學家： 一圖勝過千言萬語，以圖為輔，培養說故事能力\n",
    "如果你是家長、老師： help your child and studnet know the world by triggering their curiousity, not by cramming them numbers. 探討 why 而不是 \n",
    "協助翻譯！\n",
    "聯絡 Gapminder, 加入更多台灣資料\n",
    "查看 真確 一書\n",
    "查看 gapminder 官網，查看 dollar street\n",
    "對世界多點好奇，探索！\n",
    "幫忙分享！\n",
    "截圖告訴我，你有什麼發現\n",
    "做個 gapminder test\n",
    "貢獻 / 更多例子\n",
    "    - 跟我說你覺得你可以貢獻什麼，或者去 push GapMinder, 增加更多台灣資料\n",
    "    - 如果你發現什麼有趣的發現，歡迎跟我說，我會更新到文章裡頭！\n",
    "    \n",
    "\n",
    "我不是經濟、公衛、社會專家，歡迎指正，並提供很多回饋。"
   ]
  },
  {
   "cell_type": "markdown",
   "metadata": {},
   "source": [
    "## 結語"
   ]
  },
  {
   "cell_type": "raw",
   "metadata": {},
   "source": [
    "探索台灣是一個好的開始，但沒台灣資料應該也不影響你探索世界。就算沒台灣數據，你也可以多多了解各國在不同指標的表現\n",
    "\n",
    "我希望你享受我們這趟探索之旅，並期待再次與你相見。\n",
    "\n",
    "\n",
    "\n",
    "我們需要更多台灣資料（給自己，給下一代）！\n",
    "\n",
    "Caveat\n",
    "- 裡頭是對世界的基本素養，資料濃縮變得易懂了，但是我們不能只看平均（所得分佈越來越誇張）\n",
    "- 以前可能我們看所得就夠了，但現在我們需要新的指標，比方說收入最高的10%佔多少財富、是最低 10% 的幾倍\n",
    "\n",
    "\n",
    "致謝：\n",
    "- gapminder\n",
    "-hans roling, 雖然他已經不在人世，我要謝謝他帶我用更宏觀、正確的態度來理解世界，帶給我無數啟發。這篇文章是我對他的致敬。"
   ]
  }
 ],
 "metadata": {
  "kernelspec": {
   "display_name": "Python 3",
   "language": "python",
   "name": "python3"
  },
  "language_info": {
   "codemirror_mode": {
    "name": "ipython",
    "version": 3
   },
   "file_extension": ".py",
   "mimetype": "text/x-python",
   "name": "python",
   "nbconvert_exporter": "python",
   "pygments_lexer": "ipython3",
   "version": "3.7.0"
  }
 },
 "nbformat": 4,
 "nbformat_minor": 2
}
