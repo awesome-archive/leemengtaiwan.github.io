{
 "cells": [
  {
   "cell_type": "markdown",
   "metadata": {},
   "source": [
    "- author: Lee Meng\n",
    "- date: 2018-10-08 01:50\n",
    "- title: 如何用 30 秒了解台灣發展與全球趨勢：用 GapMinder 培養正確世界觀\n",
    "- slug: gapminder\n",
    "- tags: GapMinder, 資料視覺化, 資料科學\n",
    "- description: 這篇文章提供你一個輕鬆探索台灣與世界的資料視覺化工具：GapMinder 中文版。除了工具本身以外，文中會透過大量動態的資訊圖表以及各國公開數據來帶你探索台灣以及世界。閱讀本文之後，你將了解全球的發展趨勢、對台灣的社會、經濟以及能源發展有個基礎認知，並重新建立一個宏觀、積極的世界觀。\n",
    "- summary: 這篇文章提供你一個輕鬆探索台灣與世界的資料視覺化工具：GapMinder 中文版。除了工具本身以外，文中會透過大量動態的資訊圖表以及各國公開數據來帶你探索台灣以及世界。閱讀本文之後，你將了解全球的發展趨勢、對台灣的社會、經濟以及能源發展有個基礎認知，並重新建立一個宏觀、積極的世界觀。\n",
    "- image: taiwan-in-the-center-of-earth.jpg\n",
    "- image_credit_url: https://earth.google.com/\n",
    "- render_gapminder: true\n",
    "- permalink_id: test"
   ]
  },
  {
   "cell_type": "markdown",
   "metadata": {},
   "source": [
    "<br/>\n",
    "<br/>\n",
    "再稍微花個 5 秒鐘咀嚼一下你所看到的。\n",
    "\n",
    "現在問你自己，你看到了什麼？"
   ]
  },
  {
   "cell_type": "markdown",
   "metadata": {},
   "source": [
    "在這個資訊爆炸的時代，大腦為了保護你的心智不被大量數據淹沒，可能已經很習慣性地忽視眼前數據其背後所隱含的意義。\n",
    "\n",
    "但讓我提醒你一下，就在剛剛的 30 秒內，全世界過去 200 年至今的經濟（所得收入）與社會（平均壽命）發展狀況活生生地重現在你眼前！\n",
    "\n",
    "這可不是小時候歷史老師會 / 能秀給你看的東西（至少我的老師沒有）我不知道你感受如何，但在我[第一次見識到此圖](https://www.ted.com/talks/hans_rosling_shows_the_best_stats_you_ve_ever_seen)的時候，內心可說是激動得不得了！"
   ]
  },
  {
   "cell_type": "markdown",
   "metadata": {},
   "source": [
    "!image\n",
    "- gapminder/ted-video-screenshot.jpg\n",
    "- 瑞典全球公衛教授漢斯・羅斯林 2006 年在 TED 利用上面的泡泡圖向觀眾們解說世界的經濟與社會發展\n",
    "- https://www.ted.com/talks/hans_rosling_shows_the_best_stats_you_ve_ever_seen#t-249222"
   ]
  },
  {
   "cell_type": "markdown",
   "metadata": {},
   "source": [
    "將專注拉回台灣。看著台灣的發展軌跡，你甚至還可以發現一些值得注意的現象：\n",
    "- 1939 至 1945 年，人民所得以及平均壽命走倒車（二戰）\n",
    "- 1945 至 1953 年國民平均壽命的大幅提升，所得回歸正常\n",
    "- 1960 年代以後，經濟與社會的持續穩定發展\n",
    "- 2000 年後成長趨緩\n",
    "\n",
    "除了本身的發展軌跡以外，還可以發現到了 21 世紀，台灣在右上角，名列前茅。"
   ]
  },
  {
   "cell_type": "markdown",
   "metadata": {},
   "source": [
    "!mp4\n",
    "- dark\n",
    "- images/gapminder/taiwan-development.mp4\n",
    "- images/gapminder/taiwan-development.jpg\n",
    "- 泡泡圖除了可以讓我們觀察世界趨勢，也能同時了解台灣的發展軌跡以及與其他國家的相對位置"
   ]
  },
  {
   "cell_type": "markdown",
   "metadata": {},
   "source": [
    "剛剛在看圖的時候，你應該還有很多其他發現且迫不及待地想要了解更多。\n",
    "\n",
    "事實上，如果在看了剛剛的動畫以後，你突然渴望想要知道更多是很正常的。"
   ]
  },
  {
   "cell_type": "markdown",
   "metadata": {},
   "source": [
    "!quote\n",
    "- 重要的是不要停止問問題，好奇心有其存在的理由。\n",
    "- 愛因斯坦"
   ]
  },
  {
   "cell_type": "markdown",
   "metadata": {},
   "source": [
    "如果你現在想要更加地了解台灣或是其他不同的國家在各種社會 / 經濟 / 健康指標的發展（如所得收入、兒童死亡率、二氧化碳排放量等），我鼓勵你先上去改改 X 或 Y 軸、點選不同國家，查看結果以後再繼續往下讀。\n",
    "\n",
    "畢竟文章跑不掉，你的好奇心則可能在幾秒鐘後消逝：）"
   ]
  },
  {
   "cell_type": "markdown",
   "metadata": {},
   "source": [
    "!image\n",
    "- airflow/thought-2123970_1280.jpg"
   ]
  },
  {
   "cell_type": "markdown",
   "metadata": {},
   "source": [
    "你回來了嗎？\n",
    "\n",
    "你現在應該已經暸解，透過值得信賴的數據來源（比方說[聯合國](https://www.gapminder.org/data/documentation/gd004/)）以及良好的呈現方式（文章開頭的泡泡圖），能讓你在很短時間內「正確」地掌握全世界趨勢以及台灣的發展狀況。\n",
    "\n",
    "儘管媒體總是報憂不報喜，你會發現全世界大致上變得越來越好。\n",
    "\n",
    "你也會發現以「人均收入」以及「平均壽命」的角度來看，台灣的表現在全世界也是數一數二，這點值得我們欣慰及驕傲。"
   ]
  },
  {
   "cell_type": "markdown",
   "metadata": {},
   "source": [
    "!image\n",
    "- gapminder/factfulness-cover.jpg\n",
    "- 《真確》是 2018 年由漢斯・羅斯林（Hans Rosling）所撰\n",
    "- https://meet.eslite.com/tw/tc/product/201807030007\n",
    "- 迷誠品"
   ]
  },
  {
   "cell_type": "markdown",
   "metadata": {},
   "source": [
    "在《真確》這本書裡，羅斯林教授闡述如何利用數據以及正確心態來理解世界，是一本深具啟發性的著作。而「泡泡圖」則是他在傳達知識時，經常使用到的工具。\n",
    "\n",
    "首先你需要知道，文中的泡泡圖（Bubble Chart）的開發以及各個國家的數據整理，並非由我獨自完成，而是由漢斯・羅斯林教授與他所創辦的 [GapMinder 基金會](https://www.gapminder.org/)從多個國際組織（如聯合國、國際衛生組織、世界銀行等）[蒐集、整理](https://github.com/Gapminder)而來。（給他們點掌聲！）\n",
    "\n",
    "事實上，你可以直接使用[官方的泡泡圖](https://www.gapminder.org/tools/)，或是像本文一樣，依照[這邊的教學](https://bl.ocks.org/angieskazka/ed82b664173a9023fa8a)來將泡泡圖內嵌在你自己的網站裡頭。\n",
    "\n",
    "我知道你在想什麼。\n",
    "\n",
    "「既然官方都已經有泡泡圖了，為何你要在這裡再弄一個出來呢？」"
   ]
  },
  {
   "cell_type": "markdown",
   "metadata": {},
   "source": [
    "!image\n",
    "- style:width:80%;\n",
    "- gapminder/emily-morter-188019-unsplash.jpg"
   ]
  },
  {
   "cell_type": "markdown",
   "metadata": {},
   "source": [
    "非常好的問題，但讓我先賣個關子。\n",
    "\n",
    "我會在[為何需要本文的泡泡圖？](#為何需要本文的泡泡圖？)章節裡頭仔細說明。（提示：跟台灣有關係）\n",
    "\n",
    "在這邊想先讓你知道的是，文章接下來會說明泡泡圖裡頭有什麼台灣數據可供你探索，以及提供一些探索台灣以及世界的例子，讓你在了解世界的同時熟悉泡泡圖的使用方式。\n",
    "\n",
    "等你熟悉泡泡圖以後，可以利用它來更深入瞭解台灣與以及任何你有興趣的國家，並培養正確的世界觀。最重要的是，在有了正確思維以後，你能怎樣讓世界以及台灣變得更加美好。\n",
    "\n",
    "前言很長，不過接下來才是重頭戲。準備好了就跟上我們的探索之旅吧！"
   ]
  },
  {
   "cell_type": "markdown",
   "metadata": {},
   "source": [
    "## 本文章節\n",
    "- [為何需要本文的泡泡圖？](#為何需要本文的泡泡圖？)\n",
    "- [有什麼台灣數據可供探索？](#有什麼台灣數據可供探索？)\n",
    "- [用泡泡圖探索世界](#用泡泡圖探索世界)\n",
    "    - [媽媽不生寶寶了：生育率大幅下降](#媽媽不生寶寶了：生育率大幅下降)\n",
    "    - [怎麼創造乾淨未來：煤炭消耗與環境污染](#怎麼創造乾淨未來：煤炭消耗與環境污染)\n",
    "    - [民主大躍進：我很自由，不過不想參與政治](#民主大躍進：我很自由，不過不想參與政治)\n",
    "- [看到數據背後的故事](#story-behind-data)\n",
    "- [你能怎樣讓世界更好？](#你能怎樣讓世界更好？)"
   ]
  },
  {
   "cell_type": "markdown",
   "metadata": {},
   "source": [
    "## 為何需要本文的泡泡圖？\n",
    "\n",
    "你可能在想，何必要大費周章地弄出自己的泡泡圖。畢竟，只要使用 GapMinder 基金會（以下簡稱 GapMinder）[官方釋出的泡泡圖](https://www.gapminder.org/tools/#)就可以透過數據來探索「全世界」與「台灣」了啊？\n",
    "\n",
    "這句話只對了前半段。\n",
    "\n",
    "第一個沒有那麼嚴重但是有點令人困擾的問題是，目前官方的泡泡圖只有英文，沒有繁體中文。\n",
    "\n",
    "雖然台灣人的英文能力普遍不差，但是要所有人在看到每個國家的英文名字後馬上反應出來，可不是一件簡單的事情。\n",
    "\n",
    "你還有多少把握可以認出東帝汶或柬埔寨的英文名字？（提示：下圖有其中一個）"
   ]
  },
  {
   "cell_type": "markdown",
   "metadata": {},
   "source": [
    "!image\n",
    "- gapminder/chuttersnap-176806-unsplash.jpg"
   ]
  },
  {
   "cell_type": "markdown",
   "metadata": {},
   "source": [
    "更不用說聯合國以及各個國際組織定義的各式各樣社會 / 經濟 / 公衛指標的英文了。（還記得結核病、旱災或是償債出口比怎麼唸嗎？）\n",
    "\n",
    "我們看泡泡圖的主要目的是為了瞭解世界，而不是學習翻譯各種英文專業術語。\n",
    "\n",
    "就算這樣講，英翻中或許問問 Google 還是勉強可以解決。但官方泡泡圖存在的第二個問題，則非常致命。"
   ]
  },
  {
   "cell_type": "markdown",
   "metadata": {},
   "source": [
    "!image\n",
    "- dark\n",
    "- gapminder/official-page.jpg\n",
    "- GapMinder 釋出的泡泡圖。在右邊的清單搜尋「 Taiwan 」不會有結果\n",
    "- https://www.gapminder.org/tools/#"
   ]
  },
  {
   "cell_type": "markdown",
   "metadata": {},
   "source": [
    "在我撰寫此文的這個時間點（2018 年 10 月），在 [GapMinder 上的泡泡圖](https://www.gapminder.org/tools/#)裡頭，你並無法找到「 Taiwan 」的存在。\n",
    "\n",
    "沒錯，你可以現在[去搜尋看看](https://www.gapminder.org/tools/#)。然後你會發現有 2,300 多萬人口的台灣並不存在 GapMinder 的泡泡圖之中。\n",
    "\n",
    "依據 <a href=\"https://getsatisfaction.com/gapminder/topics/what-happened-to-taiwan-it-used-to-be-included\" target=\"_blank\">GapMinder 的說法</a>，泡泡圖預設只顯示<a href=\"http://www.un.org/en/member-states/#gotoT\" target=\"_blank\">聯合國會員國</a>。因此理所當然地，台灣不會被顯示在上面。"
   ]
  },
  {
   "cell_type": "markdown",
   "metadata": {},
   "source": [
    "!image\n",
    "- gapminder/keith-lee-803568-unsplash.jpg\n",
    "- 儘管沒有在聯合國裡頭，在台灣努力生活的人們確確實實地存在著\n",
    "- https://unsplash.com/photos/nYq3nW9Z9ok\n",
    "- 寧夏夜市"
   ]
  },
  {
   "cell_type": "markdown",
   "metadata": {},
   "source": [
    "2018 年 7 月，GapMinder 表示<a href=\"https://getsatisfaction.com/gapminder/topics/i-really-want-to-know-what-is-the-latest-situation-of-those-countries\" target=\"_blank\">他們正在想辦法讓非聯合國會員國（如台灣、香港）也能被加到泡泡圖裡頭</a>，但自從那之後已經過了數個月。\n",
    "\n",
    "我真的不怪他們，畢竟他們是非營利機構，人手有限且已經為世界做出很多貢獻了。"
   ]
  },
  {
   "cell_type": "markdown",
   "metadata": {},
   "source": [
    "!image\n",
    "- gapminder/united-nations-headquarters.jpg\n",
    "- 聯合國總部，紐約\n",
    "- https://foreignpolicy.com/2017/03/13/white-house-seeks-to-cut-billions-in-funding-for-united-nations/"
   ]
  },
  {
   "cell_type": "markdown",
   "metadata": {},
   "source": [
    "只是，我無法忍受在閱讀完《真確》並想要開始認真地探索這個世界的時候，發現裡頭竟然沒有熟悉的台灣。\n",
    "\n",
    "後來的故事你大概猜得到了。我開始研究 GapMinder [製作泡泡圖的程式碼](https://github.com/vizabi/vizabi)以及[數據儲存格式](https://github.com/open-numbers/ddf--gapminder--systema_globalis)。我寫些程式、閱讀聯合國以及各個國際組織的相關文獻以後，把台灣「駭」進泡泡圖的國家列表裡頭，並將裡頭所有國家以及（幾乎）所有指標翻譯成中文。你在文章開頭看到的泡泡圖就這樣誕生了。（感謝 Google 大神以及咖啡因！）\n",
    "\n",
    "現在，在了解本文泡泡圖的典故之後，讓我們看一下目前的泡泡圖裡頭有哪些台灣數據可供你探索。"
   ]
  },
  {
   "cell_type": "markdown",
   "metadata": {},
   "source": [
    "## 有什麼台灣數據可供探索？\n",
    "\n",
    "GapMinder 將所有搜集來的資料整理在這個 [Github Repo](https://github.com/open-numbers/ddf--gapminder--systema_globalis) 裡頭，也是本文泡泡圖的數據來源。\n",
    "\n",
    "理想上，每個指標（如二氧化碳排放量、國民平均壽命、人均收入）都會（或者說都要）包含每個國家及地區每年的資料才能方便我們做比較。但你可以想像，這不太可能實現。\n",
    "\n",
    "實際上，依照不同國家的數據開放狀況、國際組織蒐集數據的方法差異，都有可能造成指標裡頭沒有某些國家的資料。\n",
    "\n",
    "以台灣為例，透過分析 GapMinder 數據來源，我們可以知道，截至目前為止，泡泡圖裡頭總共有 500 多個指標，其中約有 40 % （ 200 個 ）指標含有台灣數據。"
   ]
  },
  {
   "cell_type": "markdown",
   "metadata": {},
   "source": [
    "!image\n",
    "- dark\n",
    "- gapminder/gapminder-indicators-with-twn.svg\n",
    "- （跟本文的泡泡圖以及數據來源一樣，此圖的資訊也會定期更新）"
   ]
  },
  {
   "cell_type": "markdown",
   "metadata": {},
   "source": [
    "以大分類來看的話，「健康」及「工作」分類有較多的資料可供我們檢視台灣的狀況並同時與其他國家做比較；相較之下，「社會」及「人口」涵蓋的台灣指標較少，公共建設分類則只有 1 個（交通死亡人數）。\n",
    "\n",
    "健康分類中，屬男女的「癌症」相關數據最為完整：大腸癌、胃癌、肝癌、乳癌、攝護腺癌 .. 應有盡有。\n",
    "\n",
    "工作分類則有各個年齡層的失業 / 就業率及「勞動參與率」等指標，你可以自行稍後在泡泡圖上查看。\n",
    "\n",
    "不過實際上，你也不需記住哪些分類有多少台灣數據。"
   ]
  },
  {
   "cell_type": "markdown",
   "metadata": {},
   "source": [
    "!image\n",
    "- gapminder/menu-demo.png\n",
    "- 利用泡泡圖的選單，我們可以馬上知道每個分類底下有多少指標、有哪些指標有台灣數據、最早的年份為何"
   ]
  },
  {
   "cell_type": "markdown",
   "metadata": {},
   "source": [
    "如果你剛剛有玩泡泡圖的話，可能會好奇在每個分類後面的數字代表什麼。圖中健康分類後面的 `（63/166）`　代表在泡泡圖中，健康分類底下總共有 166 個指標，而其中的 63 個有台灣數據。這跟我們上一張長條圖吻合。\n",
    "\n",
    "現在看到上圖第三欄的「肺癌病例數」：指標名稱後面的 `（1990 ~` 則代表在該指標中，台灣數據最早可以追溯到西元 1990 年。有了這些額外資訊，可以讓你更方便地探索台灣與世界的關係。\n",
    "\n",
    "值得一提的是，以上的結果僅代表 GapMinder 目前有的數據。他們持續努力地在添加新的數據，而我也預計在未來導入更多的台灣數據。但現在，先讓我們從已有的指標裡頭選幾個來探索看看吧！"
   ]
  },
  {
   "cell_type": "markdown",
   "metadata": {},
   "source": [
    "## 用泡泡圖探索世界\n",
    "在《真確》裡頭，漢斯・羅斯林教授已經向我們展示了很多很棒的泡泡圖範例。而在這個章節裡頭，我會列出一些自己利用泡泡圖探索世界以及了解台灣的例子。\n",
    "\n",
    "（小提醒：底下的圖幾乎都是動態的。如果你發現它們沒有動靜，請另外使用電腦或是手機上的瀏覽器開啟此頁連結以最佳化閱讀體驗，謝謝！）"
   ]
  },
  {
   "cell_type": "markdown",
   "metadata": {},
   "source": [
    "### 媽媽不生寶寶了：生育率大幅下降"
   ]
  },
  {
   "cell_type": "markdown",
   "metadata": {},
   "source": [
    "很多我們以為是常態的事物，事實上在幾十年前完全不存在。"
   ]
  },
  {
   "cell_type": "markdown",
   "metadata": {},
   "source": [
    "!mp4\n",
    "- dark\n",
    "- images/gapminder/decline-of-female-fertility.mp4\n",
    "- images/gapminder/decline-of-female-fertility.jpg"
   ]
  },
  {
   "cell_type": "markdown",
   "metadata": {},
   "source": [
    "以婦女人均嬰兒數為例，在 1950 年前，跟亞洲大多數國家相同，台灣每個婦女平均有 6 個嬰兒。現代大多數的年輕人應該無法想像這件事情。\n",
    "\n",
    "但我們可以看到從 1960 年代開始，婦女人均嬰兒數以不可思議的速度溜滑梯下降，直到近年每位婦女平均只有一名嬰兒。\n",
    "\n",
    "解釋歷史從來不簡單，但我們可以想像在當時，醫療技術以及節育概念還不高，間接造成較高的兒童死亡率。兒童的死亡率高，也就代表平均一位婦女需要生產更多嬰兒來延續後代。要證實這點，我們可以把 X 軸的「人均所得」換成「兒童死亡率」："
   ]
  },
  {
   "cell_type": "markdown",
   "metadata": {},
   "source": [
    "!mp4\n",
    "- dark\n",
    "- images/gapminder/femaile-fertility-vs-child-death-rate.mp4\n",
    "- images/gapminder/femaile-fertility-vs-child-death-rate.jpg"
   ]
  },
  {
   "cell_type": "markdown",
   "metadata": {},
   "source": [
    "不只台灣，我們可以發現全世界有一樣的趨勢：兒童死亡率下降，而同時媽媽們也不需再生那麼多寶寶。這現象很大部分是因為醫療進步、女性教育的普及以及家庭觀念的改變。\n",
    "\n",
    "另外從代表不同洲的顏色可以看到，在 2018 年，所有婦女人均嬰兒數 > 6 的國家都位在非洲。\n",
    "\n",
    "當然，婦女人均嬰兒數減少，同時也代表[高齡化社會的來臨](https://www.sfaa.gov.tw/SFAA/Pages/ashx/File.ashx?FilePath=~/File/Attach/1613/File_2086.pdf)。讓我們將 X 軸換成「60 歲以上人口佔總人口比例」以後，看看日本的發展："
   ]
  },
  {
   "cell_type": "markdown",
   "metadata": {},
   "source": [
    "!mp4\n",
    "- dark\n",
    "- images/gapminder/japan-child-death-vs-elder.mp4\n",
    "- images/gapminder/japan-child-death-vs-elder.jpg"
   ]
  },
  {
   "cell_type": "markdown",
   "metadata": {},
   "source": [
    "[日本的高齡化人口比例增加](http://www.stat.go.jp/data/topics/topi971.html)，也代表青壯年的負擔加重。不只日本，在未來要怎樣建立一個良好的長照制度，在台灣也是一個日漸重要的議題。"
   ]
  },
  {
   "cell_type": "markdown",
   "metadata": {},
   "source": [
    "### 怎麼創造乾淨未來：煤炭消耗與環境污染\n",
    "\n",
    "台灣能源供給高度仰賴進口，其進口量長期維持在 97 到 98 ％，而[煤炭又為台灣第二大主要進口能源](https://secured-static.greenpeace.org/taiwan/PageFiles/770030/%E5%85%A8%E7%90%83%E6%9A%A8%E5%8F%B0%E7%81%A3%E7%87%83%E7%85%A4%E7%99%BC%E9%9B%BB%E4%B8%8D%E5%8F%AF%E4%B8%8D%E7%9F%A5%E7%9A%84%E7%9C%9F%E7%9B%B8.pdf)。\n",
    "\n",
    "因為碳密度高，燃燒煤炭又會產生比其他化石燃料（石油、天然氣）來得更多的二氧化碳，造成更嚴重的氣候暖化以及環境破壞。讓我們看看從以前到現在，一個台灣人平均消耗的煤炭以及產生的二氧化碳的變化趨勢："
   ]
  },
  {
   "cell_type": "markdown",
   "metadata": {},
   "source": [
    "!mp4\n",
    "- dark\n",
    "- images/gapminder/coal-consumption.mp4\n",
    "- images/gapminder/coal-consumption.jpg"
   ]
  },
  {
   "cell_type": "markdown",
   "metadata": {},
   "source": [
    "我們可以看到從 1990 年起，台灣煤炭的人均消耗量（用來發電）快速增加，而同時人均二氧化碳的排放量也逐年增高。儘管近年趨向穩定，我們可以看到作為對照組的美國在 2010 年以後的人均煤炭消耗量已經低於我們。\n",
    "\n",
    "環境考量以及再生能源的成本下降，讓歐美各國的政府以及能源業者決定投向再生能源懷抱，但台灣似乎還想要[建立燃煤電廠](https://www.cmmedia.com.tw/home/articles/9316)。"
   ]
  },
  {
   "cell_type": "markdown",
   "metadata": {},
   "source": [
    "!image\n",
    "- dark\n",
    "- gapminder/coal-consumption-comparison.jpg"
   ]
  },
  {
   "cell_type": "markdown",
   "metadata": {},
   "source": [
    "在 2014 年時，只有哈薩克跟澳大利亞的煤炭消耗量超越我們。而作為世界第一煤炭出口國，澳洲自己也因為大量開挖煤炭而導致大堡礁的生態浩劫。\n",
    "\n",
    "怎麼減少煤炭消耗並維持人民生活水準（如提高再生能源利用率），是台灣的重要議題之一。"
   ]
  },
  {
   "cell_type": "markdown",
   "metadata": {},
   "source": [
    "### 民主大躍進：我很自由，不過不想參與政治"
   ]
  },
  {
   "cell_type": "markdown",
   "metadata": {},
   "source": [
    "對於現在的台灣人來說，「民主」是如吃飯喝水般的基本存在。\n",
    "\n",
    "但台灣的「民主」一直都存在嗎？要回答這個問題，我們可以看看台灣的[民主指數（Democracy Index）](https://zh.wikipedia.org/wiki/%E6%B0%91%E4%B8%BB%E6%8C%87%E6%95%B0)發展："
   ]
  },
  {
   "cell_type": "markdown",
   "metadata": {},
   "source": [
    "!mp4\n",
    "- dark\n",
    "- images/gapminder/democracy-index-tw.mp4\n",
    "- images/gapminder/democracy-index-tw.jpg"
   ]
  },
  {
   "cell_type": "markdown",
   "metadata": {},
   "source": [
    "雖然上頭的數據只到 2011 年，但我想要你看的是，1990 年（也是我出生的那年）之後，比起所得提升速度，我們的民主指數的成長速度讓人驚訝，可以說是三級跳！\n",
    "\n",
    "基本上近年台灣的分數變動不大。而在最新的 [2017 年全球民主指數](http://news.ltn.com.tw/news/politics/breakingnews/2327881)裡頭，台灣則獲得了 7.73 分，全球排名第 33 名。（第一名為挪威，美國 21，日本 23，中國則為 139 名）\n",
    "\n",
    "民主指數滿分為 10 分，由 5 個評量標準做平均：\n",
    "- 選舉過程及多元程度（獲 9.58 分）\n",
    "- 政府功能（獲 8.21 分）\n",
    "- 政治參與（獲 6.11 分）\n",
    "- 政治文化（僅 5.63 分）\n",
    "- 公民自由度（ 9.12 分）\n",
    "\n",
    "可以看到雖然我們的公民自由度很高，但政治參與以及政治文化不足。\n",
    "\n",
    "我個人認為跟長期無意義的藍綠對抗文化以及年輕一代普遍對政壇上的政治人物冷感有關。"
   ]
  },
  {
   "cell_type": "markdown",
   "metadata": {},
   "source": [
    "!quote\n",
    "- 要讓民主成功，我們必須參與，而非只是冷眼旁觀。沒有投票的人沒有權利抱怨。\n",
    "- 路易．路蒙，美國小說家"
   ]
  },
  {
   "cell_type": "markdown",
   "metadata": {},
   "source": [
    "儘管我們的民主程度已經值得讚賞，在公民參與部分還有很多地方可以改善。"
   ]
  },
  {
   "cell_type": "markdown",
   "metadata": {},
   "source": [
    "## <span id='story-behind-data'>看到數據背後的故事"
   ]
  },
  {
   "cell_type": "markdown",
   "metadata": {},
   "source": [
    "在上一章節，我們看了一些利用泡泡圖探索台灣以及世界的例子。\n",
    "\n",
    "相信你也有這種錯覺：搭配著大量數據，泡泡圖彷彿讓你站在上帝的視角綜觀全球。"
   ]
  },
  {
   "cell_type": "markdown",
   "metadata": {},
   "source": [
    "!image\n",
    "- style:width:90%;\n",
    "- gapminder/gods_point_view_2013_10_08-12.jpg"
   ]
  },
  {
   "cell_type": "markdown",
   "metadata": {},
   "source": [
    "但我們不能就這樣停止，自我膨脹地以為彷彿透過泡泡圖裡頭的數據，就已經暸解世間萬物。\n",
    "\n",
    "正如《真確》裡頭漢斯・羅斯林教授跟我們說的："
   ]
  },
  {
   "cell_type": "markdown",
   "metadata": {},
   "source": [
    "!quote\n",
    "- 我要你看到統計數據背後的個別故事，也要你看到個別故事背後的統計數據。不靠數據無法了解世界，但光靠數據也無法了解世界。"
   ]
  },
  {
   "cell_type": "markdown",
   "metadata": {},
   "source": [
    "舉例來說，在我查看台灣婦女在工業（Industry Sector）的勞動比例時，發現一個有趣的現象："
   ]
  },
  {
   "cell_type": "markdown",
   "metadata": {},
   "source": [
    "!mp4\n",
    "- dark\n",
    "- images/gapminder/female-industry-sector-tw-and-al-jaza-ir.mp4\n",
    "- images/gapminder/female-industry-sector-tw-and-al-jaza-ir.jpg"
   ]
  },
  {
   "cell_type": "markdown",
   "metadata": {},
   "source": [
    "工業一般給人的印象就是包含了很多需要體力的工作，因此看到右邊台灣婦女在工業的勞動比例逐年下降（與之相對，服務業勞動比例上升）完全符合我的期待。但是，看看那個[阿爾及利亞](https://zh.wikipedia.org/wiki/%E9%98%BF%E5%B0%94%E5%8F%8A%E5%88%A9%E4%BA%9A#%E7%BB%8F%E6%B5%8E)！\n",
    "\n",
    "光看那條節節上升的曲線無法幫助我們實際了解阿爾及利亞，如同我們無法光靠數據了解世界。\n",
    "\n",
    "說來慚愧，在觀察到這現象前，儘管小時候從歷史老師的口中聽過它，我完全沒有研究過這個國家。"
   ]
  },
  {
   "cell_type": "markdown",
   "metadata": {},
   "source": [
    "!image\n",
    "- gapminder/algeria-oran.jpg\n",
    "- 阿爾及利亞,瓦赫蘭\n",
    "- https://www.ft.com/content/ee80ed52-29de-11e2-a5ca-00144feabdc0"
   ]
  },
  {
   "cell_type": "markdown",
   "metadata": {},
   "source": [
    "透過一些閱讀，我現在了解阿爾及利亞（Algeria）是一個位於非洲北部的國家，1962 年從法國殖民統治下獲得獨立。因為[婦女解放](http://www.hkislam.com/index.php?action-viewnews-itemid-3616)以及女權運動崛起地相對較其他伊斯蘭國家早，該國的女性在各個階級都很活躍。在勞動市場可以看到她們開大卡車、當加油站工人並穿寬大的工作服；[女性議員在議會佔的比例](https://news.un.org/zh/story/2012/05/173592)在阿拉伯世界也是獨占鰲頭，最近甚至[還舉辦比基尼示威](https://www.demotivateur.fr/article/algerie-3-200-jeune-femmes-en-bikini-pour-lutter-contre-l-obscurantisme-religieux-10710)，來呼籲保守的社會給予女性更多自由。\n",
    "\n",
    "在這邊不是要推薦你去阿爾及利亞觀光或是 Google 搜尋比基尼照片。\n",
    "\n",
    "我想強調的是，讓你的好奇心跨越冷冰冰的數字。在透過數據有個宏觀的概念以後，針對你有興趣的問題去實際查查資料，問問人並了解背後的故事。\n",
    "\n",
    "在你開始這麼做以後，會發現世界變得更遼闊，更多采多姿。"
   ]
  },
  {
   "cell_type": "markdown",
   "metadata": {},
   "source": [
    "## 你能怎樣讓世界更好？\n",
    "\n",
    "看了那麼多的泡泡圖以及數據，實際上我們可以怎樣讓台灣以及世界變得更好呢？\n",
    "\n",
    "我相信每個人都有自己的想法，但這邊讓我給出一些拙見。\n",
    "\n",
    "如果你是老師或是從事教育業，開始思考要怎麼利用數據來教導學生或是下一代正確的世界觀吧！不要再教他們背誦歷史年表或是生硬數字，而是利用容易理解的資料視覺化工具（如本文的泡泡圖）將過去、現在的世界展示給他們看，刺激他們的好奇心，讓他們自主發問、蒐集資料並想像未來。"
   ]
  },
  {
   "cell_type": "markdown",
   "metadata": {},
   "source": [
    "!image\n",
    "- gapminder/children-ask-questions.jpeg"
   ]
  },
  {
   "cell_type": "markdown",
   "metadata": {},
   "source": [
    "如果你是從事經濟 / 社會 / 公衛 / 能源 / 政治 / 國際關係等專業領域的話，重新思考在這個世紀，我們應該要密切關注的人類發展指標吧！\n",
    "\n",
    "舉國民平均所得這個指標來說，我們在文章開頭看到近 200 年來全世界每個國家在國民平均所得皆有改善，但在 21 世紀只看這個就夠了嗎？\n",
    "\n",
    "21 世紀，我們面臨的新問題是貧富差距。"
   ]
  },
  {
   "cell_type": "markdown",
   "metadata": {},
   "source": [
    "!image\n",
    "- dark\n",
    "- gapminder/the-indicator-we-need-in-the-future.jpg"
   ]
  },
  {
   "cell_type": "markdown",
   "metadata": {},
   "source": [
    "從「平均所得」這單一數字來看一個國家的經濟發展非常危險，因為這會讓我們忽視一件事情：國家的總所得實際上是怎麼分配到所有人手上的。\n",
    "\n",
    "在 21 世紀，我們應該更關注如上圖的指標：「最富有的 10 % 人所擁有的收入份額」，來確保我們不只解決貧困，還會記得要對付社會不平等問題。\n",
    "\n",
    "\n",
    "就算你認為自己不屬於上面兩種人，別擔心！我幫你列了一個自由勾選的行動清單：\n",
    "- 分享本文以讓更多人開始探索台灣與世界\n",
    "- 閱讀《真確》一書\n",
    "- 查看漢斯・羅斯林<a href=\"https://www.ted.com/talks/hans_rosling_shows_the_best_stats_you_ve_ever_seen#t-249222\" target=\"_blank\">在 TED 上的演講</a>\n",
    "- 查看 GapMinder 官網，尤其是 [Dollar Street](https://www.gapminder.org/dollar-street/matrix)\n",
    "- 找出泡泡圖的翻譯錯誤並通知我（如果有的話）\n",
    "- 加強數據科學力，學習利用數據說故事（尤其適合資料科學家）\n",
    "\n",
    "你可以用任何方式探索世界，但如果你打算回來玩玩泡泡圖，隨時歡迎！我會持續更新數據來源並將我（和你）的新發現更新到文章裡頭。\n",
    "\n",
    "你可以：\n",
    "- 將[本頁網址](https://leemeng.tw/gapminder.html)加入書籤，方便隨時回來查看最新的泡泡圖\n",
    "- 用下面的按鈕訂閱部落格文章，在新文章出來的時候收到消息"
   ]
  },
  {
   "cell_type": "markdown",
   "metadata": {},
   "source": [
    "!image\n",
    "- gapminder/alessandro-erbetta-786007-unsplash.jpg"
   ]
  },
  {
   "cell_type": "markdown",
   "metadata": {},
   "source": [
    "!quote\n",
    "- 最後，也是最重要的，對世界多點好奇並盡情探索吧！希望你享受我們這趟探索旅程，是時候展開你自己的冒險了：）"
   ]
  },
  {
   "cell_type": "markdown",
   "metadata": {},
   "source": [
    "## 致謝\n",
    "感謝[漢斯・羅斯林](https://zh.wikipedia.org/wiki/%E6%B1%89%E6%96%AF%C2%B7%E7%BD%97%E6%96%AF%E6%9E%97)教授，我要謝謝他帶我用更宏觀、積極的態度來理解這個世界並帶給我無數啟發。這篇文章以及文內的泡泡圖是我向他的致敬。\n",
    "\n",
    "（漢斯・羅斯林教授已於 2017 年 2 月 7 日在瑞典烏普薩拉逝世）"
   ]
  }
 ],
 "metadata": {
  "kernelspec": {
   "display_name": "Python 3",
   "language": "python",
   "name": "python3"
  },
  "language_info": {
   "codemirror_mode": {
    "name": "ipython",
    "version": 3
   },
   "file_extension": ".py",
   "mimetype": "text/x-python",
   "name": "python",
   "nbconvert_exporter": "python",
   "pygments_lexer": "ipython3",
   "version": "3.7.2"
  }
 },
 "nbformat": 4,
 "nbformat_minor": 2
}
