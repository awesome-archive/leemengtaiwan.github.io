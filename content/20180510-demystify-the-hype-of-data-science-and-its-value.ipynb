{
 "cells": [
  {
   "cell_type": "markdown",
   "metadata": {},
   "source": [
    "- author: Lee Meng\n",
    "- date: 2018-05-11 21:10\n",
    "- title: 揭開資料科學的神秘面紗\n",
    "- slug: demystify-the-hype-of-data-science-and-its-value\n",
    "- tags: 資料科學, data-science\n",
    "- description: 市面上有大量資料科學相關課程、書籍供我們自由學習，但你有想過為何我們需要學習資料科學嗎？為什麼資料科學現在那麼夯？我們應該拿資料科學來做什麼？抽離技術實作或者分析手法的討論，這篇文章試著用簡單的經濟學解釋其背後原因。希望閱讀完本文的讀者能了解為何資料科學在資訊時代扮演重要角色，以及我們要怎麼有效率地把握「資料科學力」以創造更大的價值。\n",
    "- summary: 市面上有大量資料科學相關課程、書籍供我們自由學習，但你有想過為何我們需要學習資料科學嗎？為什麼資料科學現在那麼夯？我們應該拿資料科學來做什麼？抽離技術實作或者分析手法的討論，這篇文章試著用簡單的經濟學解釋其背後原因。希望閱讀完本文的讀者能了解為何資料科學在資訊時代扮演重要角色，以及我們要怎麼有效率地把握「資料科學力」以創造更大的價值。\n",
    "- image: yoann-boyer-276971-unsplash.jpg\n",
    "- image_credit_url: https://unsplash.com/photos/9dD0gFvrFnY?utm_source=unsplash&utm_medium=referral&utm_content=creditCopyText"
   ]
  },
  {
   "cell_type": "markdown",
   "metadata": {},
   "source": [
    "幾乎每天我們都能看到跟資料科學（Data Science）相關的新聞與文章，像是最近 [Google 利用遞迴神經網路建立可以跟真人對話而不被發現的語音助理](https://www.bnext.com.tw/article/49070/google-ai-phone-call-assistant-duplex-ethical-social-implications)、 [成為 Apple 等公司的資料科學家前必讀的面試題目](https://www.inside.com.tw/2018/04/24/data-scientist-interview)等等。\n",
    "\n",
    "市面上有大量資料科學相關課程、書籍供我們自由學習，事實上，多到一個人不可能看完。你有想過為何我們需要學習資料科學嗎？為什麼資料科學現在那麼夯？我們應該拿資料科學來做什麼？\n",
    "\n",
    "抽離技術實作或者分析手法的討論，這篇文章試著用簡單的經濟學原理回答這幾個問題。"
   ]
  },
  {
   "cell_type": "markdown",
   "metadata": {},
   "source": [
    "希望閱讀完本文的讀者能了解為何資料科學在資訊時代扮演重要角色，以及我們要怎麼有效率地把握「資料科學力」以創造更大的價值。"
   ]
  },
  {
   "cell_type": "markdown",
   "metadata": {},
   "source": [
    "## 目錄\n",
    "本文大致上會分成以下段落：\n",
    "- [聽說你想當資料科學家？](#聽說你想當資料科學家？)\n",
    "- [資料科學到底在夯什麼？](#資料科學到底在夯什麼？)\n",
    "- [啊所以那個資料科學勒？](#啊所以那個資料科學勒？)\n",
    "- [充實你的資料科學力](#充實你的資料科學力)\n",
    "- [結語](#結語)\n",
    "\n",
    "讓我們開始吧！"
   ]
  },
  {
   "cell_type": "markdown",
   "metadata": {},
   "source": [
    "## 聽說你想當資料科學家？\n",
    "\n",
    "資料科學大概是近年最夯的流行語之一了。不管在哪邊，你都可以聽到媒體相關的報導：\n",
    "- [食農教育科研成果農業大數據結合資料科學](https://taronews.tw/2018/05/07/34472/)\n",
    "- [想成為資料科學家？來挑戰 Google、FB、Apple 等六間公司人工智慧最新面試題](https://www.inside.com.tw/2018/04/24/data-scientist-interview)\n",
    "- [台灣產業AI化 最大問題人才不足](http://www.digitimes.com.tw/iot/article.asp?cat=130&cat1=&cat2=&id=0000529979_36M8SBKK8S3C4K8O2RHKM&social_share=y)\n",
    "- [成為搶手資料科學家應具備什麼技能？先學Python準沒錯](https://www.ithome.com.tw/news/121342)\n",
    "\n",
    "... 族繁不及備載。\n",
    "\n",
    "而因為企業對擁有資料科學能力的人才需求大，想成為資料科學家（Data Scientist）的同學們也不少，相關的教學文章、線上課程如雨後春筍般湧現。這邊我沒辦法把它們一一列出，但你可以前往一些知名的線上課程平台如 [Coursera](https://www.coursera.org/)、[Udemy](https://www.udemy.com/)、[DataCamp](https://www.datacamp.com/) 並搜尋「資料科學」（或者 Data Science）就知道我的意思了。"
   ]
  },
  {
   "cell_type": "markdown",
   "metadata": {},
   "source": [
    "<center>\n",
    "    <img src=\"images/data-science/datacamp-courses.png\" style=\"\"/>\n",
    "</center>\n",
    "<center>\n",
    "    <a href=\"https://www.datacamp.com/\" target=\"_blank\">DataCamp</a>\n",
    "    <font color='purple'>: </font>基本上全部都是資料科學相關課程，寫程式寫到飽\n",
    "    <br>\n",
    "    <br>\n",
    "    <br>\n",
    "</center>"
   ]
  },
  {
   "cell_type": "markdown",
   "metadata": {},
   "source": [
    "如果我們把這些新聞報導或者教學課程，依照主題/領域做個粗略分類的話，還可以得到一些關鍵字：\n",
    "- 大數據（Big Data）\n",
    "- 人工智慧（Artificial Intelligence）\n",
    "- 資料視覺化（Data Visualization）\n",
    "- 機器學習（Machine Learning）\n",
    "- 深度學習（Deep Learning）\n",
    "- 統計分析（Statistical Analytics）\n",
    "- 雲端運算 （Cloud Computing）\n",
    "- Python、R、SQL\n",
    "- ..."
   ]
  },
  {
   "cell_type": "markdown",
   "metadata": {},
   "source": [
    "<center>\n",
    "    <img src=\"images/data-science/sean-pollock-203658-unsplash.jpg\" style=\"\"/>\n",
    "</center>\n",
    "<center>\n",
    "    <a href=\"https://unsplash.com/photos/PhYq704ffdA?utm_source=unsplash&utm_medium=referral&utm_content=creditCopyText\" target=\"_blank\">資料科學</a>\n",
    "    <font color='purple'>: </font>涵蓋大量領域，各領域的專業知識就像一棟棟大樓將你包圍吞噬\n",
    "    <br>\n",
    "    <br>\n",
    "    <br>\n",
    "</center>"
   ]
  },
  {
   "cell_type": "markdown",
   "metadata": {},
   "source": [
    "想學習資料科學的同學這時候就頭疼了：\n",
    "- 「全部都要學嗎？從哪邊開始 .. 」\n",
    "- 「選 [Python](https://zh.wikipedia.org/wiki/Python) 或是 [R 語言](https://zh.wikipedia.org/wiki/R%E8%AF%AD%E8%A8%80)？還是先學 [SQL](https://zh.wikipedia.org/wiki/SQL)？」\n",
    "- 「資料視覺化要學 Python 的 [Matplotlib](https://matplotlib.org/) 還是 R 的 [ggplot2](http://ggplot2.org/) ？」\n",
    "\n",
    "現在有些網站很用心，為了解決你的煩惱，還將相關的課程集結起來成一個[專業課程（Specialization）](https://www.coursera.org/specializations/data-science-python)讓你一步一步跟著學。\n",
    "\n",
    "勤學如你，上了幾門課以後學會如何利用 [Python 做簡單的機器學習模型](https://www.coursera.org/learn/python-machine-learning)、[使用 R 做資料視覺化](https://www.datacamp.com/courses/data-visualization-with-ggplot2-1)，甚至也懂得[使用 SQL 存取資料庫](https://www.datacamp.com/courses/intro-to-sql-for-data-science)。\n",
    "\n",
    "恭喜！你是個資料科學家了！"
   ]
  },
  {
   "cell_type": "markdown",
   "metadata": {},
   "source": [
    "..."
   ]
  },
  {
   "cell_type": "markdown",
   "metadata": {},
   "source": [
    "痾.. 這麼簡單？好像哪裡怪怪的？"
   ]
  },
  {
   "cell_type": "markdown",
   "metadata": {},
   "source": [
    "..."
   ]
  },
  {
   "cell_type": "markdown",
   "metadata": {},
   "source": [
    "你會不會開始思考："
   ]
  },
  {
   "cell_type": "code",
   "execution_count": null,
   "metadata": {},
   "outputs": [],
   "source": [
    "#blockquote\n",
    "所以到底啥是資料科學？資料科學到底在夯什麼？為什麼我要學資料科學？"
   ]
  },
  {
   "cell_type": "markdown",
   "metadata": {},
   "source": [
    "實際上會這樣想的不止你一人。在仔細思考並給上述問題一個合理的解釋之前，就算學了再多門課，充其量只是在不斷擴充自己的「資料科學工具盒」，但卻不知道「為何要買這些工具」、「要拿這些工具做什麼」。"
   ]
  },
  {
   "cell_type": "markdown",
   "metadata": {},
   "source": [
    "<center>\n",
    "    <img src=\"images/data-science/barn-images-12223-unsplash.jpg\" style=\"\"/>\n",
    "</center>\n",
    "<center>\n",
    "    <a href=\"https://unsplash.com/photos/t5YUoHW6zRo?utm_source=unsplash&utm_medium=referral&utm_content=creditCopyText\" target=\"_blank\">資料科學工具箱</a>\n",
    "    <font color='purple'>: </font>琳瑯滿目，酷！但你要用這些工具創造或是改善什麼？\n",
    "    <br>\n",
    "    <br>\n",
    "    <br>\n",
    "</center>"
   ]
  },
  {
   "cell_type": "markdown",
   "metadata": {},
   "source": [
    "因為你學的是方便實踐資料科學的程式語言、工具、方法論（Methodology），而不是「為什麼資料科學重要」。我會用剩下的篇幅試著對此問題給出一套解釋。解釋方法有很多種，所以非常歡迎在底下留言分享你的看法。\n",
    "\n",
    "不過現在，且聽我娓娓道來。"
   ]
  },
  {
   "cell_type": "markdown",
   "metadata": {},
   "source": [
    "## 資料科學到底在夯什麼？"
   ]
  },
  {
   "cell_type": "markdown",
   "metadata": {},
   "source": [
    "除了耳熟能詳的「技術發展快速」、「資料量龐大」的理由以外，資料科學之所以那麼夯，背後還有一個可想而知的巨大推手：「商業利益」。\n",
    "\n",
    "要進一步解釋這個概念，我們可以從 Google 首席經濟學家 [哈爾·范里安](https://zh.wikipedia.org/wiki/%E5%93%88%E5%B0%94%C2%B7%E8%8C%83%E9%87%8C%E5%AE%89) 在 2009 年接受麥肯錫的訪問，探討[網際網路對企業的挑戰](https://www.mckinsey.com/industries/high-tech/our-insights/hal-varian-on-how-the-web-challenges-managers)中看出一些端倪。（真知灼見，建議作課外閱讀）\n",
    "\n",
    "近年網際網路快速發展。要在網路上發表內容，對任何人或者任何企業來說都是輕而易舉的事情。這邊說的內容（Content）可以是任意資訊，比如説：\n",
    "- 一則 Facebook 粉絲團貼文\n",
    "- 一則銷售青島啤酒的網頁\n",
    "- 一個教你學習資料科學的線上課程網頁\n",
    "- 一篇部落格文章（像你正在看的這篇）\n",
    "\n",
    "因為傳播媒介以及科技的進步，要在網路上發布這些資訊並讓他人注意到的成本趨近於零，而其導致的結果就是[全球的資訊量急速成長](https://www.ithome.com.tw/article/87190)。被稱為人工智慧之父之一的經濟學家 [赫伯特·西蒙](http://wiki.mbalib.com/zh-tw/%E8%B5%AB%E4%BC%AF%E7%89%B9%C2%B7%E8%A5%BF%E8%92%99) 針對這種現象就曾說過一句[名言](https://en.wikiquote.org/wiki/Herbert_A._Simon)："
   ]
  },
  {
   "cell_type": "code",
   "execution_count": null,
   "metadata": {},
   "outputs": [],
   "source": [
    "#blockquote\n",
    "在一個資訊豐富的世界裡頭，資訊量的富裕導致人們注意力的貧窮。"
   ]
  },
  {
   "cell_type": "markdown",
   "metadata": {},
   "source": [
    "以個人的角度來看，在時間以及精力有限的情況下，我們每天能接受資訊的時間以及注意力都是有限的。如何分配這些寶貴的注意力以接收對的資訊，變成現代人的課題。\n",
    "\n",
    "痛點即商機。很多企業透過解決這個[資料超載（Information Overload）](https://zh.wikipedia.org/wiki/%E8%B3%87%E8%A8%8A%E8%B6%85%E8%BC%89)的問題來提供使用者價值：\n",
    "1. 漫畫網站把所有知名漫畫整理在一起供你閱讀\n",
    "    - 價值：統整、數位化、自動更新散落各地的漫畫資訊\n",
    "2. Google 提供搜尋功能給你\n",
    "    - 價值：讓你快速找到存在地球上的任何相關資訊\n",
    "3. Youtube 讓你免費看到飽\n",
    "    - 價值：讓你隨時看全世界最新的貓咪影片\n",
    "4. 只要喊「+1」Facebook 粉絲團就免費把「珍貴」的內容給你\n",
    "    - 價值：給你數位內容如新產品資訊、整理過後的旅遊資訊等"
   ]
  },
  {
   "cell_type": "markdown",
   "metadata": {},
   "source": [
    "天下沒有白吃的午餐，企業願意這麼做必定有得到什麼。你的確取得了免費的數位內容（文章、影片、漫畫），但又付出了什麼？"
   ]
  },
  {
   "cell_type": "markdown",
   "metadata": {},
   "source": [
    "<center>\n",
    "    <img src=\"images/data-science/velizar-ivanov-540528-unsplash.jpg\" style=\"\"/>\n",
    "</center>\n",
    "<center>\n",
    "    <a href=\"https://unsplash.com/photos/lz_VB9yEc_c?utm_source=unsplash&utm_medium=referral&utm_content=creditCopyText\" target=\"_blank\">資訊時代最珍貴的資源</a>\n",
    "    <font color='purple'>: </font>人們（與喵）的關注\n",
    "    <br>\n",
    "    <br>\n",
    "    <br>\n",
    "</center>"
   ]
  },
  {
   "cell_type": "markdown",
   "metadata": {},
   "source": [
    "實際上，不管是閱讀文章、觀看影片、瀏覽漫畫，你都是在拿了你最寶貴的「注意力」跟企業交換這些價值。而在成功獲得你目光的同時，這些企業則透過秀廣告給你來獲利（例 1 - 3，暫不考慮 AdBlock）。\n",
    "\n",
    "註：在這邊，「注意力」跟「時間」有些微秒差異。不過你只要回想昨天晚上跟朋友或是家人吃飯的時候，各自滑手機的景象就可以了：你把「時間」花在跟身旁的人吃飯，卻把「注意力」（或者說是關注）放在手機裡頭的數位資訊。（如果你沒用手機，我很抱歉。）\n",
    "\n",
    "例 4 很有趣，你是拿「你自己以及你朋友圈的人的注意力」來做價值交換（你的留言讓 Facebook 的演算法自動推播該貼文到你朋友的動態牆上，粉絲團賺到他們的關注），但基本上是同樣的道理。"
   ]
  },
  {
   "cell_type": "markdown",
   "metadata": {},
   "source": [
    "<center>\n",
    "    <img src=\"images/data-science/rawpixel-552390-unsplash.jpg\" style=\"\"/>\n",
    "</center>\n",
    "<center>\n",
    "    <a href=\"https://unsplash.com/photos/PUyuhpHr9Z4?utm_source=unsplash&utm_medium=referral&utm_content=creditCopyText\" target=\"_blank\">資訊時代最常見的價值交換</a>\n",
    "    <font color='purple'>: </font>給我你的關注，我就給你免費資訊（外加廣告）\n",
    "    <br>\n",
    "    <br>\n",
    "    <br>\n",
    "</center>"
   ]
  },
  {
   "cell_type": "markdown",
   "metadata": {},
   "source": [
    "以經濟學的角度來重述前面的觀點，現在的資訊時代最不缺的資源就是「資料」；稀有、價值高且需要小心分配的稀有財是「人們的注意力」。在這個資訊爆炸的時代，企業透過加工處理大量的原始資料，產生新產品、服務及價值來換取該稀有財："
   ]
  },
  {
   "cell_type": "code",
   "execution_count": null,
   "metadata": {},
   "outputs": [],
   "source": [
    "#blockquote\n",
    "誰能善用資料科學的力量、從現有數據創造新價值、服務或產品，並以此吸引人們珍貴的關注，就能獲得商機。"
   ]
  },
  {
   "cell_type": "markdown",
   "metadata": {},
   "source": [
    "這就是為何資料科學那麼夯的其中一個原因：從資料中創造新價值，進而產生商業利益。"
   ]
  },
  {
   "cell_type": "markdown",
   "metadata": {},
   "source": [
    "## 啊所以那個資料科學勒？"
   ]
  },
  {
   "cell_type": "markdown",
   "metadata": {},
   "source": [
    "聽到上面的例子，有些人的想法可能是：\n",
    "- 「哇這些企業好狡猾把我的注意力都偷走了！」\n",
    "- 「這樣回覆 +1 好有罪惡感喔嗚嗚」\n",
    "- 「好險我用 AdBlock 嘻嘻」\n",
    "\n",
    "但這邊重點是要說明，這種依靠廣告的商業模式已經行之多年。Facebook、Google 等企業為了抓住我們的目光，持續不斷地在精進，以求能有效率地儲存、處理以及分析由我們產生的大量數據。\n",
    "\n",
    "而他們用來處理、分析、視覺化以及理解數據的這些程式語言、工具、方法論的總集合就構成所謂的資料科學。"
   ]
  },
  {
   "cell_type": "code",
   "execution_count": null,
   "metadata": {},
   "outputs": [],
   "source": [
    "#blockquote\n",
    "資料科學的本質是搜集、理解、分析、處理以及視覺化數據，並從中萃取有用價值。"
   ]
  },
  {
   "cell_type": "markdown",
   "metadata": {},
   "source": [
    "讓我們以一個簡單的 Google 搜尋做更進一步的解釋。\n",
    "\n",
    "想像你在 Google 上搜尋「 data science courses 」後可能跑出以下結果："
   ]
  },
  {
   "cell_type": "markdown",
   "metadata": {},
   "source": [
    "<center>\n",
    "    <img src=\"images/data-science/google.png\" style=\"\"/>\n",
    "</center>\n",
    "<center>\n",
    "    Google 日常：搜尋結果之上有幾個相關廣告\n",
    "    <br>\n",
    "    <br>\n",
    "    <br>\n",
    "</center>"
   ]
  },
  {
   "cell_type": "markdown",
   "metadata": {},
   "source": [
    "沒什麼特別的，Google 日常不是嗎？\n",
    "\n",
    "現在試著做以下步驟：\n",
    "1. 開一個新的分頁/視窗\n",
    "2. 隨便搜尋一個你有興趣的商品/產品，記下出現的幾個廣告還有它們的順序。\n",
    "3. 隨便點幾個連結或者什麼都不做\n",
    "\n",
    "重複步驟 2 跟 3 幾次以後，你應該可以觀察到顯示的廣告消失或者順序改變了：而這是因為背後有 Google 的廣告競價系統在運作。下面是這系統的超級簡化示意圖："
   ]
  },
  {
   "cell_type": "markdown",
   "metadata": {},
   "source": [
    "<center>\n",
    "    <img src=\"images/data-science/google-bidding-system.png\" style=\"\"/>\n",
    "</center>\n",
    "<center>\n",
    "    Google 廣告競價：運用使用者的行為資料，即時地推算出該使用者點擊各廣告的機率。搭配業主的出價，選出適當的廣告顯示。\n",
    "    <br>\n",
    "    <br>\n",
    "    <br>\n",
    "</center>"
   ]
  },
  {
   "cell_type": "markdown",
   "metadata": {},
   "source": [
    "要完成此系統需要強大的資料科學技術支持。只有一個人搜尋的時候事情還好辦，但你得知道，在本文撰寫當下，Google [平均 1 秒鐘處理 67, 000 筆](http://www.internetlivestats.com/one-second/#google-band)搜尋。試著想像一下，為了實現這個系統，Google 可能需要完成以下幾件事情：\n",
    "- 使用[深度學習](https://leemeng.tw/deep-learning-resources.html)進行[自然語言處理](https://leemeng.tw/shortest-path-to-the-nlp-world-a-gentle-guide-of-natural-language-processing-and-deep-learning-for-everyone.html)，判斷使用者輸入的語言以及想要表達什麼\n",
    "- 即時處理所有使用者查詢的串流數據\n",
    "- 利用使用者過往的瀏覽紀錄來預測點擊某廣告的機率\n",
    "- 在公司內部監控目前台灣使用者的搜尋趨勢（類似 [Google Trend](https://trends.google.com.tw/trends/))"
   ]
  },
  {
   "cell_type": "markdown",
   "metadata": {},
   "source": [
    "機器學習、統計分析、大數據 ... 這些工作運用到的技術，不就是那些我們在[聽說你想當資料科學家](#聽說你想當資料科學家？)章節裡頭看到的關鍵字嗎？\n",
    "\n",
    "我們這篇只以 Google 的廣告系統為例，但實際上現在幾乎可以說是全世界都在想辦法利用資料科學的力量來處理資料並創造新的價值、服務、公司。看看現在的新創，有哪些沒有用到資料科學？\n",
    "\n",
    "所以你現在知道為何資料科學那麼重要了。"
   ]
  },
  {
   "cell_type": "markdown",
   "metadata": {},
   "source": [
    "!quote\n",
    "- 全世界都在想辦法活用資料科學，以從龐大數據中為潛在使用者創造更多價值。"
   ]
  },
  {
   "cell_type": "markdown",
   "metadata": {},
   "source": [
    "## 充實你的資料科學力"
   ]
  },
  {
   "cell_type": "markdown",
   "metadata": {},
   "source": [
    "綜觀資料科學一詞萌芽到最近的過程，全世界的資料量[持續成長](https://www.ithome.com.tw/article/87190)，而人們也不斷地在想辦法追趕這些資料：\n",
    "- 用最有效率的方式儲存這些資料\n",
    "- 用最快的速度處理及分析這些資料\n",
    "- 對這些資料做實驗，重複再重複測試不同的假說及演算法\n",
    "- 快速地從資料萃取出新的洞見（Insight）\n",
    "- 以這些洞見創造新的價值、產品、服務\n",
    "- 加速以上步驟所需要的循環時間\n",
    "\n",
    "如同前面 Google 的例子，這些都是資料科學。\n",
    "\n",
    "你會發現，所謂的資料科學（Data Science）就是對資料（Data）做科學、有系統地（Scientific）的處理罷了。資料科學一詞或許誕生沒多久，但對資料做科學這概念老早就存在了。只是近年因為\n",
    "- 數據量的快速成長（如[物聯網裝置的火紅](http://technews.tw/2017/06/07/seagate-one-fifth-of-global-data-will-be-real-time-and-most-of-them-belongs-to-internet-of-things/)）\n",
    "- 運算能力的進步\n",
    "- 人工智慧的突破\n",
    "\n",
    "等等原因，讓我們更急迫地想辦法用以往做不到的方式來理解這個世界的龐大數據。 [Youtube 現在能夠分析出你喜歡看貓咪影片](https://www.youtube.com/watch?v=F1wlCerC40E)，[Google 可以建立跟真人對話而不被發現的語音助理](https://www.bnext.com.tw/article/49070/google-ai-phone-call-assistant-duplex-ethical-social-implications)。這些都是他們利用資料科學，從現有的大量數據創造額外價值的例子。如同[這篇](https://www.safaribooksonline.com/library/view/what-is-data/9781449336080/ch01.html)所說的："
   ]
  },
  {
   "cell_type": "code",
   "execution_count": null,
   "metadata": {},
   "outputs": [],
   "source": [
    "#blockquote\n",
    "未來是屬於那些能從大量複雜數據創造價值的企業以及人才的。"
   ]
  },
  {
   "cell_type": "markdown",
   "metadata": {},
   "source": [
    "一個好消息是：\n",
    "- 一企業擁有的資料量\n",
    "- 一企業裡能夠處理、分析此資料量的資料科學人才數量\n",
    "\n",
    "這兩者在多數企業都是不成比例的（後者短缺），因此擁有資料科學能力的人才薪水可以說是水漲船高。而這當然也變成為何近年那麼多人想成為資料科學家的動機（儘管有些人可能不知道背後原因）。"
   ]
  },
  {
   "cell_type": "markdown",
   "metadata": {},
   "source": [
    "<center>\n",
    "    <img src=\"images/data-science/stefan-stefancik-257625-unsplash.jpg\" style=\"\"/>\n",
    "</center>\n",
    "<center>\n",
    "    <a href=\"https://unsplash.com/photos/UCZF1sXcejo?utm_source=unsplash&utm_medium=referral&utm_content=creditCopyText\" target=\"_blank\">了解資料科學相關知識的人才</a>\n",
    "    <font color='purple'>: </font>是大多數的企業積極尋找的對象\n",
    "    <br>\n",
    "    <br>\n",
    "    <br>\n",
    "</center>"
   ]
  },
  {
   "cell_type": "markdown",
   "metadata": {},
   "source": [
    "在了解這點以後，你可以先想想自己的興趣在哪裡、想用資料科學創造什麼價值。這邊想強調的是，先思考你能透過資料科學，創造什麼新的「價值」，而不是什麼「商業利益」。\n",
    "\n",
    "如同我們前面看到的，資料科學是現行廣告經濟的背後推手，但為何我們願意看 Google、Facebook 丟給我們的廣告？那是因為他們「先」從資料創造了價值（方便的搜尋功能、社群網路功能）從而取得我們的關注。\n",
    "\n",
    "實際上，在取得關注以後，你的商業模式不是一定要秀廣告給使用者看。訂閱制（Subscription）或會員制是一個替代方案： NetFlix 和 Amazon 都是這樣。甚至，你可以[不像 Google 一樣思考](https://www.bnext.com.tw/article/49041/google-fb-business-model)，使用新的商業模型。\n",
    "\n",
    "但「商業模式」不是這篇想討論的議題。重點是「價值」："
   ]
  },
  {
   "cell_type": "code",
   "execution_count": null,
   "metadata": {},
   "outputs": [],
   "source": [
    "#blockquote\n",
    "在資訊爆炸的時代，各行各業的每個人都需要學習如何善用資料科學，從數據中創造新的價值。"
   ]
  },
  {
   "cell_type": "markdown",
   "metadata": {},
   "source": [
    "事實上，與其想著要成為一個資料科學家，不如先好好想想，在自己目前所在的業界、公司、職位能怎麼利用手邊的資料數據搭配資料科學來創造新的價值。"
   ]
  },
  {
   "cell_type": "markdown",
   "metadata": {},
   "source": [
    "## 結語"
   ]
  },
  {
   "cell_type": "markdown",
   "metadata": {},
   "source": [
    "如果你耐心地看到這邊，代表我得到你最珍貴的關注了，賺賺賺！"
   ]
  },
  {
   "cell_type": "markdown",
   "metadata": {},
   "source": [
    "稍微複習一下，我們在這篇文章開頭假想了一個有志學習資料科學的同學。在他/她學習資料科學的過程產生了幾個疑問：「為何資料科學那麼夯？」「為何我們需要資料科學？」\n",
    "\n",
    "而本篇則以非常簡單的經濟學供給概念，加上 Google 以及 Facebook 的運作方式來說明現在的企業是怎麽利用資料科學來創造新的使用者價值來交換人們的關注。\n",
    "\n",
    "我們接著說著為何今後各行各業都需要「資料科學力」來處理日益增加的資料數據並為人們建立新的價值。事實上很多職稱不是「資料科學家」的人現在都已經在做著資料科學："
   ]
  },
  {
   "cell_type": "code",
   "execution_count": null,
   "metadata": {},
   "outputs": [],
   "source": [
    "#blockquote\n",
    "搜集、理解、分析、處理、視覺化資料數據並從中萃取有用的價值"
   ]
  },
  {
   "cell_type": "markdown",
   "metadata": {},
   "source": [
    "當年網際網路開始蓬勃發展，軟體工程師是最夯最潮的行業。儘管現在工程師的重要性並沒有下降，隨著人們的程式能力穩定上升，軟體工程師回歸平凡，甚至還有人戲稱為「碼農」、「程式猿」。\n",
    "\n",
    "歷史總是不斷重演。\n",
    "\n",
    "或許再過幾年，等人們的資料科學力上升到一定階段，資料科學變成呼吸喝水般的知識以後，資料科學家們也會被人戲稱為「資料農」。\n",
    "\n",
    "或許當你幾年後遇到我，我可能這樣回你："
   ]
  },
  {
   "cell_type": "code",
   "execution_count": null,
   "metadata": {},
   "outputs": [],
   "source": [
    "#blockquote\n",
    "嘿！我就只是個資料農！你也是嗎？"
   ]
  },
  {
   "cell_type": "code",
   "execution_count": null,
   "metadata": {},
   "outputs": [],
   "source": [
    "#ignore\n",
    "## 小插曲：華視新聞嘗試轉型\n",
    "\n",
    "題外話，我想到最近[華視新聞嘗試轉型](https://www.facebook.com/menafangofficial/posts/944754745649454)的案例。透過減少無意義的新聞內容，提升公共利益是一件非常重要且值得鼓勵的事情。\n",
    "\n",
    "提供有意義的新聞內容這件事情，實際上大大提升了潛在的使用者價值（如提升國際觀、了解世界脈動），但可想而知，使用者習慣於吸引眼球的新聞，反而使得華視的收視率（使用者關注）下降，進而導致廣告收益下滑，無法持續做這件重要的事情。\n",
    "\n",
    "以資料科學的角度來看，一個可能的解決方法是，想辦法將已有的使用者觀看紀錄資料以及觀看者所在地區、年齡等跟人口有關的資料結合，做更精細的市場劃分，找出想看國際新聞的閱覽者的觀看模式（如時段、觀看長度），進而提升使用者關注。\n",
    "\n",
    "這想法類似奧美廣告教父在[性感小數字](http://www.books.com.tw/products/0010725104)一書所提出的想法。"
   ]
  }
 ],
 "metadata": {
  "Author": "Lee Meng",
  "Category": "",
  "Date": "2018-05-11 21:10",
  "Description": "市面上有大量資料科學相關課程、書籍供我們自由學習，但你有想過為何我們需要學習資料科學嗎？為什麼資料科學現在那麼夯？我們應該拿資料科學來做什麼？抽離技術實作或者分析手法的討論，這篇文章試著用簡單的經濟學解釋其背後原因。希望閱讀完本文的讀者能了解為何資料科學在資訊時代扮演重要角色，以及我們要怎麼有效率地把握「資料科學力」以創造更大的價值。",
  "Image": "yoann-boyer-276971-unsplash.jpg",
  "Image_credit_url": "https://unsplash.com/photos/9dD0gFvrFnY?utm_source=unsplash&utm_medium=referral&utm_content=creditCopyText",
  "Tags": "data-science",
  "Title": "揭開資料科學的神秘面紗",
  "kernelspec": {
   "display_name": "Python 3",
   "language": "python",
   "name": "python3"
  },
  "language_info": {
   "codemirror_mode": {
    "name": "ipython",
    "version": 3
   },
   "file_extension": ".py",
   "mimetype": "text/x-python",
   "name": "python",
   "nbconvert_exporter": "python",
   "pygments_lexer": "ipython3",
   "version": "3.7.2"
  },
  "toc": {
   "nav_menu": {},
   "number_sections": false,
   "sideBar": false,
   "skip_h1_title": false,
   "toc_cell": false,
   "toc_position": {
    "height": "298px",
    "left": "773.287px",
    "right": "20px",
    "top": "150px",
    "width": "242px"
   },
   "toc_section_display": "none",
   "toc_window_display": true
  },
  "varInspector": {
   "cols": {
    "lenName": 16,
    "lenType": 16,
    "lenVar": 40
   },
   "kernels_config": {
    "python": {
     "delete_cmd_postfix": "",
     "delete_cmd_prefix": "del ",
     "library": "var_list.py",
     "varRefreshCmd": "print(var_dic_list())"
    },
    "r": {
     "delete_cmd_postfix": ") ",
     "delete_cmd_prefix": "rm(",
     "library": "var_list.r",
     "varRefreshCmd": "cat(var_dic_list()) "
    }
   },
   "types_to_exclude": [
    "module",
    "function",
    "builtin_function_or_method",
    "instance",
    "_Feature"
   ],
   "window_display": false
  }
 },
 "nbformat": 4,
 "nbformat_minor": 2
}
