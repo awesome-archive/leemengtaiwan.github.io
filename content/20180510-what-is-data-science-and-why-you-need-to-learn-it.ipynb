{
 "cells": [
  {
   "cell_type": "markdown",
   "metadata": {},
   "source": [
    "# 淺談何謂資料科學"
   ]
  },
  {
   "cell_type": "markdown",
   "metadata": {},
   "source": [
    "\n",
    "\n",
    "\n",
    "這篇注重在高層，論述何謂資料科學，為何他夯，為何你應該要學習。\n",
    "\n",
    "在你 jump in 之前，我想先讓你對資料科學有個high level 的了解。\n",
    "\n",
    "透過這篇文章，我希望能讓讀者了解學習資料科學的最終目的：利用資料創造價值，而不是盲目地跟從網路上大量的教學課程。\n",
    "\n",
    "當然不是說技術不重要，而是先搞清楚你的目的、目標，再使用適宜的工具，善用科技的進步、大量的資料來創造前所未有的價值/產品。\n",
    "\n"
   ]
  },
  {
   "cell_type": "markdown",
   "metadata": {},
   "source": [
    "## 聽說你想成為資料科學家？\n",
    "\n",
    "資料科學大概是近年最夯的流行語之一了。不管在哪邊，你都可以聽到媒體相關的報導：\n",
    "- [食農教育科研成果農業大數據結合資料科學](https://taronews.tw/2018/05/07/34472/)\n",
    "- [想成為資料科學家？來挑戰 Google、FB、Apple 等六間公司人工智慧最新面試題](https://www.inside.com.tw/2018/04/24/data-scientist-interview)\n",
    "- [台灣產業AI化 最大問題人才不足](http://www.digitimes.com.tw/iot/article.asp?cat=130&cat1=&cat2=&id=0000529979_36M8SBKK8S3C4K8O2RHKM&social_share=y)\n",
    "- [成為搶手資料科學家應具備什麼技能？先學Python準沒錯](https://www.ithome.com.tw/news/121342)\n",
    "\n",
    "... 族繁不及備載。\n",
    "\n",
    "而因為企業對擁有資料科學能力的人才需求大，想成為資料科學家（Data Scientist）的同學們也不少，相關的教學文章、線上課程如雨後春筍般湧現。這邊我沒辦法把它們一一列出，但你可以前往一些知名的線上課程平台如 [Coursera](https://www.coursera.org/)、[Udemy](https://www.udemy.com/)、[DataCamp](https://www.datacamp.com/) 並搜尋「資料科學」（或者 Data Science）就知道我的意思了。"
   ]
  },
  {
   "cell_type": "markdown",
   "metadata": {},
   "source": [
    "<center>\n",
    "    <img src=\"images/data-science/datacamp-courses.png\" style=\"width:90%\"/>\n",
    "</center>\n",
    "<center>\n",
    "    <a href=\"https://www.datacamp.com/\" target=\"_blank\">DataCamp</a>\n",
    "    <font color='purple'>: </font>基本上全部都是資料科學相關課程，寫程式寫到飽\n",
    "    <br>\n",
    "</center>"
   ]
  },
  {
   "cell_type": "markdown",
   "metadata": {},
   "source": [
    "如果我們把這些新聞報導或者教學課程，依照主題/領域做個粗略分類的話，還可以得到一些關鍵字：\n",
    "- 大數據（Big Data）\n",
    "- 人工智慧（Artificial Intelligence）\n",
    "- 資料視覺化（Data Visualization）\n",
    "- 機器學習（Machine Learning）\n",
    "- 深度學習（Deep Learning）\n",
    "- 統計分析（Statistics）\n",
    "- 雲端運算 （Cloud Computing）\n",
    "- Python、R、SQL\n",
    "- ..."
   ]
  },
  {
   "cell_type": "markdown",
   "metadata": {},
   "source": [
    "<center>\n",
    "    <img src=\"images/data-science/sean-pollock-203658-unsplash.jpg\" style=\"width:90%\"/>\n",
    "</center>\n",
    "<center>\n",
    "    <a href=\"https://unsplash.com/photos/PhYq704ffdA?utm_source=unsplash&utm_medium=referral&utm_content=creditCopyText\" target=\"_blank\">資料科學</a>\n",
    "    <font color='purple'>: </font>涵蓋大量領域，各領域的專業知識就像一棟棟大樓將你包圍吞噬\n",
    "    <br>\n",
    "</center>"
   ]
  },
  {
   "cell_type": "markdown",
   "metadata": {},
   "source": [
    "想學習資料科學的同學這時候就頭疼了：\n",
    "- 「全部都要學嗎？從哪邊開始 .. 」\n",
    "- 「選 [Python](https://zh.wikipedia.org/wiki/Python) 或是 [R 語言](https://zh.wikipedia.org/wiki/R%E8%AF%AD%E8%A8%80)？還是先學 [SQL](https://zh.wikipedia.org/wiki/SQL)？」\n",
    "- 「資料視覺化要學 Python 的 [Matplotlib](https://matplotlib.org/) 還是 R 的 [ggplot2](http://ggplot2.org/) ？」\n",
    "\n",
    "現在有些網站很用心，為了解決你的煩惱，還將相關的課程集結起來成一個[專業課程（Specialization）](https://www.coursera.org/specializations/data-science-python)讓你一步一步跟著學。\n",
    "\n",
    "勤學如你，上了幾門課以後學會如何利用 [Python 做簡單的機器學習模型](https://www.coursera.org/learn/python-machine-learning)、[使用 R 做資料視覺化](https://www.datacamp.com/courses/data-visualization-with-ggplot2-1)，甚至也懂得[使用 SQL 存取資料庫](https://www.datacamp.com/courses/intro-to-sql-for-data-science)。\n",
    "\n",
    "恭喜！你是個資料科學家了！"
   ]
  },
  {
   "cell_type": "markdown",
   "metadata": {},
   "source": [
    "..."
   ]
  },
  {
   "cell_type": "markdown",
   "metadata": {},
   "source": [
    "真的是這樣嗎？"
   ]
  },
  {
   "cell_type": "markdown",
   "metadata": {},
   "source": [
    "..."
   ]
  },
  {
   "cell_type": "markdown",
   "metadata": {},
   "source": [
    "你可能會開始思考："
   ]
  },
  {
   "cell_type": "code",
   "execution_count": null,
   "metadata": {},
   "outputs": [],
   "source": [
    "#blockquote\n",
    "所以到底啥是資料科學？資料科學到底在夯什麼？為什麼我要學資料科學？"
   ]
  },
  {
   "cell_type": "markdown",
   "metadata": {},
   "source": [
    "實際上會這樣想的不止你一人。在仔細思考過上述問題之前，就算學了再多門課，充其量只是在不斷擴充自己的「資料科學工具盒」，但卻不知道「為何要買這些工具」、「要拿這些工具做什麼」。"
   ]
  },
  {
   "cell_type": "markdown",
   "metadata": {},
   "source": [
    "<center>\n",
    "    <img src=\"images/data-science/barn-images-12223-unsplash.jpg\" style=\"width:90%\"/>\n",
    "</center>\n",
    "<center>\n",
    "    <a href=\"https://unsplash.com/photos/t5YUoHW6zRo?utm_source=unsplash&utm_medium=referral&utm_content=creditCopyText\" target=\"_blank\">資料科學工具箱</a>\n",
    "    <font color='purple'>: </font>琳瑯滿目，酷！但你要用這些工具創造什麼？\n",
    "    <br>\n",
    "</center>"
   ]
  },
  {
   "cell_type": "markdown",
   "metadata": {},
   "source": [
    "因為你學的是實踐資料科學的工具、方法論（Methodology），而不是「為什麼我們需要資料科學」。我會用剩下的篇幅試著對此問題給出一套解釋，也歡迎留言分享你的看法。\n",
    "\n",
    "不過現在，且聽我娓娓道來。"
   ]
  },
  {
   "cell_type": "markdown",
   "metadata": {},
   "source": [
    "## 所以資料科學到底在夯什麼？"
   ]
  },
  {
   "cell_type": "markdown",
   "metadata": {},
   "source": [
    "要深入探討這個問題的解答，我們可以從 Google 首席經濟學家 [哈爾·范里安](https://zh.wikipedia.org/wiki/%E5%93%88%E5%B0%94%C2%B7%E8%8C%83%E9%87%8C%E5%AE%89) 在 2009 年接受麥肯錫的訪問，探討[網際網路對企業的挑戰](https://www.mckinsey.com/industries/high-tech/our-insights/hal-varian-on-how-the-web-challenges-managers)中看出一些端倪。\n",
    "\n",
    "近年網際網路快速發展。要在網路上發表內容，對任何人或者任何企業來說都是輕而易舉的事情。這邊說的內容（Content）可以是任意資訊，比如説：\n",
    "- 一則 Facebook 粉絲團貼文\n",
    "- 一則銷售青島啤酒的網頁\n",
    "- 一個教你透過 Python 學習資料科學的線上課程網頁\n",
    "- 一篇部落格文章（像你正在看的這篇）\n",
    "\n",
    "因為傳播媒介以及科技的進步，要在網路上發布這些資訊並讓他人注意到的成本趨近於零，而其導致的結果就是[全球的資訊量急速成長](https://www.ithome.com.tw/article/87190)。被稱為人工智慧之父之一的經濟學家 [赫伯特·西蒙](http://wiki.mbalib.com/zh-tw/%E8%B5%AB%E4%BC%AF%E7%89%B9%C2%B7%E8%A5%BF%E8%92%99) 針對這種現象就曾說過一句[名言](https://en.wikiquote.org/wiki/Herbert_A._Simon)："
   ]
  },
  {
   "cell_type": "code",
   "execution_count": null,
   "metadata": {},
   "outputs": [],
   "source": [
    "#blockquote\n",
    "在一個資訊豐富的世界裡頭，資訊量的富裕導致人們注意力的貧窮。"
   ]
  },
  {
   "cell_type": "markdown",
   "metadata": {},
   "source": [
    "以個人的角度來看，在時間以及精力有限的情況下，我們每天能接受資訊的時間以及注意力都是有限的。如何分配這些寶貴的注意力變成現代人的課題（儘管我們常渾然不知）。\n",
    "\n",
    "以經濟學的角度來看，現在的資訊時代最不缺的資源就是「資料」；稀有、價值高且需要小心分配的資源是「人們的注意力」。因此誰能妥善利用資料科學的力量，並掌握「人們的注意力」這項稀有資產，就能獲得龐大商機。"
   ]
  },
  {
   "cell_type": "markdown",
   "metadata": {},
   "source": [
    "一些常見的例子包含：\n",
    "- Google 廣告事業\n",
    "- Youtube 影片推薦\n",
    "- 各式各樣的訂閱制度（如 netflix）\n",
    "\n",
    "在成功獲得你的時間/注意力以後，最常見的獲利模式就是秀廣告給你看了。不過這邊想點出的重點是："
   ]
  },
  {
   "cell_type": "code",
   "execution_count": null,
   "metadata": {},
   "outputs": [],
   "source": [
    "#blockquote\n",
    "全世界的企業都無所不用其極地想辦法利用資料科學獲得人們的注意"
   ]
  },
  {
   "cell_type": "code",
   "execution_count": null,
   "metadata": {},
   "outputs": [],
   "source": []
  },
  {
   "cell_type": "markdown",
   "metadata": {},
   "source": [
    "這邊指的資料科學如 [哈爾·范里安](https://zh.wikipedia.org/wiki/%E5%93%88%E5%B0%94%C2%B7%E8%8C%83%E9%87%8C%E5%AE%89) 所說："
   ]
  },
  {
   "cell_type": "code",
   "execution_count": null,
   "metadata": {},
   "outputs": [],
   "source": [
    "#blockquote\n",
    "搜集並理解資料、分析、處理、視覺化資料並從中萃取有用的價值"
   ]
  },
  {
   "cell_type": "markdown",
   "metadata": {},
   "source": [
    "一個典範例子是 Google 的廣告（Advertisement）：\n",
    "\n",
    "\n",
    "\n",
    "其中的佼佼者大概非 Google 的廣告莫屬了：想像你在 Google 上搜尋「data science courses」，"
   ]
  },
  {
   "cell_type": "markdown",
   "metadata": {},
   "source": [
    "<center>\n",
    "    <img src=\"images/data-science/google.png\" style=\"width:90%\"/>\n",
    "</center>\n",
    "<center>\n",
    "    Google 搜尋：如何運用資料科學推薦最相關廣告以抓住使用者注意力\n",
    "    <br>\n",
    "</center>"
   ]
  },
  {
   "cell_type": "markdown",
   "metadata": {},
   "source": [
    "反之，誰能掌握「人們的注意力」這項\n",
    "\n",
    "\n",
    "一樣，不缺資料，缺處理數據的人才\n",
    "\n",
    "\n",
    "\n",
    "\n",
    "\n",
    "\n",
    "\n",
    "注意力 換 廣告\n",
    "交換的是什麼？\n",
    "\n",
    "想盡辦法使用資料吸引人們注意力"
   ]
  },
  {
   "cell_type": "code",
   "execution_count": null,
   "metadata": {},
   "outputs": [],
   "source": []
  },
  {
   "cell_type": "markdown",
   "metadata": {},
   "source": [
    "\n",
    "\n",
    "\n",
    "\n",
    "不管什麼企業都在尋找有能力的資料科學家（Data Scientist）幫他們處理大數據、建置\n",
    "\n",
    "\n",
    "人們\n",
    "\n",
    "\n",
    "\n",
    "\n",
    "本文希望能站著一個較高的層次看到底資料科學在熱什麼，\n",
    "\n",
    "\n",
    "\n",
    "你會不會好奇為何那麼多跟資料科學\n",
    "\n",
    "\n",
    "這篇文章試著\n",
    "\n",
    "\n",
    "\n",
    "\n",
    "很多人職稱不是「資料科學家」，但卻已經在做資料科學"
   ]
  },
  {
   "cell_type": "markdown",
   "metadata": {},
   "source": [
    "\n",
    "\n",
    "\n",
    "資料科學：資訊時代背後的引擎 / 推手\n",
    "\n",
    "- 電視台\n",
    "- Facebook\n",
    "- 廣告\n",
    "    - 資料足跡"
   ]
  },
  {
   "cell_type": "markdown",
   "metadata": {},
   "source": [
    "\n",
    "\n",
    "## 資料科學無所不在\n",
    "\n",
    "## 這世界怎麼運轉的？\n",
    "\n",
    "數據時代，稀有的是什麼？\n",
    "## 我們怎麼走到這裡的\n",
    "\n",
    "## 所以現在那麼多教學文章是？\n",
    "## 資料科學家 vs 資料科學力\n",
    "## 你要怎麼走下去？選什麼技能發展？\n",
    "## 結論\n",
    "\n"
   ]
  },
  {
   "cell_type": "code",
   "execution_count": null,
   "metadata": {},
   "outputs": [],
   "source": []
  },
  {
   "cell_type": "code",
   "execution_count": null,
   "metadata": {},
   "outputs": [],
   "source": []
  },
  {
   "cell_type": "code",
   "execution_count": null,
   "metadata": {},
   "outputs": [],
   "source": []
  },
  {
   "cell_type": "code",
   "execution_count": null,
   "metadata": {},
   "outputs": [],
   "source": []
  }
 ],
 "metadata": {
  "Author": "Lee Meng",
  "Category": "",
  "Date": "2018-05-10 21:10",
  "Description": "",
  "Image": "",
  "Image_credit_url": "",
  "Slug": "what-is-data-science-and-why-you-need-to-learn-it",
  "Tags": "data-science",
  "Title": "淺談資料科學以及為何你需要它",
  "kernelspec": {
   "display_name": "Python 3",
   "language": "python",
   "name": "python3"
  },
  "language_info": {
   "codemirror_mode": {
    "name": "ipython",
    "version": 3
   },
   "file_extension": ".py",
   "mimetype": "text/x-python",
   "name": "python",
   "nbconvert_exporter": "python",
   "pygments_lexer": "ipython3",
   "version": "3.6.5"
  },
  "toc": {
   "nav_menu": {},
   "number_sections": false,
   "sideBar": false,
   "skip_h1_title": false,
   "toc_cell": false,
   "toc_position": {
    "height": "298px",
    "left": "773.287px",
    "right": "20px",
    "top": "150px",
    "width": "242px"
   },
   "toc_section_display": "none",
   "toc_window_display": true
  },
  "varInspector": {
   "cols": {
    "lenName": 16.0,
    "lenType": 16.0,
    "lenVar": 40.0
   },
   "kernels_config": {
    "python": {
     "delete_cmd_postfix": "",
     "delete_cmd_prefix": "del ",
     "library": "var_list.py",
     "varRefreshCmd": "print(var_dic_list())"
    },
    "r": {
     "delete_cmd_postfix": ") ",
     "delete_cmd_prefix": "rm(",
     "library": "var_list.r",
     "varRefreshCmd": "cat(var_dic_list()) "
    }
   },
   "types_to_exclude": [
    "module",
    "function",
    "builtin_function_or_method",
    "instance",
    "_Feature"
   ],
   "window_display": false
  }
 },
 "nbformat": 4,
 "nbformat_minor": 2
}
