{
 "cells": [
  {
   "cell_type": "markdown",
   "metadata": {},
   "source": [
    "Beautifulsoup 是一個可以幫助我們 parse HTML 的 lib, 這篇主要紀錄使用 beautifulsoup 時常用的指令。 "
   ]
  },
  {
   "cell_type": "code",
   "execution_count": 18,
   "metadata": {
    "collapsed": true
   },
   "outputs": [],
   "source": [
    "from bs4 import BeautifulSoup"
   ]
  },
  {
   "cell_type": "markdown",
   "metadata": {},
   "source": [
    "## 找出特定 HTML 物件"
   ]
  },
  {
   "cell_type": "markdown",
   "metadata": {},
   "source": [
    "假設我們有一個字串代表一個表格："
   ]
  },
  {
   "cell_type": "code",
   "execution_count": 19,
   "metadata": {
    "collapsed": true
   },
   "outputs": [],
   "source": [
    "html = \"\"\"<div><table border=\"1\" class=\"dataframe\"><thead><tr style=\"text-align:right;\"><th></th><th>x</th><th>y</th></tr></thead><tbody><tr><th>0</th><td>-2.863752</td><td>-1.066424</td></tr><tr><th>1</th><td>-0.779238</td><td>0.862169</td></tr></tbody></table></div>\"\"\""
   ]
  },
  {
   "cell_type": "markdown",
   "metadata": {},
   "source": [
    "渲染成 HTML:\n",
    "<div>\n",
    "   <table border=\"1\" class=\"dataframe\">\n",
    "      <thead>\n",
    "         <tr style=\"text-align: right;\">\n",
    "            <th></th>\n",
    "            <th>x</th>\n",
    "            <th>y</th>\n",
    "         </tr>\n",
    "      </thead>\n",
    "      <tbody>\n",
    "         <tr>\n",
    "            <th>0</th>\n",
    "            <td>-2.863752</td>\n",
    "            <td>-1.066424</td>\n",
    "         </tr>\n",
    "         <tr>\n",
    "            <th>1</th>\n",
    "            <td>-0.779238</td>\n",
    "            <td>0.862169</td>\n",
    "         </tr>\n",
    "      </tbody>\n",
    "   </table>\n",
    "</div>"
   ]
  },
  {
   "cell_type": "markdown",
   "metadata": {},
   "source": [
    "實際 HTML 架構：\n",
    "```html\n",
    "<div>\n",
    "   <table border=\"1\" class=\"dataframe\">\n",
    "      <thead>\n",
    "         <tr style=\"text-align: right;\">\n",
    "            <th></th>\n",
    "            <th>x</th>\n",
    "            <th>y</th>\n",
    "         </tr>\n",
    "      </thead>\n",
    "      <tbody>\n",
    "         <tr>\n",
    "            <th>0</th>\n",
    "            <td>-2.863752</td>\n",
    "            <td>-1.066424</td>\n",
    "         </tr>\n",
    "         <tr>\n",
    "            <th>1</th>\n",
    "            <td>-0.779238</td>\n",
    "            <td>0.862169</td>\n",
    "         </tr>\n",
    "      </tbody>\n",
    "   </table>\n",
    "</div>\n",
    "```"
   ]
  },
  {
   "cell_type": "markdown",
   "metadata": {},
   "source": [
    "利用 `BeautifulSoup` 物件 parse HTML:"
   ]
  },
  {
   "cell_type": "code",
   "execution_count": 20,
   "metadata": {},
   "outputs": [
    {
     "data": {
      "text/plain": [
       "<div><table border=\"1\" class=\"dataframe\"><thead><tr style=\"text-align:right;\"><th></th><th>x</th><th>y</th></tr></thead><tbody><tr><th>0</th><td>-2.863752</td><td>-1.066424</td></tr><tr><th>1</th><td>-0.779238</td><td>0.862169</td></tr></tbody></table></div>"
      ]
     },
     "execution_count": 20,
     "metadata": {},
     "output_type": "execute_result"
    }
   ],
   "source": [
    "from bs4 import BeautifulSoup\n",
    "soup = BeautifulSoup(html, 'html.parser')\n",
    "soup"
   ]
  },
  {
   "cell_type": "markdown",
   "metadata": {},
   "source": [
    "找到第一個符合條件的 `table` 標籤"
   ]
  },
  {
   "cell_type": "code",
   "execution_count": 21,
   "metadata": {},
   "outputs": [
    {
     "data": {
      "text/plain": [
       "<table border=\"1\" class=\"dataframe\"><thead><tr style=\"text-align:right;\"><th></th><th>x</th><th>y</th></tr></thead><tbody><tr><th>0</th><td>-2.863752</td><td>-1.066424</td></tr><tr><th>1</th><td>-0.779238</td><td>0.862169</td></tr></tbody></table>"
      ]
     },
     "execution_count": 21,
     "metadata": {},
     "output_type": "execute_result"
    }
   ],
   "source": [
    "table = soup.find('table', {'class': 'dataframe'})\n",
    "table"
   ]
  },
  {
   "cell_type": "markdown",
   "metadata": {},
   "source": [
    "## 設定新屬性 / class"
   ]
  },
  {
   "cell_type": "markdown",
   "metadata": {},
   "source": [
    "因為這時候我們取出來的 `table` 物件是 reference 到 soup 裡頭對應的物件, 只要直接改變對應的 attr 就會直接反映結果到 `soup` 物件:"
   ]
  },
  {
   "cell_type": "code",
   "execution_count": 22,
   "metadata": {
    "collapsed": true
   },
   "outputs": [],
   "source": [
    "table['class'] = table['class'] + ['table', 'table-striped', 'table-responsive']"
   ]
  },
  {
   "cell_type": "code",
   "execution_count": 23,
   "metadata": {},
   "outputs": [
    {
     "data": {
      "text/plain": [
       "<div><table border=\"1\" class=\"dataframe table table-striped table-responsive\"><thead><tr style=\"text-align:right;\"><th></th><th>x</th><th>y</th></tr></thead><tbody><tr><th>0</th><td>-2.863752</td><td>-1.066424</td></tr><tr><th>1</th><td>-0.779238</td><td>0.862169</td></tr></tbody></table></div>"
      ]
     },
     "execution_count": 23,
     "metadata": {},
     "output_type": "execute_result"
    }
   ],
   "source": [
    "soup"
   ]
  },
  {
   "cell_type": "markdown",
   "metadata": {},
   "source": [
    "## Iterate 標籤裡頭的子標籤"
   ]
  },
  {
   "cell_type": "code",
   "execution_count": 24,
   "metadata": {},
   "outputs": [
    {
     "name": "stdout",
     "output_type": "stream",
     "text": [
      "thead in table\n",
      "tbody in table\n"
     ]
    }
   ],
   "source": [
    "for c in table.children:\n",
    "    print(f'{c.name} in {table.name}')"
   ]
  },
  {
   "cell_type": "markdown",
   "metadata": {},
   "source": [
    "## 移除標籤"
   ]
  },
  {
   "cell_type": "markdown",
   "metadata": {},
   "source": [
    "這邊假設我們要移除表格裡頭第一行的值 ( 第2個 `tr` 標籤 ), 可以對要移除的標籤物件使用 `extract()` func."
   ]
  },
  {
   "cell_type": "markdown",
   "metadata": {},
   "source": [
    "<div>\n",
    "   <table border=\"1\" class=\"dataframe\">\n",
    "      <thead>\n",
    "         <tr style=\"text-align: right;\">\n",
    "            <th></th>\n",
    "            <th>x</th>\n",
    "            <th>y</th>\n",
    "         </tr>\n",
    "      </thead>\n",
    "      <tbody>\n",
    "         <tr>\n",
    "            <th>0</th>\n",
    "            <td>-2.863752</td>\n",
    "            <td>-1.066424</td>\n",
    "         </tr>\n",
    "         <tr>\n",
    "            <th>1</th>\n",
    "            <td>-0.779238</td>\n",
    "            <td>0.862169</td>\n",
    "         </tr>\n",
    "      </tbody>\n",
    "   </table>\n",
    "</div>"
   ]
  },
  {
   "cell_type": "code",
   "execution_count": 25,
   "metadata": {
    "collapsed": true
   },
   "outputs": [],
   "source": [
    "for i, tr in enumerate(soup.findAll('tr')):\n",
    "    if i == 1:\n",
    "        tr.extract()"
   ]
  },
  {
   "cell_type": "markdown",
   "metadata": {},
   "source": [
    "<div>\n",
    "   <table border=\"1\" class=\"dataframe\">\n",
    "      <thead>\n",
    "         <tr style=\"text-align: right;\">\n",
    "            <th></th>\n",
    "            <th>x</th>\n",
    "            <th>y</th>\n",
    "         </tr>\n",
    "      </thead>\n",
    "      <tbody>\n",
    "         <tr>\n",
    "            <th>1</th>\n",
    "            <td>-0.779238</td>\n",
    "            <td>0.862169</td>\n",
    "         </tr>\n",
    "      </tbody>\n",
    "   </table>\n",
    "</div>"
   ]
  },
  {
   "cell_type": "markdown",
   "metadata": {},
   "source": [
    "## 建立新標籤"
   ]
  },
  {
   "cell_type": "markdown",
   "metadata": {},
   "source": [
    "假設我們想要建立一個新的 `blockquote` 標籤，並加入一些文字："
   ]
  },
  {
   "cell_type": "code",
   "execution_count": 26,
   "metadata": {
    "collapsed": true
   },
   "outputs": [],
   "source": [
    "text = 'I love BeautifulSoup!'"
   ]
  },
  {
   "cell_type": "code",
   "execution_count": 27,
   "metadata": {},
   "outputs": [
    {
     "data": {
      "text/plain": [
       "<blockquote>I love BeautifulSoup!</blockquote>"
      ]
     },
     "execution_count": 27,
     "metadata": {},
     "output_type": "execute_result"
    }
   ],
   "source": [
    "blockquote = soup.new_tag('blockquote')\n",
    "blockquote.append(text)\n",
    "blockquote"
   ]
  }
 ],
 "metadata": {
  "Author": "Lee Meng",
  "Category": "",
  "Date": "2018-03-02 15:34",
  "Description": "Beautifulsoup 是一個可以幫助我們 parse HTML 的 lib, 這篇主要紀錄使用 beautifulsoup 時常用的指令。",
  "Slug": "beautifulsoup-cheat-sheet",
  "Summary": "Beautifulsoup Note",
  "Tags": "python, beautifulsoup, html",
  "Title": "BeautifulSoup 筆記",
  "_draft": {
   "nbviewer_url": "https://gist.github.com/06c300922f38ff2463c2edce4d5bdedc"
  },
  "gist": {
   "data": {
    "description": "Beautifulsoup Note",
    "public": true
   },
   "id": "06c300922f38ff2463c2edce4d5bdedc"
  },
  "kernelspec": {
   "display_name": "Python 3",
   "language": "python",
   "name": "python3"
  },
  "language_info": {
   "codemirror_mode": {
    "name": "ipython",
    "version": 3
   },
   "file_extension": ".py",
   "mimetype": "text/x-python",
   "name": "python",
   "nbconvert_exporter": "python",
   "pygments_lexer": "ipython3",
   "version": "3.6.4"
  },
  "toc": {
   "nav_menu": {},
   "number_sections": false,
   "sideBar": false,
   "skip_h1_title": false,
   "toc_cell": false,
   "toc_position": {},
   "toc_section_display": "block",
   "toc_window_display": true
  },
  "varInspector": {
   "cols": {
    "lenName": 16,
    "lenType": 16,
    "lenVar": 40
   },
   "kernels_config": {
    "python": {
     "delete_cmd_postfix": "",
     "delete_cmd_prefix": "del ",
     "library": "var_list.py",
     "varRefreshCmd": "print(var_dic_list())"
    },
    "r": {
     "delete_cmd_postfix": ") ",
     "delete_cmd_prefix": "rm(",
     "library": "var_list.r",
     "varRefreshCmd": "cat(var_dic_list()) "
    }
   },
   "types_to_exclude": [
    "module",
    "function",
    "builtin_function_or_method",
    "instance",
    "_Feature"
   ],
   "window_display": false
  }
 },
 "nbformat": 4,
 "nbformat_minor": 2
}
