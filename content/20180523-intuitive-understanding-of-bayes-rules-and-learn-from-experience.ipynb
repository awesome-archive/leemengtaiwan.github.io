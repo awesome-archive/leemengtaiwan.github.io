{
 "cells": [
  {
   "cell_type": "markdown",
   "metadata": {},
   "source": [
    "[貝氏定理（Bayes' theorem）](https://zh.wikipedia.org/wiki/%E8%B4%9D%E5%8F%B6%E6%96%AF%E5%AE%9A%E7%90%86)是機率論中，一個概念簡單卻非常強大的定理。有了機率論的存在，人們才能理性且合理地評估未知事物發生的可能性（例：今天的下雨機率有多少？我中樂透的可能性有多高？），並透過貝氏定理搭配經驗法則來不斷地改善目前的認知，協助我們做更好的決策。\n",
    "\n",
    "英國數學家[哈羅德·傑弗里斯](https://zh.wikipedia.org/wiki/%E5%93%88%E7%BD%97%E5%BE%B7%C2%B7%E6%9D%B0%E5%BC%97%E9%87%8C%E6%96%AF)甚至[說過](https://en.wikipedia.org/wiki/Bayes%27_theorem#cite_note-1)："
   ]
  },
  {
   "cell_type": "code",
   "execution_count": null,
   "metadata": {},
   "outputs": [],
   "source": [
    "#blockquote\n",
    "貝氏定理之於機率論，就像是畢氏定理之於幾何學。"
   ]
  },
  {
   "cell_type": "markdown",
   "metadata": {},
   "source": [
    "這篇將利用生活上我們（或[人工智慧](https://zh.wikipedia.org/wiki/%E4%BA%BA%E5%B7%A5%E6%99%BA%E8%83%BD)）常需要考慮的事情，如：\n",
    "- 今天的下雨機率是多少？\n",
    "- 這封 email 是垃圾郵件的可能性有多高？\n",
    "- 醫生說我得癌症了，這可靠度有多高？（好吧，或許這沒那麼常發生）\n",
    "\n",
    "來了解貝氏定理是怎麼被應用在各式各樣的地方。我們甚至可以效仿貝氏定理的精神，讓自己能更理性地評估未知並從經驗中學習。\n",
    "\n",
    "廢話不多說，讓我們開始吧！\n"
   ]
  },
  {
   "cell_type": "markdown",
   "metadata": {},
   "source": [
    "## 今天下雨的可能性多大？"
   ]
  },
  {
   "cell_type": "markdown",
   "metadata": {},
   "source": [
    "在實際說明貝氏定理的公式把你嚇跑之前，讓我們先做個簡單的假想實驗來說明貝氏定理的精神。\n",
    "\n",
    "假設大雄一早準備出門跟靜香見面，正在考慮要不要帶傘出門。\n",
    "\n",
    "起床的時候他想：\n",
    "\n",
    "「這地區不太會下雨，不需要帶傘吧！」\n",
    "\n",
    "往窗外一看，大雄眉頭一皺，發現烏雲密佈。\n",
    "\n",
    "「痾有烏雲，感覺下雨機率上升了，但好懶得帶傘 .. 先吃完早餐再說吧。」\n",
    "\n",
    "走到廚房，發現餐桌上一大堆螞蟻在開趴。\n",
    "\n",
    "「依據老媽的智慧，螞蟻往屋內跑代表[下雨機率又提升了](http://news.ltn.com.tw/news/local/paper/715319)。真的不得不帶傘了嗎 .. 不不不！我不要帶好麻煩！」\n",
    "\n",
    "想著想著，這時候靜香打電話過來了：\n",
    "\n",
    "「胖虎說他也要去喔！」「蛤你說什麼！？」\n",
    "\n",
    "胖虎是有名的雨男，每次跟他出遊都會下雨。依照這個經驗以及前面看到的幾個現象，最後大雄放棄掙扎，帶著雨傘出門了。"
   ]
  },
  {
   "cell_type": "markdown",
   "metadata": {},
   "source": [
    "<center>\n",
    "    <img src=\"images/bayes/andy-grizzell-543812-unsplash.jpg\" style=\"width:90%\"/>\n",
    "</center>"
   ]
  },
  {
   "cell_type": "markdown",
   "metadata": {},
   "source": [
    "在上面的例子中，大雄觀察到三個現象：\n",
    "- 烏雲密佈\n",
    "- 螞蟻開趴\n",
    "- 胖虎出沒\n",
    "\n",
    "依據他過往的經驗，這些現象都會使得降雨的機率提升，讓他逐漸改變一開始「今天不太會下雨」的想法，最後決定帶傘出門。\n",
    "\n",
    "這個決策的轉變過程，其實就是貝氏定理的精神："
   ]
  },
  {
   "cell_type": "code",
   "execution_count": null,
   "metadata": {},
   "outputs": [],
   "source": [
    "#blockquote\n",
    "針對眼前發生的現象以及獲得的新資訊，搭配過往經驗，來修正一開始的想法。"
   ]
  },
  {
   "cell_type": "markdown",
   "metadata": {},
   "source": [
    "實際上，大雄已經在腦海中進行了多次貝氏定理的運算而不自知（我家大雄哪有那麼聰明）。現在讓我們用比較數學的方式來重現大雄腦海中的運算。"
   ]
  },
  {
   "cell_type": "markdown",
   "metadata": {},
   "source": [
    "## 讓我們帶點數字進去"
   ]
  },
  {
   "cell_type": "markdown",
   "metadata": {},
   "source": [
    "為了直觀地理解貝氏定理，這篇將以[發生比（odds）](https://zh.wikipedia.org/wiki/%E5%8F%91%E7%94%9F%E6%AF%94)的方式來說明。發生比很簡單，就只是列出兩個（或以上）的事件分別發生的次數。\n",
    "\n",
    "使用發生比的好處是可以很容易地比較不同事件發生的相對次數。後面會看到，我們也能把發生比轉成機率。"
   ]
  },
  {
   "cell_type": "markdown",
   "metadata": {},
   "source": [
    "假設依據過往氣象紀錄，大雄住的地區一年 365 天中有 270 天放晴，下雨的天數為 365 - 270 = 95 天。則下雨的發生比為：\n",
    "\n",
    "```text\n",
    "雨天數：晴天數 = 95：270\n",
    "```\n",
    "\n",
    "你可以把發生比想像成是一種相對關係，上面這個發生比代表，在大雄所住的地區，每觀測到 95 個雨天的日子，我們同時會觀測到 270 個晴天。晴天約是雨天的三倍之多（270 / 95）。\n",
    "\n",
    "轉換成機率來看的話，就是把雨天的天數，去除以所有天數：\n",
    "\n",
    "```text\n",
    "95 / (95 + 270) = 0.26 = 26%\n",
    "```"
   ]
  },
  {
   "cell_type": "markdown",
   "metadata": {},
   "source": [
    "一年也就只有 26% 的降雨機會，這也是為何大雄一開始在還沒觀察到新現象（烏雲、螞蟻及胖虎）的時候，合理認為今天「應該」不會下雨的原因。\n",
    "\n",
    "我們再繼續假設，依據大雄的過往經驗，他發現：\n",
    "- 雨天時，早上烏雲密佈的機會是晴天的情況下出現烏雲的 9 倍\n",
    "\n",
    "這個 9 倍是怎麼來的呢？\n",
    "\n",
    "這其實是所謂的[概度比（likelihood ratio）](https://en.wikipedia.org/wiki/Likelihood_ratios_in_diagnostic_testing)：針對「烏雲密佈」這個現象，去分別計算兩個不同「前提」（雨天/晴天）產生該現象的機率後再相除：\n",
    "\n",
    "```text\n",
    "雨天時烏雲密佈的機率 = P(烏雲|雨天）\n",
    "-------------------------------\n",
    "晴天時烏雲密佈的機率 = P(烏雲|晴天）\n",
    "```\n",
    "\n",
    "這兩個機率又被稱為[條件機率（conditional probability）](https://zh.wikipedia.org/wiki/%E6%9D%A1%E4%BB%B6%E6%A6%82%E7%8E%87)。一般 `P(A|B)` 代表在事件 B 發生的情況下，事件 A 發生的機率。\n",
    "\n",
    "假設平均來看，在 10 個雨天裡頭，早上烏雲密佈的天數為 9 天，則我們可以說：\n",
    "\n",
    "```text\n",
    "P(烏雲|雨天） = 9 / 10\n",
    "```\n",
    "\n",
    "另外在 10 個晴天裡頭，早上烏雲密佈的天數平均為 1 天：\n",
    "\n",
    "```text\n",
    "P(烏雲|晴天） = 1 / 10\n",
    "```\n",
    "\n",
    "則烏雲密佈的概度比即為：\n",
    "\n",
    "```text\n",
    "P(烏雲|雨天）    9 / 10\n",
    "-----------  = --------- = 9\n",
    "P(烏雲|晴天）    1 / 10\n",
    "```\n",
    "\n",
    "雖然「概度比」一詞很饒舌，但它就是一個比例，也就是「幾分之幾」的概念。\n",
    "\n",
    "9 就是「一分之九」＝ 9 倍，而因為分母是「晴天」，你可以解讀這個 9 為「在烏雲密佈發生的情況下，每觀測到 1 個晴天，就會同時觀測到 9 個雨天」。"
   ]
  },
  {
   "cell_type": "markdown",
   "metadata": {},
   "source": [
    "## 千呼萬喚始出來：貝氏定理"
   ]
  },
  {
   "cell_type": "markdown",
   "metadata": {},
   "source": [
    "有了這個倍數可以做什麼？\n",
    "\n",
    "直覺告訴我們，在烏雲密佈發生的前提下，下雨機率會有所提升。換句話說，在烏雲密佈，且晴天數不變的情況下，觀測到的雨天數會有所上升。而其上升的倍數就是前面的概度比（ 9 倍）。因此新的下雨發生比（odds）可以寫成：\n",
    "\n",
    "```text\n",
    "新雨天數：晴天數 = 原雨天數 * 概度比：晴天數\n",
    "　　　　　　　　 =   95   *   9   ： 270\n",
    "　　　　　　　　 =       855      ： 270           \n",
    "```\n",
    "\n",
    "新的下雨發生比是我們利用觀測到的現象重新計算的，因此一般稱為「事後發生比」（posterior odds）；而一開始的發生比則被稱為「事前發生比」（prior odds）。\n",
    "\n",
    "事後發生比告訴我們，在烏雲密佈的情況下，每觀測 855 個雨天，就會同時觀測到 270 個晴天。跟事前發生比相反，現在雨天數反而超過晴天的三倍（855 /270）。\n",
    "\n",
    "要計算新的下雨機率，我們一樣把雨天數去除以所有天數：\n",
    "\n",
    "```text\n",
    "855 / (855 + 270) = 0.76 = 76%\n",
    "```\n",
    "\n",
    "跟一開始的 26% 相比，足足上升了 50 個百分點，現在我們有更充分的理由請大雄帶把傘了。\n",
    "\n",
    "實際上，透過上面的計算，我們已經套用了[貝氏定理](https://course.elementsofai.com/3/2)的公式了："
   ]
  },
  {
   "cell_type": "code",
   "execution_count": null,
   "metadata": {},
   "outputs": [],
   "source": [
    "#blockquote\n",
    "事後發生比 = 概度比 * 事前發生比"
   ]
  },
  {
   "cell_type": "markdown",
   "metadata": {},
   "source": [
    "如同大雄的例子，一般會以下列的步驟套用貝氏定理：\n",
    "1. 對一件未知事物有初步的想法（事前發生比）\n",
    "2. 觀測到跟該事物先關的現象\n",
    "3. 利用先前累積的經驗計算出概度比\n",
    "4. 利用概度比修正該想法，得到修正結果（事後發生比）\n",
    "5. 重新做決策\n",
    "6. 重複步驟 2 到 5 \n",
    "\n",
    "透過貝氏定理，我們利用過去的經驗改善自己的想法，產生更好的決策。"
   ]
  },
  {
   "cell_type": "markdown",
   "metadata": {},
   "source": [
    "## 不死心的大雄：單純貝式"
   ]
  },
  {
   "cell_type": "markdown",
   "metadata": {},
   "source": [
    "\n",
    "\n",
    "如法炮製\n",
    "\n",
    "- 雨天時，螞蟻出現在室內的天數是晴天的 2 倍\n",
    "- 雨天時，胖虎出遊的次數是晴天的 3 倍"
   ]
  },
  {
   "cell_type": "code",
   "execution_count": null,
   "metadata": {},
   "outputs": [],
   "source": []
  },
  {
   "cell_type": "code",
   "execution_count": null,
   "metadata": {},
   "outputs": [],
   "source": []
  },
  {
   "cell_type": "markdown",
   "metadata": {},
   "source": [
    "## 發生比與機率的連結"
   ]
  },
  {
   "cell_type": "markdown",
   "metadata": {},
   "source": []
  },
  {
   "cell_type": "markdown",
   "metadata": {},
   "source": [
    "    https://course.elementsofai.com/3/2\n",
    "\n",
    "\n",
    "\n",
    "\n",
    "\n",
    "\n",
    "\n",
    "\n",
    "\n",
    "\n",
    "\n",
    "假設"
   ]
  },
  {
   "cell_type": "markdown",
   "metadata": {},
   "source": [
    "總結\n",
    "- 雨天時，早上出現烏雲密佈的次數是晴天的 9 倍\n",
    "- 雨天時，螞蟻出現在室內的頻率是晴天的 2 倍\n",
    "- 雨天時，胖虎出遊的次數是晴天的 3 倍"
   ]
  },
  {
   "cell_type": "code",
   "execution_count": null,
   "metadata": {},
   "outputs": [],
   "source": []
  },
  {
   "cell_type": "code",
   "execution_count": null,
   "metadata": {},
   "outputs": [],
   "source": []
  },
  {
   "cell_type": "markdown",
   "metadata": {},
   "source": [
    "小節\n",
    "* 公式意涵？？？\n",
    "* 人腦評估下雨機率\n",
    "    * 還記得你在高中大學學的貝氏嗎？現在先讓我們忘了公式，從一個簡單的生活案例說起\n",
    "* 從經驗中學習：實際背後的貝氏定理\n",
    "    * 生活中貝氏定理無所不在，我們甚至天天使用而不自知，因為已經內化了。但現在讓我們用比較正式的方式來看上面這個決策過程\n",
    "    * 用發生比而不是機率，比較易懂\n",
    "* 人類是很懶的：讓我們教 ai 怎麼幫我們分辨垃圾訊息吧（研究一下 gmail  怎麼做的）：機器學習\n",
    "* 模擬人腦：機器學習的 naive bayes classifier \n",
    "    * 我們讓ai學習經驗\n",
    "* 更多例子\n",
    "* （動物訓練）\n",
    "* 經驗到證據：醫療檢測\n",
    "* 當初那篇\n",
    "* 注意點\n",
    "    * 經驗是很主觀的， visualization 解釋 prior 差異對結果造成的影響（& 驢子馬的例句）\n",
    "    * 多少過去的例子才算準？\n",
    "* 結論\n",
    "* 如同現在最夯的神經網絡，號稱在模擬人腦運作相同，貝氏也是一個模型，想辦法像人腦般，理性地評估不確定的事物。或許我們永遠沒辦法百分之百重現出大腦運作的方式， but who care? After all, all models are wrong, but some are useful \n",
    "    * python 的 "
   ]
  },
  {
   "cell_type": "code",
   "execution_count": null,
   "metadata": {},
   "outputs": [],
   "source": []
  },
  {
   "cell_type": "code",
   "execution_count": null,
   "metadata": {},
   "outputs": [],
   "source": []
  },
  {
   "cell_type": "code",
   "execution_count": null,
   "metadata": {},
   "outputs": [],
   "source": [
    "\n",
    "說到貝氏定理，很多人腦中浮現的就是那個有名的公式：\n",
    "```text\n",
    "P(A)\n",
    "```"
   ]
  },
  {
   "cell_type": "code",
   "execution_count": null,
   "metadata": {},
   "outputs": [],
   "source": []
  },
  {
   "cell_type": "code",
   "execution_count": null,
   "metadata": {},
   "outputs": [],
   "source": []
  },
  {
   "cell_type": "code",
   "execution_count": null,
   "metadata": {},
   "outputs": [],
   "source": []
  }
 ],
 "metadata": {
  "Author": "Lee Meng",
  "Category": "",
  "Date": "2018-05-24 12:30",
  "Description": "",
  "Image": "alex-chambers-394779-unsplash.jpg",
  "Image_credit_url": "https://unsplash.com/photos/CyMd0vOYFfU?utm_source=unsplash&utm_medium=referral&utm_content=creditCopyText",
  "Slug": "intuitive-understandind-of-bayes-rules-and-learn-from-experience",
  "Tags": "貝氏定理, 機率",
  "Title": "從經驗中學習 - 直觀理解貝氏定理及其應用",
  "kernelspec": {
   "display_name": "Python 3",
   "language": "python",
   "name": "python3"
  },
  "language_info": {
   "codemirror_mode": {
    "name": "ipython",
    "version": 3
   },
   "file_extension": ".py",
   "mimetype": "text/x-python",
   "name": "python",
   "nbconvert_exporter": "python",
   "pygments_lexer": "ipython3",
   "version": "3.6.4"
  }
 },
 "nbformat": 4,
 "nbformat_minor": 2
}
