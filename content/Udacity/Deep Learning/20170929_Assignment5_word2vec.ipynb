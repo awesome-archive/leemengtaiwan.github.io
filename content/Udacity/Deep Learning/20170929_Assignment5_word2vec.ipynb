{
 "cells": [
  {
   "cell_type": "markdown",
   "metadata": {},
   "source": [
    "- author: Lee Meng\n",
    "- category: Deep Learning\n",
    "- date: 2017-09-30 18:30\n",
    "- title: Find Word Semantic by Using Word2vec in TensorFlow\n",
    "- slug: find-word-semantic-by-using-word2vec-in-tensorflow\n",
    "- tags: Python, TensorFlow, Word2Vec, NLP, VSM\n",
    "- description: Naive Word2vec implementation using Tensorflow\n",
    "- summary: Naive Word2vec implementation using Tensorflow"
   ]
  },
  {
   "cell_type": "markdown",
   "metadata": {
    "colab_type": "text",
    "id": "D7tqLMoKF6uq"
   },
   "source": [
    "The goal of this assignment is to train a Word2Vec skip-gram model over [Text8](http://mattmahoney.net/dc/textdata) data using Tensorflow. \n",
    "\n",
    "Word2vec is a kind of vector space model (VSM) in natural language processing (NLP) where the core assumption/intuition is that words that appear in similar 'context' share similar meaning and they should be near in the vector space. So what word2vec trying to do is to find a vector representation (embedding) for each word in our training corpus where words with similar meanings are near in the vector space.\n",
    "\n",
    "\n",
    "<center><img src=\"images/word2vec_linear_relationship.png\" style=\"width:80%\"><caption><center> <u><font color='purple'> Figure 1</u><font color='purple'>: words' representation in 2D vector space<br> <font color='black'> </center>"
   ]
  },
  {
   "cell_type": "markdown",
   "metadata": {},
   "source": [
    "Unlike supervised learning, we don't have labels that tell us 'kitten' = 'cat'. So how do we train a model that will learn the relationship between these two words? \n",
    "\n",
    "Recap the assumption mentioned before, words with similar meaning tend to appear in similar context. Because 'kitten' and 'cat' appear in similar context, if we can train a model to predict the context of the target word 'cat' and 'kitten' respectively, model should learn a similar representation for both 'kitten' and 'cat' because they produce similar context. \n",
    "\n",
    "<center><img src=\"images/cat_vs_kitten.png\" style=\"width:60%\"><caption><center> <u><font color='purple'> Figure 2</u><font color='purple'>: Training data generated from target word and context<br> <font color='black'> </center>"
   ]
  },
  {
   "cell_type": "markdown",
   "metadata": {},
   "source": [
    "As shown above, for each words like 'cat' in raw text, we will treat them as **target word** and the words surrounding it as **context** and construct the training instances (x, y) where x is target word and y is one of the word in context. And the definition of 'context' is decided by the parameter 'window size'.\n",
    "\n",
    "\n",
    "First, let's load the text data and build the training data in order to train our model."
   ]
  },
  {
   "cell_type": "markdown",
   "metadata": {},
   "source": [
    "## Libraries"
   ]
  },
  {
   "cell_type": "code",
   "execution_count": 107,
   "metadata": {
    "cellView": "both",
    "colab": {
     "autoexec": {
      "startup": false,
      "wait_interval": 0
     }
    },
    "colab_type": "code",
    "id": "0K1ZyLn04QZf"
   },
   "outputs": [],
   "source": [
    "# These are all the modules we'll be using later. Make sure you can import them\n",
    "# before proceeding further.\n",
    "%matplotlib inline\n",
    "from __future__ import print_function\n",
    "import collections\n",
    "import os\n",
    "import math\n",
    "import random\n",
    "import zipfile\n",
    "import numpy as np\n",
    "import tensorflow as tf\n",
    "# from matplotlib import pylab # use pyplot instead\n",
    "import matplotlib.pyplot as plt\n",
    "from six.moves import range\n",
    "from six.moves.urllib.request import urlretrieve\n",
    "from sklearn.manifold import TSNE\n",
    "from tqdm import tnrange\n",
    "\n",
    "plt.style.use('ggplot')"
   ]
  },
  {
   "cell_type": "markdown",
   "metadata": {},
   "source": [
    "## Raw text data"
   ]
  },
  {
   "cell_type": "markdown",
   "metadata": {
    "colab_type": "text",
    "heading_collapsed": true,
    "id": "aCjPJE944bkV"
   },
   "source": [
    "### Download / load data\n",
    "Download the data from the source website if necessary. will store the zip file in the 'datasets' subdirectory."
   ]
  },
  {
   "cell_type": "code",
   "execution_count": 2,
   "metadata": {
    "cellView": "both",
    "colab": {
     "autoexec": {
      "startup": false,
      "wait_interval": 0
     },
     "output_extras": [
      {
       "item_id": 1
      }
     ]
    },
    "colab_type": "code",
    "executionInfo": {
     "elapsed": 14640,
     "status": "ok",
     "timestamp": 1445964482948,
     "user": {
      "color": "#1FA15D",
      "displayName": "Vincent Vanhoucke",
      "isAnonymous": false,
      "isMe": true,
      "permissionId": "05076109866853157986",
      "photoUrl": "//lh6.googleusercontent.com/-cCJa7dTDcgQ/AAAAAAAAAAI/AAAAAAAACgw/r2EZ_8oYer4/s50-c-k-no/photo.jpg",
      "sessionId": "2f1ffade4c9f20de",
      "userId": "102167687554210253930"
     },
     "user_tz": 420
    },
    "hidden": true,
    "id": "RJ-o3UBUFtCw",
    "outputId": "c4ec222c-80b5-4298-e635-93ca9f79c3b7"
   },
   "outputs": [
    {
     "name": "stdout",
     "output_type": "stream",
     "text": [
      "Found and verified datasets/text8.zip. size: 31344016\n"
     ]
    }
   ],
   "source": [
    "url = 'http://mattmahoney.net/dc/'\n",
    "\n",
    "\n",
    "def maybe_download(filename, expected_bytes):\n",
    "    \"\"\"Download a file into 'datasets' sub-directory\n",
    "    if not present, and make sure it's the right size.\n",
    "    \"\"\"\n",
    "    rel_path = 'datasets/{}'.format(filename)\n",
    "    \n",
    "    # if file in not found, download it\n",
    "    if not os.path.exists(rel_path):\n",
    "        filename, _ = urlretrieve(url + filename, rel_path) \n",
    "    statinfo = os.stat(rel_path)\n",
    "    if statinfo.st_size == expected_bytes:\n",
    "        print('Found and verified {}. size: {}'.format(rel_path, statinfo.st_size))\n",
    "    else:\n",
    "        print(statinfo.st_size)\n",
    "        raise Exception('Failed to verify ' + filename +\n",
    "                        '. Can you get to it with a browser?')\n",
    "    return rel_path\n",
    "\n",
    "\n",
    "filename = maybe_download('text8.zip', 31344016)"
   ]
  },
  {
   "cell_type": "markdown",
   "metadata": {
    "colab_type": "text",
    "id": "Zqz3XiqI4mZT"
   },
   "source": [
    "### Turn data into words\n",
    "Read the data into a string."
   ]
  },
  {
   "cell_type": "code",
   "execution_count": 63,
   "metadata": {
    "cellView": "both",
    "colab": {
     "autoexec": {
      "startup": false,
      "wait_interval": 0
     },
     "output_extras": [
      {
       "item_id": 1
      }
     ]
    },
    "colab_type": "code",
    "executionInfo": {
     "elapsed": 28844,
     "status": "ok",
     "timestamp": 1445964497165,
     "user": {
      "color": "#1FA15D",
      "displayName": "Vincent Vanhoucke",
      "isAnonymous": false,
      "isMe": true,
      "permissionId": "05076109866853157986",
      "photoUrl": "//lh6.googleusercontent.com/-cCJa7dTDcgQ/AAAAAAAAAAI/AAAAAAAACgw/r2EZ_8oYer4/s50-c-k-no/photo.jpg",
      "sessionId": "2f1ffade4c9f20de",
      "userId": "102167687554210253930"
     },
     "user_tz": 420
    },
    "id": "Mvf09fjugFU_",
    "outputId": "e3a928b4-1645-4fe8-be17-fcf47de5716d"
   },
   "outputs": [
    {
     "name": "stdout",
     "output_type": "stream",
     "text": [
      "Data size 17005207\n"
     ]
    }
   ],
   "source": [
    "def read_data(filename):\n",
    "    \"\"\"Extract the first file enclosed in a zip file as a list of words\"\"\"\n",
    "    with zipfile.ZipFile(filename) as f:\n",
    "        data = tf.compat.as_str(f.read(f.namelist()[0])).split()\n",
    "    return data\n",
    "\n",
    "\n",
    "words = read_data(filename)\n",
    "print('Data size %d' % len(words))"
   ]
  },
  {
   "cell_type": "markdown",
   "metadata": {
    "heading_collapsed": true
   },
   "source": [
    "### Look into text corpus\n",
    "The 'data size' above mean how many words we have in the data. That is, there are about 17 millions words!  \n",
    "Let's show some parts of the text data to make some sense of it."
   ]
  },
  {
   "cell_type": "markdown",
   "metadata": {
    "hidden": true
   },
   "source": [
    "Some phrases which include word 'cat' with window size = '2'."
   ]
  },
  {
   "cell_type": "code",
   "execution_count": 27,
   "metadata": {
    "hidden": true,
    "scrolled": false
   },
   "outputs": [
    {
     "name": "stdout",
     "output_type": "stream",
     "text": [
      "the cartoon cat garfield would\n",
      "amount of cats that roam\n",
      "politicians autodidacts cat lovers firearm\n",
      "and activists cat lovers epistemologists\n",
      "force australia cat six two\n"
     ]
    }
   ],
   "source": [
    "cats = [' '.join(words[idx - 2: idx + 3]) for idx, word in enumerate(words) if word == 'cat' or word == 'cats']\n",
    "print('\\n'.join(cats[:5]))\n",
    "del cats"
   ]
  },
  {
   "cell_type": "markdown",
   "metadata": {
    "hidden": true
   },
   "source": [
    "Some phrases which include word 'kitten' with window size = '2'."
   ]
  },
  {
   "cell_type": "code",
   "execution_count": 28,
   "metadata": {
    "hidden": true
   },
   "outputs": [
    {
     "name": "stdout",
     "output_type": "stream",
     "text": [
      "put the kitten nermal in\n",
      "s sex kitten in the\n",
      "of tom kitten one nine\n",
      "as a kitten rudolph grey\n",
      "called a kitten which is\n"
     ]
    }
   ],
   "source": [
    "kitten = [' '.join(words[idx - 2: idx + 3]) for idx, word in enumerate(words) if word == 'kitten']\n",
    "print('\\n'.join(kitten[:5]))\n",
    "del kitten"
   ]
  },
  {
   "cell_type": "markdown",
   "metadata": {
    "colab_type": "text",
    "id": "Zdw6i4F8glpp"
   },
   "source": [
    "## Create training data\n",
    "In order to let TensorFlow make use of the text corpus, we have to transform the text corpus into sequence of numbers. The way to achieve this to build a dictionary which map every word to a unique number and use that dictionary to transform the corpus into number-based data.\n",
    "\n",
    "\n",
    "<center><img src=\"images/turn_corpus_into_numbers.png\" style=\"width:60%\"><caption><center> <u><font color='purple'> Figure 3</u><font color='purple'>: Build dictionary and turn text into numbers<br> <font color='black'> </center>"
   ]
  },
  {
   "cell_type": "markdown",
   "metadata": {},
   "source": [
    "Notice that some rare words may appear very few times in the entire text corpus. We may want to exclude these terms to keep our dictionary in a reasonable size. In order to do this, we will build the dictionary and view these terms as UNK tokens. UNK means unknown word that doesn't exist in the vocabulary set and the default number of a UNK in dictionary is 0 as shown above."
   ]
  },
  {
   "cell_type": "markdown",
   "metadata": {},
   "source": [
    "### Decide dictionary size\n",
    "Depend on the size of the vocabulary, we will construct a dictionary for top **vocabulary_size - 1** common words. For example, if the `vocabulary_size = 50000`, we will first count the frequencies of every word appeared in the text corpus and put the most common 49,999 terms into our vocabulary and make the rest of words as UNK token. ( thus the 50,000 th term in the vocabulary)."
   ]
  },
  {
   "cell_type": "code",
   "execution_count": 64,
   "metadata": {},
   "outputs": [],
   "source": [
    "vocabulary_size = 50000"
   ]
  },
  {
   "cell_type": "markdown",
   "metadata": {},
   "source": [
    "### Build dictionary and transform text corpus into sequence of numbers"
   ]
  },
  {
   "cell_type": "code",
   "execution_count": 65,
   "metadata": {
    "cellView": "both",
    "colab": {
     "autoexec": {
      "startup": false,
      "wait_interval": 0
     },
     "output_extras": [
      {
       "item_id": 1
      }
     ]
    },
    "colab_type": "code",
    "executionInfo": {
     "elapsed": 28849,
     "status": "ok",
     "timestamp": 1445964497178,
     "user": {
      "color": "#1FA15D",
      "displayName": "Vincent Vanhoucke",
      "isAnonymous": false,
      "isMe": true,
      "permissionId": "05076109866853157986",
      "photoUrl": "//lh6.googleusercontent.com/-cCJa7dTDcgQ/AAAAAAAAAAI/AAAAAAAACgw/r2EZ_8oYer4/s50-c-k-no/photo.jpg",
      "sessionId": "2f1ffade4c9f20de",
      "userId": "102167687554210253930"
     },
     "user_tz": 420
    },
    "id": "gAL1EECXeZsD",
    "outputId": "3fb4ecd1-df67-44b6-a2dc-2291730970b2"
   },
   "outputs": [
    {
     "name": "stdout",
     "output_type": "stream",
     "text": [
      "Most common words (+UNK) in text corpus:\n",
      "[['UNK', 418391], ('the', 1061396), ('of', 593677), ('and', 416629), ('one', 411764)]\n"
     ]
    }
   ],
   "source": [
    "def build_dataset(words):\n",
    "    \"\"\"\n",
    "    Build training data for word2vec from a string including\n",
    "    sequences of words divided by spaces.\n",
    "    \n",
    "    Parameters:\n",
    "    -----------\n",
    "    words: a string with every word devided by spaces\n",
    "    \n",
    "    Returns:\n",
    "    --------\n",
    "    dictionary: a dict with word as key and a unique number(index)\n",
    "        as their value. dictionary[word] = idx\n",
    "    reverse_dictionary: a dict with index as key and the corresponding \n",
    "        word as value. reverse_dictionary[idx] = word\n",
    "    counts: a list contain tuples (word, frequency) sorted descendingly \n",
    "        by frequency while use ('UNK', unk_count) as first tuple.\n",
    "    data: a list contain indices of the original words in the parameters\n",
    "        'words'.\n",
    "    \"\"\"\n",
    "    # count term frequencies and choose the most frequent \n",
    "    # terms of vocabulary_size\n",
    "    count = [['UNK', -1]]\n",
    "    count.extend(collections.Counter(words).most_common(vocabulary_size - 1))\n",
    "    dictionary = dict()\n",
    "    # index term by their frequency. while UKN is indexed as 0,\n",
    "    # the term with most frequencies is indexed as 1, the term with 2th frequencies\n",
    "    # is indexed as 2, ...\n",
    "    for word, _ in count:\n",
    "        dictionary[word] = len(dictionary)\n",
    "    \n",
    "    # turn the text corpus into a sequence of number where each number is the \n",
    "    # index of the original term in 'dictionary' dict and mark those UNK's number\n",
    "    # as 0 which indicate that they're unknown words\n",
    "    data = list()\n",
    "    unk_count = 0\n",
    "    for word in words:\n",
    "        if word in dictionary:\n",
    "            index = dictionary[word]\n",
    "        else:\n",
    "            index = 0  # dictionary['UNK']\n",
    "            unk_count = unk_count + 1\n",
    "        data.append(index)\n",
    "        \n",
    "    # update UNK's count in corpus\n",
    "    count[0][1] = unk_count\n",
    "    \n",
    "    # create reverse dict to enable lookup the original word by their index\n",
    "    reverse_dictionary = dict(zip(dictionary.values(), dictionary.keys()))\n",
    "    return data, count, dictionary, reverse_dictionary\n",
    "\n",
    "data, count, dictionary, reverse_dictionary = build_dataset(words)\n",
    "print('Most common words (+UNK) in text corpus:\\n{}'.format(count[:5]))"
   ]
  },
  {
   "cell_type": "markdown",
   "metadata": {},
   "source": [
    "### See transformed text corpus"
   ]
  },
  {
   "cell_type": "code",
   "execution_count": 71,
   "metadata": {},
   "outputs": [
    {
     "name": "stdout",
     "output_type": "stream",
     "text": [
      "\"american individualist anarchism benjamin tucker in one eight two five\"\n",
      "\n",
      "was transformed into\n",
      "\n",
      "\"64 10276 5234 3248 9615 5 4 13 10 16\"\n"
     ]
    }
   ],
   "source": [
    "sample_idx = 1000\n",
    "print('\"{}\"\\n\\nwas transformed into\\n\\n\"{}\"'\\\n",
    "      .format(' '.join(words[sample_idx: sample_idx + 10]),\n",
    "              ' '.join([str(i) for i in data[sample_idx: sample_idx + 10]])))\n",
    "del words  # Hint to reduce memory."
   ]
  },
  {
   "cell_type": "markdown",
   "metadata": {
    "colab_type": "text",
    "id": "lFwoyygOmWsL"
   },
   "source": [
    "## Function to generate a training batch for the skip-gram model.\n",
    "As usual, we will use mini-batch GD to update our model's parameters.  \n",
    "Other than batch_size, we also have to decide the range of context surrounding target word (skip_window) and how many training instances are we going to create from a single (target, context) pair.\n",
    "\n",
    "<center><img src=\"images/mini_batch_by_different_num_skips.png\" style=\"width:70%\"><caption><center> <u><font color='purple'> Figure 4</u><font color='purple'>: Build mini-batches by different num_skips<br> <font color='black'> </center>"
   ]
  },
  {
   "cell_type": "code",
   "execution_count": 93,
   "metadata": {
    "cellView": "both",
    "code_folding": [
     2
    ],
    "colab": {
     "autoexec": {
      "startup": false,
      "wait_interval": 0
     },
     "output_extras": [
      {
       "item_id": 1
      }
     ]
    },
    "colab_type": "code",
    "executionInfo": {
     "elapsed": 113,
     "status": "ok",
     "timestamp": 1445964901989,
     "user": {
      "color": "#1FA15D",
      "displayName": "Vincent Vanhoucke",
      "isAnonymous": false,
      "isMe": true,
      "permissionId": "05076109866853157986",
      "photoUrl": "//lh6.googleusercontent.com/-cCJa7dTDcgQ/AAAAAAAAAAI/AAAAAAAACgw/r2EZ_8oYer4/s50-c-k-no/photo.jpg",
      "sessionId": "2f1ffade4c9f20de",
      "userId": "102167687554210253930"
     },
     "user_tz": 420
    },
    "id": "w9APjA-zmfjV",
    "outputId": "67cccb02-cdaf-4e47-d489-43bcc8d57bb8"
   },
   "outputs": [
    {
     "name": "stdout",
     "output_type": "stream",
     "text": [
      "data: \"anarchism originated as a term of abuse first\"\n",
      "\n",
      "(target, context) with num_skips = 2 and skip_window = 1:\n",
      "('originated', 'anarchism')\n",
      "('originated', 'as')\n",
      "('as', 'originated')\n",
      "('as', 'a')\n",
      "('a', 'term')\n",
      "('a', 'as')\n",
      "('term', 'of')\n",
      "('term', 'a')\n",
      "\n",
      "(target, context) with num_skips = 4 and skip_window = 2:\n",
      "('as', 'term')\n",
      "('as', 'anarchism')\n",
      "('as', 'a')\n",
      "('as', 'originated')\n",
      "('a', 'as')\n",
      "('a', 'originated')\n",
      "('a', 'term')\n",
      "('a', 'of')\n"
     ]
    }
   ],
   "source": [
    "# global variable to randomize mini-batch\n",
    "data_index = 0\n",
    "def generate_batch(batch_size, num_skips, skip_window):\n",
    "    \"\"\"\n",
    "    Generate a mini-batch containing (target_word, context) pairs\n",
    "    of `batch_size`. \n",
    "    \n",
    "    Parameters:\n",
    "    -----------\n",
    "    batch_size: mini_batch's size, typically 16 <= batch_size <= 512\n",
    "    num_skips: how many times to reuse an input/target word to \n",
    "        generate a label. \n",
    "    skip_window: how many words to consider left and right.\n",
    "    \n",
    "    Returns:\n",
    "    --------\n",
    "    batch: a list of target words\n",
    "    labels: a list of context words corresponding to target words\n",
    "        in batch\n",
    "    \n",
    "    \"\"\"\n",
    "    global data_index\n",
    "    assert batch_size % num_skips == 0\n",
    "    assert num_skips <= 2 * skip_window\n",
    "    batch = np.ndarray(shape=(batch_size), dtype=np.int32)\n",
    "    labels = np.ndarray(shape=(batch_size, 1), dtype=np.int32)\n",
    "    \n",
    "    # initialize first (target, context) sequence\n",
    "    # = [ skip_window target skip_window ]\n",
    "    span = 2 * skip_window + 1\n",
    "    buffer = collections.deque(maxlen=span)\n",
    "    for _ in range(span):\n",
    "        buffer.append(data[data_index])\n",
    "        data_index = (data_index + 1) % len(data)\n",
    "    \n",
    "    # for every target word, \n",
    "    for i in range(batch_size // num_skips):\n",
    "        target = skip_window  # target label at the center of the buffer\n",
    "        targets_to_avoid = [skip_window]\n",
    "        \n",
    "        # generate #num_skips of training instances\n",
    "        for j in range(num_skips):\n",
    "            # randomly choose a context word that hasn't been chosen yet\n",
    "            # exclude target word by default\n",
    "            while target in targets_to_avoid:\n",
    "                target = random.randint(0, span - 1)\n",
    "            targets_to_avoid.append(target)\n",
    "            batch[i * num_skips + j] = buffer[skip_window]\n",
    "            labels[i * num_skips + j, 0] = buffer[target]\n",
    "            \n",
    "        # shift to next (target, context) sequence\n",
    "        buffer.append(data[data_index])\n",
    "\n",
    "        # randomize the start location of every mini-batch\n",
    "        # by adding one offset\n",
    "        data_index = (data_index + 1) % len(data)\n",
    "    return batch, labels\n",
    "\n",
    "\n",
    "print('data: \"{}\"'.format(' '.join([reverse_dictionary[di] for di in data[:8]])))\n",
    "\n",
    "for num_skips, skip_window in [(2, 1), (4, 2)]:\n",
    "    data_index = 0\n",
    "    batch, labels = generate_batch(\n",
    "        batch_size=8, num_skips=num_skips, skip_window=skip_window)\n",
    "    print('\\n(target, context) with num_skips = %d and skip_window = %d:' % (num_skips,\n",
    "                                                           skip_window))\n",
    "    print('{}'.format('\\n'.join(\n",
    "        [str((reverse_dictionary[t], reverse_dictionary[c])) \\\n",
    "                   for t, c in zip(batch, labels.reshape(8))])))"
   ]
  },
  {
   "cell_type": "markdown",
   "metadata": {
    "colab_type": "text",
    "id": "Ofd1MbBuwiva"
   },
   "source": [
    "## Word2Vec skip-gram model."
   ]
  },
  {
   "cell_type": "markdown",
   "metadata": {},
   "source": [
    "<center><img src=\"images/word2vec_model.png\" style=\"width:70%\"><caption><center> <u><font color='purple'> Figure 5</u><font color='purple'>: Word2vec model<br> <font color='black'> </center>"
   ]
  },
  {
   "cell_type": "markdown",
   "metadata": {},
   "source": [
    "### Computation graph"
   ]
  },
  {
   "cell_type": "code",
   "execution_count": 94,
   "metadata": {
    "cellView": "both",
    "colab": {
     "autoexec": {
      "startup": false,
      "wait_interval": 0
     }
    },
    "colab_type": "code",
    "id": "8pQKsV4Vwlzy"
   },
   "outputs": [],
   "source": [
    "batch_size = 128\n",
    "embedding_size = 128  # Dimension of the embedding vector.\n",
    "skip_window = 1  # How many words to consider left and right.\n",
    "num_skips = 2  # How many times to reuse an input to generate a label.\n",
    "# We pick a random validation set to sample nearest neighbors. here we limit the\n",
    "# validation samples to the words that have a low numeric ID, which by\n",
    "# construction are also the most frequent.\n",
    "valid_size = 16  # Random set of words to evaluate similarity on.\n",
    "valid_window = 100  # Only pick dev samples in the head of the distribution.\n",
    "valid_examples = np.array(random.sample(range(valid_window), valid_size))\n",
    "num_sampled = 64  # Number of negative examples to sample.\n",
    "\n",
    "graph = tf.Graph()\n",
    "\n",
    "with graph.as_default(), tf.device('/cpu:0'):\n",
    "\n",
    "    # Input data.\n",
    "    train_dataset = tf.placeholder(tf.int32, shape=[batch_size])\n",
    "    train_labels = tf.placeholder(tf.int32, shape=[batch_size, 1])\n",
    "    valid_dataset = tf.constant(valid_examples, dtype=tf.int32)\n",
    "\n",
    "    # Variables.\n",
    "    embeddings = tf.Variable(\n",
    "        tf.random_uniform([vocabulary_size, embedding_size], -1.0, 1.0))\n",
    "    softmax_weights = tf.Variable(\n",
    "        tf.truncated_normal(\n",
    "            [vocabulary_size, embedding_size],\n",
    "            stddev=1.0 / math.sqrt(embedding_size)))\n",
    "    softmax_biases = tf.Variable(tf.zeros([vocabulary_size]))\n",
    "\n",
    "    # Model.\n",
    "    # Look up embeddings for inputs.\n",
    "    embed = tf.nn.embedding_lookup(embeddings, train_dataset)\n",
    "    # Compute the softmax loss, using a sample of the negative labels each time.\n",
    "    # this is how we speed up training phase \n",
    "    loss = tf.reduce_mean(\n",
    "        tf.nn.sampled_softmax_loss(\n",
    "            weights=softmax_weights,\n",
    "            biases=softmax_biases,\n",
    "            inputs=embed,\n",
    "            labels=train_labels,\n",
    "            num_sampled=num_sampled,\n",
    "            num_classes=vocabulary_size))\n",
    "\n",
    "    # Optimizer.\n",
    "    # Note: The optimizer will optimize the softmax_weights AND the embeddings.\n",
    "    # This is because the embeddings are defined as a variable quantity and the\n",
    "    # optimizer's `minimize` method will by default modify all variable quantities\n",
    "    # that contribute to the tensor it is passed.\n",
    "    # See docs on `tf.train.Optimizer.minimize()` for more details.\n",
    "    optimizer = tf.train.AdagradOptimizer(1.0).minimize(loss)\n",
    "\n",
    "    # Compute the similarity between minibatch examples and all embeddings.\n",
    "    # We use the cosine distance:\n",
    "    norm = tf.sqrt(tf.reduce_sum(tf.square(embeddings), 1, keep_dims=True))\n",
    "    normalized_embeddings = embeddings / norm\n",
    "    valid_embeddings = tf.nn.embedding_lookup(normalized_embeddings,\n",
    "                                              valid_dataset)\n",
    "    similarity = tf.matmul(valid_embeddings,\n",
    "                           tf.transpose(normalized_embeddings))"
   ]
  },
  {
   "cell_type": "markdown",
   "metadata": {},
   "source": [
    "### Train the model"
   ]
  },
  {
   "cell_type": "code",
   "execution_count": 97,
   "metadata": {
    "cellView": "both",
    "colab": {
     "autoexec": {
      "startup": false,
      "wait_interval": 0
     },
     "output_extras": [
      {
       "item_id": 23
      },
      {
       "item_id": 48
      },
      {
       "item_id": 61
      }
     ]
    },
    "colab_type": "code",
    "executionInfo": {
     "elapsed": 436189,
     "status": "ok",
     "timestamp": 1445965429787,
     "user": {
      "color": "#1FA15D",
      "displayName": "Vincent Vanhoucke",
      "isAnonymous": false,
      "isMe": true,
      "permissionId": "05076109866853157986",
      "photoUrl": "//lh6.googleusercontent.com/-cCJa7dTDcgQ/AAAAAAAAAAI/AAAAAAAACgw/r2EZ_8oYer4/s50-c-k-no/photo.jpg",
      "sessionId": "2f1ffade4c9f20de",
      "userId": "102167687554210253930"
     },
     "user_tz": 420
    },
    "id": "1bQFGceBxrWW",
    "outputId": "5ebd6d9a-33c6-4bcd-bf6d-252b0b6055e4",
    "scrolled": false
   },
   "outputs": [
    {
     "name": "stdout",
     "output_type": "stream",
     "text": [
      "Initialized\n"
     ]
    },
    {
     "data": {
      "application/vnd.jupyter.widget-view+json": {
       "model_id": "479bac87e8864793a2657306231c3b2a",
       "version_major": 2,
       "version_minor": 0
      },
      "text/html": [
       "<p>Failed to display Jupyter Widget of type <code>HBox</code>.</p>\n",
       "<p>\n",
       "  If you're reading this message in Jupyter Notebook or JupyterLab, it may mean\n",
       "  that the widgets JavaScript is still loading. If this message persists, it\n",
       "  likely means that the widgets JavaScript library is either not installed or\n",
       "  not enabled. See the <a href=\"https://ipywidgets.readthedocs.io/en/stable/user_install.html\">Jupyter\n",
       "  Widgets Documentation</a> for setup instructions.\n",
       "</p>\n",
       "<p>\n",
       "  If you're reading this message in another notebook frontend (for example, a static\n",
       "  rendering on GitHub or <a href=\"https://nbviewer.jupyter.org/\">NBViewer</a>),\n",
       "  it may mean that your frontend doesn't currently support widgets.\n",
       "</p>\n"
      ],
      "text/plain": [
       "HBox(children=(IntProgress(value=0, max=100001), HTML(value='')))"
      ]
     },
     "metadata": {},
     "output_type": "display_data"
    },
    {
     "name": "stdout",
     "output_type": "stream",
     "text": [
      "Average loss at step 0: 7.942154\n",
      "Nearest to up: refit, airmen, unexplored, scharnhorst, histones, envelopes, wanna, wick,\n",
      "Nearest to many: herbivorous, kazimierz, surgeries, juliette, merovingian, christadelphians, experimentation, strauss,\n",
      "Nearest to people: chicken, zulu, glaucus, temporarily, groundbreaking, mapuche, varnish, vinod,\n",
      "Nearest to some: platelets, mauritania, anzus, soaemias, plankton, orcs, cegep, danzig,\n",
      "Nearest to was: blotter, continuously, gulls, lineages, turbines, cardano, honky, gcb,\n",
      "Nearest to and: haller, potion, rickshaw, fares, soldier, mariam, sponsor, irs,\n",
      "Nearest to in: wrench, atwood, boys, fermat, uhf, midrash, hallucinogens, deflate,\n",
      "Nearest to be: infertility, olaf, faramir, dxf, latino, clem, aia, cation,\n",
      "Nearest to all: stripe, abbreviation, nationalised, maoi, hermann, three, lara, jay,\n",
      "Nearest to than: antiderivatives, deduce, brainiac, wry, propel, requested, selangor, transposed,\n",
      "Nearest to system: rmi, devine, elite, deism, transgressions, bows, primer, undoubtedly,\n",
      "Nearest to were: ange, oh, widest, fidel, kristallnacht, predicates, coprocessor, surnames,\n",
      "Nearest to see: astounding, equilateral, concubines, syllables, lackluster, transoxiana, kasparov, smooth,\n",
      "Nearest to that: figurative, cluster, wendell, horch, cards, prinz, ellesmere, maximilian,\n",
      "Nearest to s: endosperm, saberhagen, pipelined, recantation, calcium, infrastructural, manchuria, spears,\n",
      "Nearest to will: suppressive, rotations, predefined, dessau, confederation, hovered, radiohead, apicomplexa,\n",
      "Average loss at step 2000: 4.364343\n",
      "Average loss at step 4000: 3.857699\n",
      "Average loss at step 6000: 3.785119\n",
      "Average loss at step 8000: 3.686496\n",
      "Average loss at step 10000: 3.616513\n",
      "Nearest to up: scharnhorst, refit, arabs, concubines, zeeland, airmen, calibers, diem,\n",
      "Nearest to many: some, kazimierz, herbivorous, timber, poorly, revitalize, psychoanalyst, studies,\n",
      "Nearest to people: ach, la, semester, several, glaucus, gediminas, mechanism, yupik,\n",
      "Nearest to some: many, overbearing, firmer, oracles, dissonant, limes, soaemias, cpu,\n",
      "Nearest to was: is, has, had, were, by, been, be, are,\n",
      "Nearest to and: or, s, but, scriptores, who, of, in, alans,\n",
      "Nearest to in: on, at, of, from, with, between, by, during,\n",
      "Nearest to be: have, was, is, do, receiving, latino, subclass, chisel,\n",
      "Nearest to all: marketed, maoi, abbreviation, stripe, protectors, nationalised, lara, chadic,\n",
      "Nearest to than: haer, deduce, caucus, omniglot, casings, propel, selangor, softer,\n",
      "Nearest to system: rmi, devine, elite, primer, hcl, try, deism, bows,\n",
      "Nearest to were: are, was, tiu, have, adware, ragged, popularizer, macrobiotic,\n",
      "Nearest to see: william, concubines, astounding, transoxiana, but, bullough, pigeon, artistic,\n",
      "Nearest to that: which, ellesmere, she, it, pectoral, also, who, breaches,\n",
      "Nearest to s: and, vu, his, the, was, carlist, tanoana, chulainn,\n",
      "Nearest to will: may, would, jews, barbarism, predefined, could, confederation, receiving,\n",
      "Average loss at step 12000: 3.606183\n",
      "Average loss at step 14000: 3.572916\n",
      "Average loss at step 16000: 3.410224\n",
      "Average loss at step 18000: 3.453891\n",
      "Average loss at step 20000: 3.539739\n",
      "Nearest to up: unvoiced, scharnhorst, zeeland, him, refit, arabs, cesium, wick,\n",
      "Nearest to many: some, these, several, other, kazimierz, studies, all, psychoanalyst,\n",
      "Nearest to people: languages, gediminas, countries, glaucus, eplf, several, those, temporarily,\n",
      "Nearest to some: many, these, their, olav, overbearing, his, its, most,\n",
      "Nearest to was: is, has, were, had, became, be, chisel, been,\n",
      "Nearest to and: or, but, at, which, from, in, however, for,\n",
      "Nearest to in: at, on, during, from, for, by, with, and,\n",
      "Nearest to be: have, been, was, were, campaigner, by, receiving, combination,\n",
      "Nearest to all: these, marketed, maoi, marshals, many, lara, escalation, agate,\n",
      "Nearest to than: or, deduce, much, trough, haer, brainiac, tug, spalding,\n",
      "Nearest to system: hcl, rmi, elite, devine, oleg, bows, henotheism, primer,\n",
      "Nearest to were: are, was, had, tiu, have, be, by, is,\n",
      "Nearest to see: atzma, diaconate, transoxiana, syllables, showcasing, lackluster, bullough, rabbinical,\n",
      "Nearest to that: which, but, breaches, because, it, ietf, this, ellesmere,\n",
      "Nearest to s: pu, purr, tanoana, forum, traveller, predicated, plasmodium, integrator,\n",
      "Nearest to will: would, may, can, could, should, to, cannot, geographic,\n",
      "Average loss at step 22000: 3.502537\n",
      "Average loss at step 24000: 3.485267\n",
      "Average loss at step 26000: 3.483680\n",
      "Average loss at step 28000: 3.478223\n",
      "Average loss at step 30000: 3.503296\n",
      "Nearest to up: him, begin, scharnhorst, them, unvoiced, refit, zeeland, calibers,\n",
      "Nearest to many: some, several, these, their, its, all, various, the,\n",
      "Nearest to people: countries, those, languages, dhea, temporarily, ach, vlsi, eplf,\n",
      "Nearest to some: many, these, several, the, their, olav, limes, this,\n",
      "Nearest to was: is, were, had, has, became, been, when, by,\n",
      "Nearest to and: or, who, in, but, from, of, rehearsal, tsunamis,\n",
      "Nearest to in: during, at, from, of, on, since, between, and,\n",
      "Nearest to be: have, is, been, are, were, mustelids, aldiss, impurity,\n",
      "Nearest to all: these, lara, some, many, inhabiting, several, maoi, marketed,\n",
      "Nearest to than: much, or, no, deduce, trough, spalding, tug, haer,\n",
      "Nearest to system: hcl, group, devine, francisco, oleg, rmi, raccoons, master,\n",
      "Nearest to were: are, was, have, had, is, tiu, dowager, been,\n",
      "Nearest to see: diaconate, include, atzma, showcasing, slider, transoxiana, rent, syllables,\n",
      "Nearest to that: which, this, however, but, what, where, kilometre, if,\n",
      "Nearest to s: his, forum, isbn, her, ancestral, insulated, sucking, and,\n",
      "Nearest to will: can, would, could, may, should, must, cannot, to,\n",
      "Average loss at step 32000: 3.500015\n",
      "Average loss at step 34000: 3.495233\n",
      "Average loss at step 36000: 3.458392\n",
      "Average loss at step 38000: 3.301554\n",
      "Average loss at step 40000: 3.431673\n",
      "Nearest to up: out, him, them, unvoiced, back, arabs, down, begin,\n",
      "Nearest to many: some, several, these, various, those, their, certain, such,\n",
      "Nearest to people: languages, countries, those, quintessential, baum, serif, dhea, areas,\n",
      "Nearest to some: many, these, any, several, olav, their, those, most,\n",
      "Nearest to was: is, had, were, became, has, severing, being, been,\n",
      "Nearest to and: or, but, while, cynical, subsystem, where, mus, in,\n",
      "Nearest to in: from, of, during, on, for, and, bubbled, at,\n",
      "Nearest to be: been, have, were, are, is, continue, was, shotguns,\n",
      "Nearest to all: lara, these, both, two, many, travellers, lobster, citizen,\n",
      "Nearest to than: or, much, no, spalding, deduce, even, brainiac, significance,\n",
      "Nearest to system: systems, code, crusading, group, bows, smuts, hcl, completions,\n",
      "Nearest to were: are, have, was, tiu, had, be, been, being,\n",
      "Nearest to see: include, pigeon, syllables, algardi, diaconate, theroux, slider, lada,\n",
      "Nearest to that: which, however, what, this, because, where, it, oro,\n",
      "Nearest to s: his, forum, levine, fl, fender, isbn, tyr, empowerment,\n",
      "Nearest to will: would, can, could, may, should, must, might, cannot,\n",
      "Average loss at step 42000: 3.433565\n",
      "Average loss at step 44000: 3.451384\n",
      "Average loss at step 46000: 3.450792\n",
      "Average loss at step 48000: 3.354962\n",
      "Average loss at step 50000: 3.388338\n",
      "Nearest to up: out, them, down, him, disproven, off, back, unvoiced,\n",
      "Nearest to many: some, several, these, various, those, most, such, other,\n",
      "Nearest to people: countries, languages, roots, vlsi, men, gediminas, those, scholars,\n",
      "Nearest to some: many, these, several, olav, most, their, any, the,\n",
      "Nearest to was: is, has, were, became, had, been, being, be,\n",
      "Nearest to and: but, or, in, while, of, from, whose, eurasia,\n",
      "Nearest to in: from, during, of, since, on, and, by, within,\n",
      "Nearest to be: have, been, were, was, is, become, being, are,\n",
      "Nearest to all: both, these, many, lara, writs, every, citizen, diffuses,\n",
      "Nearest to than: or, much, even, bam, deduce, while, spalding, significance,\n",
      "Nearest to system: systems, crusading, bows, code, hcl, renderings, smuts, group,\n",
      "Nearest to were: are, was, have, tiu, be, had, those, been,\n",
      "Nearest to see: include, pigeon, diaconate, algardi, theroux, bloomington, showcasing, pwnage,\n",
      "Nearest to that: which, however, what, often, uv, this, where, honoring,\n",
      "Nearest to s: whose, isbn, romanian, his, cleaner, adheres, fender, predicated,\n",
      "Nearest to will: would, could, can, may, must, should, shall, might,\n",
      "Average loss at step 52000: 3.437301\n",
      "Average loss at step 54000: 3.427909\n",
      "Average loss at step 56000: 3.438053\n",
      "Average loss at step 58000: 3.394049\n",
      "Average loss at step 60000: 3.394188\n",
      "Nearest to up: out, them, down, him, off, back, disproven, replace,\n",
      "Nearest to many: some, several, these, various, all, most, such, other,\n",
      "Nearest to people: those, countries, men, scholars, roots, gediminas, others, vlsi,\n",
      "Nearest to some: many, several, these, olav, most, any, each, this,\n",
      "Nearest to was: is, had, became, has, were, been, be, although,\n",
      "Nearest to and: or, but, including, than, owning, shutting, with, sagan,\n",
      "Nearest to in: during, within, including, of, at, since, throughout, anew,\n",
      "Nearest to be: been, have, are, is, was, were, refer, become,\n",
      "Nearest to all: many, these, both, rediscovery, some, timers, menial, various,\n",
      "Nearest to than: or, much, but, spalding, and, deduce, no, far,\n",
      "Nearest to system: systems, code, crusading, group, hcl, software, depth, smuts,\n",
      "Nearest to were: are, was, had, have, tiu, those, haired, be,\n",
      "Nearest to see: include, diaconate, but, can, bloomington, pwnage, according, algardi,\n",
      "Nearest to that: which, however, this, what, where, it, often, ellesmere,\n",
      "Nearest to s: whose, infrastructural, isbn, tanoana, arbenz, flybys, vladimir, geographic,\n",
      "Nearest to will: would, can, could, may, must, should, might, cannot,\n",
      "Average loss at step 62000: 3.243753\n",
      "Average loss at step 64000: 3.259946\n",
      "Average loss at step 66000: 3.404854\n",
      "Average loss at step 68000: 3.393782\n",
      "Average loss at step 70000: 3.359670\n",
      "Nearest to up: out, them, down, off, back, him, disproven, arabs,\n",
      "Nearest to many: some, several, these, various, all, most, olav, numerous,\n",
      "Nearest to people: men, those, countries, scholars, children, peoples, languages, historians,\n",
      "Nearest to some: many, several, these, olav, various, all, those, any,\n",
      "Nearest to was: is, were, has, had, became, severing, been, when,\n",
      "Nearest to and: or, while, but, which, like, stockade, than, unclassified,\n",
      "Nearest to in: within, during, on, throughout, through, from, for, at,\n",
      "Nearest to be: been, were, is, have, being, become, are, fully,\n",
      "Nearest to all: many, some, both, every, any, montag, various, these,\n",
      "Nearest to than: or, no, spalding, much, while, but, and, resign,\n",
      "Nearest to system: systems, crusading, bred, depth, group, hcl, smuts, code,\n",
      "Nearest to were: are, was, have, tiu, had, be, those, been,\n",
      "Nearest to see: include, diaconate, orators, list, algardi, according, but, fatality,\n",
      "Nearest to that: which, however, what, this, but, where, because, also,\n",
      "Nearest to s: pu, infrastructural, isbn, whose, chulainn, codifying, sequestered, purr,\n",
      "Nearest to will: would, could, may, can, should, must, might, shall,\n",
      "Average loss at step 72000: 3.372420\n",
      "Average loss at step 74000: 3.350309\n",
      "Average loss at step 76000: 3.322349\n",
      "Average loss at step 78000: 3.355263\n",
      "Average loss at step 80000: 3.377625\n",
      "Nearest to up: out, off, down, them, him, disproven, back, arabs,\n",
      "Nearest to many: several, some, various, these, most, numerous, those, both,\n",
      "Nearest to people: men, children, countries, those, words, members, peoples, scholars,\n",
      "Nearest to some: many, several, various, these, olav, most, both, any,\n",
      "Nearest to was: is, were, has, had, became, been, being, when,\n",
      "Nearest to and: or, but, including, than, while, globalsecurity, rehearsal, lances,\n",
      "Nearest to in: during, within, on, until, at, since, after, through,\n",
      "Nearest to be: been, have, become, refer, being, were, is, proceed,\n",
      "Nearest to all: both, every, various, any, many, some, these, aguilera,\n",
      "Nearest to than: or, much, but, while, and, spalding, resign, even,\n",
      "Nearest to system: systems, crusading, smuts, software, code, familias, nonpartisan, game,\n",
      "Nearest to were: are, was, had, have, those, tiu, being, be,\n",
      "Nearest to see: include, according, diaconate, but, orators, includes, list, eth,\n",
      "Nearest to that: which, however, where, ellesmere, markham, what, this, thus,\n",
      "Nearest to s: pu, isbn, whose, chulainn, mondeo, infrastructural, electorates, adheres,\n",
      "Nearest to will: would, could, can, may, should, must, might, cannot,\n",
      "Average loss at step 82000: 3.407648\n",
      "Average loss at step 84000: 3.411925\n",
      "Average loss at step 86000: 3.389199\n",
      "Average loss at step 88000: 3.359499\n",
      "Average loss at step 90000: 3.365950\n",
      "Nearest to up: out, off, down, them, back, him, disproven, arabs,\n",
      "Nearest to many: some, several, various, these, all, numerous, most, those,\n",
      "Nearest to people: children, men, women, persons, religions, god, screenwriters, countries,\n",
      "Nearest to some: many, several, these, all, any, various, those, most,\n",
      "Nearest to was: is, became, had, were, has, been, being, be,\n",
      "Nearest to and: or, but, while, emory, consistory, including, however, who,\n",
      "Nearest to in: within, during, around, of, throughout, under, between, near,\n",
      "Nearest to be: have, been, become, is, produce, was, refer, simulate,\n",
      "Nearest to all: many, both, some, every, various, several, each, any,\n",
      "Nearest to than: or, much, spalding, no, even, resign, showered, considerably,\n",
      "Nearest to system: systems, crusading, process, program, group, mee, unit, brockovich,\n",
      "Nearest to were: are, was, had, have, while, tiu, those, been,\n",
      "Nearest to see: list, diaconate, include, includes, references, refer, external, kliper,\n",
      "Nearest to that: which, however, what, but, markham, autos, where, ellesmere,\n",
      "Nearest to s: whose, isbn, infrastructural, his, pu, tyr, vladimir, mondeo,\n",
      "Nearest to will: would, could, can, may, must, should, might, cannot,\n",
      "Average loss at step 92000: 3.398944\n",
      "Average loss at step 94000: 3.258866\n",
      "Average loss at step 96000: 3.356221\n",
      "Average loss at step 98000: 3.242518\n",
      "Average loss at step 100000: 3.359612\n",
      "Nearest to up: out, off, down, him, back, them, arabs, begin,\n",
      "Nearest to many: several, some, these, various, numerous, those, all, few,\n",
      "Nearest to people: persons, men, children, someone, women, countries, players, scholars,\n",
      "Nearest to some: many, several, these, any, various, olav, all, certain,\n",
      "Nearest to was: is, became, had, were, has, although, when, been,\n",
      "Nearest to and: or, but, like, while, including, when, than, who,\n",
      "Nearest to in: within, during, throughout, of, at, from, on, with,\n",
      "Nearest to be: been, have, is, refer, become, are, were, produce,\n",
      "Nearest to all: many, various, any, every, these, some, both, several,\n",
      "Nearest to than: or, spalding, much, and, even, showered, while, omniglot,\n",
      "Nearest to system: systems, crusading, process, program, software, familias, hcl, stewardship,\n",
      "Nearest to were: are, was, have, tiu, these, those, had, be,\n",
      "Nearest to see: diaconate, includes, references, list, include, links, refer, external,\n",
      "Nearest to that: which, however, what, this, lodges, ellesmere, who, dicke,\n",
      "Nearest to s: whose, isbn, his, tyr, ancestral, infrastructural, pu, starring,\n",
      "Nearest to will: would, could, must, can, should, may, might, cannot,\n",
      "\n"
     ]
    }
   ],
   "source": [
    "num_steps = 100001\n",
    "\n",
    "with tf.Session(graph=graph) as session:\n",
    "    tf.global_variables_initializer().run()\n",
    "    print('Initialized')\n",
    "    average_loss = 0\n",
    "    for step in tnrange(num_steps):\n",
    "        batch_data, batch_labels = generate_batch(batch_size, num_skips,\n",
    "                                                  skip_window)\n",
    "        feed_dict = {train_dataset: batch_data, train_labels: batch_labels}\n",
    "        _, l = session.run([optimizer, loss], feed_dict=feed_dict)\n",
    "        average_loss += l\n",
    "        if step % 2000 == 0:\n",
    "            if step > 0:\n",
    "                average_loss = average_loss / 2000\n",
    "            # The average loss is an estimate of the loss over the last 2000 batches.\n",
    "            print('Average loss at step %d: %f' % (step, average_loss))\n",
    "            average_loss = 0\n",
    "        # note that this is expensive (~20% slowdown if computed every 500 steps)\n",
    "        if step % 10000 == 0:\n",
    "            sim = similarity.eval()\n",
    "            for i in range(valid_size):\n",
    "                valid_word = reverse_dictionary[valid_examples[i]]\n",
    "                top_k = 8  # number of nearest neighbors\n",
    "                nearest = (-sim[i, :]).argsort()[1:top_k + 1]\n",
    "                log = 'Nearest to %s:' % valid_word\n",
    "                for k in range(top_k):\n",
    "                    close_word = reverse_dictionary[nearest[k]]\n",
    "                    log = '%s %s,' % (log, close_word)\n",
    "                print(log)\n",
    "    final_embeddings = normalized_embeddings.eval()"
   ]
  },
  {
   "cell_type": "markdown",
   "metadata": {},
   "source": [
    "## Transform embedding into 2D using t-SNE"
   ]
  },
  {
   "cell_type": "code",
   "execution_count": 100,
   "metadata": {},
   "outputs": [
    {
     "data": {
      "text/plain": [
       "(50000, 128)"
      ]
     },
     "execution_count": 100,
     "metadata": {},
     "output_type": "execute_result"
    }
   ],
   "source": [
    "final_embeddings.shape"
   ]
  },
  {
   "cell_type": "code",
   "execution_count": 101,
   "metadata": {
    "cellView": "both",
    "colab": {
     "autoexec": {
      "startup": false,
      "wait_interval": 0
     }
    },
    "colab_type": "code",
    "id": "jjJXYA_XzV79"
   },
   "outputs": [],
   "source": [
    "%%time\n",
    "num_points = 400\n",
    "\n",
    "tsne = TSNE(perplexity=30, n_components=2, init='pca', n_iter=5000, method='exact')\n",
    "two_d_embeddings = tsne.fit_transform(final_embeddings[1:num_points+1, :])"
   ]
  },
  {
   "cell_type": "markdown",
   "metadata": {},
   "source": [
    "## Visualize result"
   ]
  },
  {
   "cell_type": "code",
   "execution_count": 110,
   "metadata": {
    "cellView": "both",
    "colab": {
     "autoexec": {
      "startup": false,
      "wait_interval": 0
     },
     "output_extras": [
      {
       "item_id": 1
      }
     ]
    },
    "colab_type": "code",
    "executionInfo": {
     "elapsed": 4763,
     "status": "ok",
     "timestamp": 1445965465525,
     "user": {
      "color": "#1FA15D",
      "displayName": "Vincent Vanhoucke",
      "isAnonymous": false,
      "isMe": true,
      "permissionId": "05076109866853157986",
      "photoUrl": "//lh6.googleusercontent.com/-cCJa7dTDcgQ/AAAAAAAAAAI/AAAAAAAACgw/r2EZ_8oYer4/s50-c-k-no/photo.jpg",
      "sessionId": "2f1ffade4c9f20de",
      "userId": "102167687554210253930"
     },
     "user_tz": 420
    },
    "id": "o_e0D_UezcDe",
    "outputId": "df22e4a5-e8ec-4e5e-d384-c6cf37c68c34",
    "scrolled": false
   },
   "outputs": [
    {
     "data": {
      "image/png": "[encoded data removed]",
      "text/plain": [
       "<matplotlib.figure.Figure at 0x1117b3b38>"
      ]
     },
     "metadata": {},
     "output_type": "display_data"
    }
   ],
   "source": [
    "def plot(embeddings, labels):\n",
    "    assert embeddings.shape[0] >= len(labels), 'More labels than embeddings'\n",
    "    plt.figure(figsize=(15, 15))  # in inches\n",
    "    for i, label in enumerate(labels):\n",
    "        x, y = embeddings[i, :]\n",
    "        plt.scatter(x, y)\n",
    "        plt.annotate(\n",
    "            label,\n",
    "            xy=(x, y),\n",
    "            xytext=(5, 2),\n",
    "            textcoords='offset points',\n",
    "            ha='right',\n",
    "            va='bottom')\n",
    "    plt.show()\n",
    "\n",
    "words = [reverse_dictionary[i] for i in range(1, num_points + 1)]\n",
    "plot(two_d_embeddings, words)"
   ]
  },
  {
   "cell_type": "markdown",
   "metadata": {
    "colab_type": "text",
    "id": "QB5EFrBnpNnc"
   },
   "source": [
    "## Todo\n",
    "\n",
    "CBOW\n",
    "\n",
    "An alternative to skip-gram is another Word2Vec model called [CBOW](http://arxiv.org/abs/1301.3781) (Continuous Bag of Words). In the CBOW model, instead of predicting a context word from a word vector, you predict a word from the sum of all the word vectors in its context. Implement and evaluate a CBOW model trained on the text8 dataset.\n",
    "\n",
    "---"
   ]
  },
  {
   "cell_type": "markdown",
   "metadata": {},
   "source": [
    "## References\n",
    "\n",
    "- Original [jupyter notebook](https://github.com/tensorflow/tensorflow/blob/master/tensorflow/examples/udacity/5_word2vec.ipynb) from the Udacity MOOC course: [Deep learning by Google](https://www.udacity.com/course/deep-learning--ud730).\n",
    "- [TensorFlow word2vec tutorial](https://www.tensorflow.org/tutorials/word2vec)\n",
    "- http://mccormickml.com/2016/04/19/word2vec-tutorial-the-skip-gram-model/"
   ]
  },
  {
   "cell_type": "code",
   "execution_count": null,
   "metadata": {},
   "outputs": [],
   "source": []
  }
 ],
 "metadata": {
  "Author": "Lee Meng",
  "Category": "Deep Learning",
  "Date": "2017-09-30 18:30",
  "Slug": "find-word-semantic-by-using-word2vec-in-tensorflow",
  "Summary": "Naive Word2vec implementation using Tensorflow",
  "Tags": "Python, TensorFlow, Word2Vec, NLP, VSM",
  "Title": "Find Word Semantic by Using Word2vec in TensorFlow",
  "colab": {
   "default_view": {},
   "name": "5_word2vec.ipynb",
   "provenance": [],
   "version": "0.3.2",
   "views": {}
  },
  "kernelspec": {
   "display_name": "Python 3",
   "language": "python",
   "name": "python3"
  },
  "language_info": {
   "codemirror_mode": {
    "name": "ipython",
    "version": 3
   },
   "file_extension": ".py",
   "mimetype": "text/x-python",
   "name": "python",
   "nbconvert_exporter": "python",
   "pygments_lexer": "ipython3",
   "version": "3.7.0"
  },
  "toc": {
   "nav_menu": {},
   "number_sections": true,
   "sideBar": false,
   "skip_h1_title": false,
   "toc_cell": false,
   "toc_position": {},
   "toc_section_display": "block",
   "toc_window_display": false
  },
  "varInspector": {
   "cols": {
    "lenName": 16,
    "lenType": 16,
    "lenVar": 40
   },
   "kernels_config": {
    "python": {
     "delete_cmd_postfix": "",
     "delete_cmd_prefix": "del ",
     "library": "var_list.py",
     "varRefreshCmd": "print(var_dic_list())"
    },
    "r": {
     "delete_cmd_postfix": ") ",
     "delete_cmd_prefix": "rm(",
     "library": "var_list.r",
     "varRefreshCmd": "cat(var_dic_list()) "
    }
   },
   "oldHeight": 234,
   "position": {
    "height": "40px",
    "left": "862px",
    "right": "20px",
    "top": "120px",
    "width": "335px"
   },
   "types_to_exclude": [
    "module",
    "function",
    "builtin_function_or_method",
    "instance",
    "_Feature"
   ],
   "varInspector_section_display": "none",
   "window_display": false
  }
 },
 "nbformat": 4,
 "nbformat_minor": 2
}
