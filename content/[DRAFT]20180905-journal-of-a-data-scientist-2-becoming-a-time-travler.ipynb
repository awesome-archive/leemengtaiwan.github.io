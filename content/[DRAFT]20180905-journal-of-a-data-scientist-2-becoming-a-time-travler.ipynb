{
 "cells": [
  {
   "cell_type": "markdown",
   "metadata": {},
   "source": [
    "- author: Lee Meng\n",
    "- date: 2018-09-04 21:30\n",
    "- title: 資料科學家 L 的奇幻旅程 Vol.2 操縱數據的時空旅人\n",
    "- slug: journey-of-data-scientist-L-part-2-how-i-work-as-a-time-traveler\n",
    "- tags: 資料科學, 日誌, data-science\n",
    "- description: TODO\n",
    "- summary: TODO\n",
    "- image: kevin-ku-392517-unsplash.jpg\n",
    "- image_credit_url: https://unsplash.com/photos/aiyBwbrWWlo?utm_source=unsplash&utm_medium=referral&utm_content=creditCopyText\n",
    "- status: draft"
   ]
  }
 ],
 "metadata": {
  "kernelspec": {
   "display_name": "Python 3",
   "language": "python",
   "name": "python3"
  },
  "language_info": {
   "codemirror_mode": {
    "name": "ipython",
    "version": 3
   },
   "file_extension": ".py",
   "mimetype": "text/x-python",
   "name": "python",
   "nbconvert_exporter": "python",
   "pygments_lexer": "ipython3",
   "version": "3.7.0"
  }
 },
 "nbformat": 4,
 "nbformat_minor": 2
}
