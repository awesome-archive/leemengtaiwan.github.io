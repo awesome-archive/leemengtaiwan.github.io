{
 "cells": [
  {
   "cell_type": "markdown",
   "metadata": {},
   "source": [
    "- author: Lee Meng\n",
    "- date: 2019-03-05 08:00\n",
    "- title: 我從 AI For Everyone 學到的 10 個重要 AI 概念\n",
    "- slug: 10-key-takeaways-from-ai-for-everyone-course\n",
    "- tags: 人工智慧, 資料科學, 機器學習\n",
    "- description: AI For Everyone 是由吳恩達教授開授的一堂線上課程，這篇文章則記錄了我個人在修習完這堂線上課程後整理出的 10 個最重要 AI 概念。除了將這些概念條列出來以外，本文也將逐一介紹每個概念所代表的涵意，幫助讀者快速掌握該課程裡頭的重要 AI 概念，並開始自己的 AI 之旅。\n",
    "- summary: AI For Everyone 是由吳恩達教授開授的一堂線上課程，這篇文章則記錄了我個人在修習完這堂線上課程後整理出的 10 個最重要 AI 概念。除了將這些概念條列出來以外，本文也將逐一介紹每個概念所代表的涵意，幫助讀者快速掌握該課程裡頭的重要 AI 概念，並開始自己的 AI 之旅。\n",
    "- image: joseph-barrientos-93565-unsplash.jpg\n",
    "- image_credit_url: https://unsplash.com/photos/eUMEWE-7Ewg?utm_source=unsplash&utm_medium=referral&utm_content=creditCopyText"
   ]
  },
  {
   "cell_type": "markdown",
   "metadata": {},
   "source": [
    "!quote\n",
    "- 在這個人機共存的年代，每個人都應該去嘗試瞭解並運用人工智慧這個超能力。思考自己未來在這個變化快速的世界的定位。"
   ]
  },
  {
   "cell_type": "markdown",
   "metadata": {},
   "source": [
    "曾經領導 Google Brain 的[吳恩達](https://zh.wikipedia.org/wiki/%E5%90%B4%E6%81%A9%E8%BE%BE)教授這幾天公開了新的 [Coursera](https://www.coursera.org/) 課程：[AI For Everyone](https://www.coursera.org/learn/ai-for-everyone)。這堂課不談技術術語，專注在與非技術人士以及企業經理人說明：\n",
    "- 何謂 AI\n",
    "- 如何建立 AI 專案\n",
    "- 如何在企業內部建立 AI 基礎\n",
    "- AI 與社會的關係\n",
    "\n",
    "課程內容精要，總結了不少他多年在 Google Brain、百度裡領導 AI 團隊所累積的寶貴經驗。這堂課也提到了不少 [AI Transformation Playbook](https://landing.ai/ai-transformation-playbook/) 裡頭的內容。"
   ]
  },
  {
   "cell_type": "markdown",
   "metadata": {},
   "source": [
    "!image\n",
    "- ai-for-everyone/course.jpg\n",
    "- Coursera 上的 AI For Everyone\n",
    "- https://www.coursera.org/learn/ai-for-everyone"
   ]
  },
  {
   "cell_type": "markdown",
   "metadata": {},
   "source": [
    "雖然課程中很多時候是以 CEO 或是企業管理者的角度說明 AI 概念，但我認為每個人都可以用**個人**角度，從本課學到不少有用的建議以及思考框架。有了這些概念，可以幫助我們在這個變化快速的 AI 潮流中掌握好自己手上的船舵並順利航行。\n",
    "\n",
    "本文將列舉出我認為本課中最值得記住的 10 個 AI 概念，希望能讓你馬上學到些東西。"
   ]
  },
  {
   "cell_type": "markdown",
   "metadata": {},
   "source": [
    "!image\n",
    "- ai-for-everyone/kaleidico-754605-unsplash.jpg"
   ]
  },
  {
   "cell_type": "markdown",
   "metadata": {},
   "source": [
    "值得一提的是，這篇不少概念是我自己的心得總結，而你在上完課後肯定會有其他重要見解。事實上，我會推薦你在閱讀本文後就找時間實際去上這堂課，或是透過[其他方式](https://leemeng.tw/deep-learning-resources.html)進一步了解 AI。"
   ]
  },
  {
   "cell_type": "markdown",
   "metadata": {},
   "source": [
    "## 30 秒 AI 大局觀"
   ]
  },
  {
   "cell_type": "markdown",
   "metadata": {},
   "source": [
    "以下就是 10 個我認為 AI For Everyone 這堂課傳達的重要概念懶人包。如果你一秒鐘幾十萬上下，可以只看這節就好：\n",
    "\n",
    "1. 講到 AI，我們通常是指狹義的 AI 而非終結者\n",
    "2. 多數 AI 應用是讓機器學會一個對應關係\n",
    "3. 大數據、神經網路及運算能力是 AI 成功關鍵\n",
    "4. 只需花費你 1 秒的任務，大都可由 AI 自動化\n",
    "5. 對 AI 的態度不應過度樂觀，但也不必太悲觀\n",
    "6. AI 偏見難解，但或許比消除人類偏見簡單\n",
    "7. 擁抱 AI 的最好方法是將其與領域專業結合\n",
    "8. 機器學習和資料科學的產出分別是系統和洞見\n",
    "9. AI 時代，你得思考未來自己想要扮演的角色\n",
    "10. 終身學習在這個年代前所未有地重要"
   ]
  },
  {
   "cell_type": "markdown",
   "metadata": {},
   "source": [
    "!image\n",
    "- ai-for-everyone/ben-white-131241-unsplash.jpg"
   ]
  },
  {
   "cell_type": "markdown",
   "metadata": {},
   "source": [
    "    \n",
    "是的，既然是 AI For Everyone，自然沒有什麼艱深內容。但就像吳恩達教授在課程裡頭所說的，我相信這些基本的核心思想可以引導我們在這個 AI 時代更有方向且順利地前進。\n",
    "\n",
    "本文接著會搭配課程投影片，針對上面提到的一些概念做點簡單的補充說明，供你參考。"
   ]
  },
  {
   "cell_type": "markdown",
   "metadata": {},
   "source": [
    "## 講到 AI，我們通常是指狹義的 AI 而非終結者"
   ]
  },
  {
   "cell_type": "markdown",
   "metadata": {},
   "source": [
    "現在媒體整天報導的人工智慧（**A**rtifical **I**ntelligence, AI）應用如：\n",
    "- 智慧音響\n",
    "- 自動駕駛\n",
    "- 人臉辨識\n",
    "- 圖像分類\n",
    "- 推薦系統\n",
    "- 機器翻譯\n",
    "\n",
    "背後皆是狹義的 AI（**A**rtificial **N**arrow **I**ntelligence, ANI）。\n",
    "\n",
    "儘管很多 AI 應用的表現甚至已經比人類還優秀，這些 AI 基本上都專注在完成「特定」的任務；這跟科幻電影如魔鬼終結者裡頭，能跟人類以一樣的方式思考並做「任何」事情的通用 AI（**A**rtificial **G**eneral **I**ntelligence, AGI）是有很大差異的。"
   ]
  },
  {
   "cell_type": "markdown",
   "metadata": {},
   "source": [
    "!image\n",
    "- ai-for-everyone/ani-vs-agi.jpg\n",
    "- ANI 與 AGI 的差異\n",
    "- https://www.coursera.org/learn/ai-for-everyone"
   ]
  },
  {
   "cell_type": "markdown",
   "metadata": {},
   "source": [
    "儘管開發出 AGI 是很多研究者的終極夢想，但事實上現行的科技離實現 AGI 還有好一段距離。"
   ]
  },
  {
   "cell_type": "markdown",
   "metadata": {},
   "source": [
    "## 多數 AI 應用是讓機器學會一個對應關係"
   ]
  },
  {
   "cell_type": "markdown",
   "metadata": {},
   "source": [
    "如同我們在以前的文章裡頭看過的：\n",
    "- [進入 NLP 世界的最佳橋樑：寫給所有人的自然語言處理與深度學習入門指南](https://leemeng.tw/shortest-path-to-the-nlp-world-a-gentle-guide-of-natural-language-processing-and-deep-learning-for-everyone.html)\n",
    "- [AI 如何找出你的喵：直觀理解卷積神經網路](https://demo.leemeng.tw/)\n",
    "- [從彼此學習 - 淺談機器學習以及人類學習](https://leemeng.tw/some-thought-on-learning-from-machine-learning.html)\n",
    "\n",
    "大部分的機器學習以及 AI 應用本質上都是讓電腦學會一個映射函數（Mapping Function），幫我們將輸入的數據 A 對應到理想的輸出 B：\n",
    "- 郵件分類：電子郵件 -> 是否為垃圾郵件\n",
    "- 語音辨識：音訊檔案 -> 文本\n",
    "- 機器翻譯：英文文本 -> 中文文本"
   ]
  },
  {
   "cell_type": "markdown",
   "metadata": {},
   "source": [
    "!image\n",
    "- ai-for-everyone/learning-a-to-b.jpg\n",
    "- 抽離技術細節，許多 AI 應用事實上就是一個個幫我們將輸入 A 轉換成輸出 B 的映射函數\n",
    "- https://www.coursera.org/learn/ai-for-everyone"
   ]
  },
  {
   "cell_type": "markdown",
   "metadata": {},
   "source": [
    "要實現這種 AI 應用，最常被使用的方法是[監督式學習（Supervised Learning）](https://zh.wikipedia.org/wiki/%E7%9B%A3%E7%9D%A3%E5%BC%8F%E5%AD%B8%E7%BF%92)：給予機器大量的成對數據，告訴它什麼樣的 A 要對應到什麼樣的 B，並讓機器最後自己學會如何將任意的 A 轉換成理想的 B，達到自動化的目的。"
   ]
  },
  {
   "cell_type": "markdown",
   "metadata": {},
   "source": [
    "!image\n",
    "- nlp-kaggle-intro/one-data-source-nn.jpg\n",
    "- 現在多數的 AI 應用是透過人工神經網路，讓機器學會如何將輸入 A 轉成輸出 B\n",
    "- https://leemeng.tw/shortest-path-to-the-nlp-world-a-gentle-guide-of-natural-language-processing-and-deep-learning-for-everyone.html"
   ]
  },
  {
   "cell_type": "markdown",
   "metadata": {},
   "source": [
    "## 大數據、神經網路及運算能力是 AI 成功關鍵"
   ]
  },
  {
   "cell_type": "markdown",
   "metadata": {},
   "source": [
    "要實現能幫助人類做複雜判斷的 AI 技術有很多種，但近年真正讓 AI 大紅大紫的是[深度學習（Deep Learning）](https://zh.wikipedia.org/wiki/%E6%B7%B1%E5%BA%A6%E5%AD%A6%E4%B9%A0)以及[人工神經網路（Artifical Neural Network）](https://zh.wikipedia.org/wiki/%E4%BA%BA%E5%B7%A5%E7%A5%9E%E7%BB%8F%E7%BD%91%E7%BB%9C)。"
   ]
  },
  {
   "cell_type": "markdown",
   "metadata": {},
   "source": [
    "!image\n",
    "- ai-for-everyone/neural-network-plyaground.jpg\n",
    "- Google 的 TensorFlow 團隊讓你可以在瀏覽器裡頭體驗深度學習以及神經網路\n",
    "- https://playground.tensorflow.org"
   ]
  },
  {
   "cell_type": "markdown",
   "metadata": {},
   "source": [
    "值得一提的是，你或許常聽到「神經網路跟人腦運作方式相同」的這種說法，但事實上如果你問相關人士對這種意見的看法的話，得到的答案常常是「兩者天差地遠」。"
   ]
  },
  {
   "cell_type": "markdown",
   "metadata": {},
   "source": [
    "儘管神經網路的運作方式跟我們神奇的大腦不完全一致，搭配大量數據以及前面提到的監督式學習，越大的神經網路通常可以在特定任務有越好的表現。"
   ]
  },
  {
   "cell_type": "markdown",
   "metadata": {},
   "source": [
    "!image\n",
    "- ai-for-everyone/big-data-and-deep-neural-network.jpg\n",
    "- 先不論所需的計算資源，「越大量的數據以及越大型的神經網路能帶來更好的表現」這件事情對許多大企業來說，是件美好到不行的事情\n",
    "- https://www.coursera.org/learn/ai-for-everyone"
   ]
  },
  {
   "cell_type": "markdown",
   "metadata": {},
   "source": [
    "雖然這樣的現象令人振奮，但別忘記\n",
    "- 大型神經網路的運作\n",
    "- 大量數據的處理\n",
    "\n",
    "這兩件事情都意味著需要更大量的電腦運算能力。而很多時候一般人是沒有這樣的運算資源的。\n",
    "\n",
    "值得慶幸的是，很多以深度學習為基礎的 AI 常常有個很好的特性：透過[遷移學習（Transfer Learning）](https://en.wikipedia.org/wiki/Transfer_learning)，我們能將事先已經用大量計算資源做訓練，並在任務 A 表現優異的 AI 做些簡單修改，就能讓修改過後的 AI' 能在相似的任務 B 也表現不錯。"
   ]
  },
  {
   "cell_type": "markdown",
   "metadata": {},
   "source": [
    "!image\n",
    "- ai-for-everyone/cnn-with-pretrained-model.jpg\n",
    "- 一個利用遷移學習，把在圖像辨識中表現優異的 AI 拿來辨識貓咪的例子\n",
    "- https://demo.leemeng.tw/"
   ]
  },
  {
   "cell_type": "markdown",
   "metadata": {},
   "source": [
    "這時候就算你只有少量數據以及不多的計算資源，也能利用 AI 完成以往難以想像的任務。"
   ]
  },
  {
   "cell_type": "markdown",
   "metadata": {},
   "source": [
    "## 只需花費你 1 秒的任務，（未來）大都可由 AI 自動化"
   ]
  },
  {
   "cell_type": "markdown",
   "metadata": {},
   "source": [
    "這項概念是吳恩達教授在課程裡所提到的「一秒原則」，可以讓你用來判斷一個任務是否能用 AI 做自動化的準則。"
   ]
  },
  {
   "cell_type": "markdown",
   "metadata": {},
   "source": [
    "!image\n",
    "- ai-for-everyone/one-second-rule.jpg\n",
    "- 一秒原則\n",
    "- https://www.coursera.org/learn/ai-for-everyone"
   ]
  },
  {
   "cell_type": "markdown",
   "metadata": {},
   "source": [
    "透過監督式學習以及大量成對 A & B 數據，我們可以讓很多以往被認為非常複雜，但人腦僅需 1 秒鐘就能解決的任務透過 AI 來自動化，讓我們的生活更加輕鬆。\n",
    "\n",
    "當然，這個簡化的原則並不是放諸四海皆準，但可以做為一個不錯的參考基準。"
   ]
  },
  {
   "cell_type": "markdown",
   "metadata": {},
   "source": [
    "## 對 AI 的態度不應過度樂觀，但也不必太悲觀\n",
    "\n",
    "儘管我們已經清楚現代 AI 的威力，仍需注意 AI 並不是萬能藥，無法（完美地）解決或自動化所有人類的課題。\n",
    "\n",
    "比方說[有研究嘗試把自然語言轉成 SQL](https://demo.allennlp.org/atis-parser/NjMwMzQw/)，但短期內一個資料科學家自己寫 SQL 查詢數據可能還是比較有效率。儘管 AI 不能（完美地）做到任何事情，我們也不該對 AI 失望，斷定下一個 AI 冬天必定會到來。"
   ]
  },
  {
   "cell_type": "markdown",
   "metadata": {},
   "source": [
    "!image\n",
    "- ai-for-everyone/goldilocks-rule-for-ai.jpg\n",
    "- AI 的金髮女孩原理：對 AI 的態度不要過熱（樂觀），也不要過冷（悲觀），而是要剛剛好\n",
    "- https://www.coursera.org/learn/ai-for-everyone"
   ]
  },
  {
   "cell_type": "markdown",
   "metadata": {},
   "source": [
    "現在可以肯定的是 AI 已經，而且也會繼續改變我們未來以及下一代的生活型態。 \n",
    "\n",
    "最重要的是理性地理解 AI 能做到什麼，在能活用的時候善加利用它，同時不抱著「 AI 能解決所有問題」的不切實際幻想。"
   ]
  },
  {
   "cell_type": "markdown",
   "metadata": {},
   "source": [
    "!image\n",
    "- ai-for-everyone/goldilocks.jpg"
   ]
  },
  {
   "cell_type": "markdown",
   "metadata": {},
   "source": [
    "小知識：著名格林童話故事「金髮女孩與三隻熊」，講述金髮小女孩走進了三隻熊的房子，她發現當中有三碗粥，一碗太熱，一碗太冷，最後她揀選了不冷不熱的第三碗。之後她又試了三張椅子及睡床，最後她揀選了最合適的小椅子及睡床坐下及睡覺。"
   ]
  },
  {
   "cell_type": "markdown",
   "metadata": {},
   "source": [
    "## AI 偏見難解，但或許比消除人類偏見簡單\n",
    "\n",
    "在利用監督式學習的方式訓練 AI 的時候，我們常常會使用現實世界的資料讓機器學習。\n",
    "\n",
    "好消息是因為現在數位化以及網際網路的發達，我們有非常多數據可以交給 AI 學習；壞消息是這些數據時常反映了人類數十年甚至幾個世紀的偏見。\n",
    "\n",
    "用這些數據訓練出來的 AI 系統就像是面照妖鏡，也會不可避免地學會這些偏見（Bias）。"
   ]
  },
  {
   "cell_type": "markdown",
   "metadata": {},
   "source": [
    "!mp4\n",
    "- images/ai-for-everyone/human-bias-to-technology.mp4\n",
    "- images/ai-for-everyone/human-bias-to-technology.jpg\n",
    "- 在我們將具有人類偏見的數據交給 AI 學習時，不可避免地會創造出具有偏見的系統"
   ]
  },
  {
   "cell_type": "markdown",
   "metadata": {},
   "source": [
    "知名的例子有：\n",
    "- 以白人照片訓練出來的人臉辨識系統在辨識深色膚色的人種時表現很差\n",
    "- 自動化雇用的 AI 系統對女性存有偏見\n",
    "- 銀行的自動信用評比 AI 系統對某些族群產生偏見\n",
    "\n",
    "以下則是另一個課堂中提出的例子："
   ]
  },
  {
   "cell_type": "markdown",
   "metadata": {},
   "source": [
    "!image\n",
    "- ai-for-everyone/ai-bias-word-embedding.jpg\n",
    "- 讓 AI 從維基百科學習英文詞彙之間的統計關係後，發現 AI 認為「男人之於電腦工程師」的關係等於「女人之於家庭主婦」\n",
    "- https://www.coursera.org/learn/ai-for-everyone"
   ]
  },
  {
   "cell_type": "markdown",
   "metadata": {},
   "source": [
    "上例或許稱不上歧視，但很明顯是偏見，一種長久存在於人類社會的性別偏見。\n",
    "\n",
    "因為很多時候這些 AI 系統是學習一種統計關係，因此在此例中，AI 只是忠誠地呈現我們社會的用字習慣罷了。\n",
    "\n",
    "要消除 AI 的這些偏見並不容易，但仔細想想，這可能比消除人們腦中數十年的偏見要來的簡單，而且振奮人心。"
   ]
  },
  {
   "cell_type": "markdown",
   "metadata": {},
   "source": [
    "!mp4\n",
    "- images/ai-for-everyone/remove-human-bias-from-technology.mp4\n",
    "- images/ai-for-everyone/remove-human-bias-from-technology.jpg\n",
    "- 在享有強大 AI 科技的同時，我們希望最終也能將人類的偏見從這些 AI 系統中摒除"
   ]
  },
  {
   "cell_type": "markdown",
   "metadata": {},
   "source": [
    "這件事情當然不簡單，但卻非常值得一試。\n",
    "\n",
    "當然，你可以選擇不思考這些 AI 倫理、偏見問題，相信建立 AI 系統的這些工程師們立意良善以及夠細心，能幫我們將 AI 系統裡的偏見移除，並讓其做出最合適的判斷。\n",
    "\n",
    "儘管如此，意識到再厲害的 AI 系統內部也可能存在如同人類的偏見，進而導致各種不公平的社會問題這件事情也是很有幫助的。"
   ]
  },
  {
   "cell_type": "markdown",
   "metadata": {},
   "source": [
    "## 擁抱 AI 的最好方法是將其與領域專業結合\n",
    "\n",
    "想要學習 AI，不需要打掉重練。\n",
    "\n",
    "雖然現在 AI 相關領域十分熱門，究其根本也就只是一種工具/技術。而且 AI 技術接下來會越來越平民化，上手的門檻會越來越低。"
   ]
  },
  {
   "cell_type": "markdown",
   "metadata": {},
   "source": [
    "!image\n",
    "- ai-for-everyone/rawpixel-633846-unsplash.jpg"
   ]
  },
  {
   "cell_type": "markdown",
   "metadata": {},
   "source": [
    "因此比起現在轉行當 AI 工程師，你要先做的應該是想辦法利用自己工作累積的領域知識（Domain Knowledge）以及洞見（Insight），找出能應用 AI 改善的地方，進而創造出專屬於你或企業的競爭優勢。"
   ]
  },
  {
   "cell_type": "markdown",
   "metadata": {},
   "source": [
    "## 機器學習和資料科學的產出分別是系統和洞見\n",
    "\n",
    "機器學習（**M**achine **L**earning, ML）以及資料科學（**D**ata **S**cience, DS）這兩個詞彙常常結伴出現，且依照不同企業其定義都有所不同。因此，不在這塊領域裡的人常常不知道兩者的差異。\n",
    "\n",
    "一般來說，在企業內的 ML 專案大都分為 3 個階段：\n",
    "- 收集數據\n",
    "- 訓練模型\n",
    "- 部署模型"
   ]
  },
  {
   "cell_type": "markdown",
   "metadata": {},
   "source": [
    "!image\n",
    "- ai-for-everyone/ml-project-key-steps.jpg\n",
    "- 一般的 ML 專案的最終產物為機器學習模型，或是能夠持續運作的 AI 系統\n",
    "- https://www.coursera.org/learn/ai-for-everyone"
   ]
  },
  {
   "cell_type": "markdown",
   "metadata": {},
   "source": [
    "而 DS 專案的步驟則為：\n",
    "- 收集數據\n",
    "- 分析數據\n",
    "- 建議行動/假說"
   ]
  },
  {
   "cell_type": "markdown",
   "metadata": {},
   "source": [
    "!image\n",
    "- ai-for-everyone/ds-project-key-steps.jpg\n",
    "- 一般的 DS 專案的最終產物為有用的假說或是洞見\n",
    "- https://www.coursera.org/learn/ai-for-everyone"
   ]
  },
  {
   "cell_type": "markdown",
   "metadata": {},
   "source": [
    "兩者皆需原始數據做為輸入，且皆有機會使用 AI / ML 技術來解決、分析問題，但最終的產出形式時常不同。\n",
    "\n",
    "總結來說，ML 專案較注重在軟體工程方面，且最終希望產出一個以 AI 為基礎的線上系統；DS 專案的結果則可能是一份幫助經營者做重大投資決策的投影片報告。"
   ]
  },
  {
   "cell_type": "markdown",
   "metadata": {},
   "source": [
    "!image\n",
    "- ai-for-everyone/ml-vs-ds.jpg"
   ]
  },
  {
   "cell_type": "markdown",
   "metadata": {},
   "source": [
    "## AI 時代，你得思考未來自己想要扮演的角色\n",
    "\n",
    "AI 目前正是顯學，不少人決定進入這塊領域，而現在跟 AI 相關的職業就有好多種，比方說：\n",
    "- 資料科學家\n",
    "- 機器學習工程師\n",
    "- 機器學習研究者\n",
    "- 軟體工程師\n",
    "- 資料工程師\n",
    "- AI 專案管理人\n",
    "\n",
    "等等。而且隨著 AI 的影響力持續擴大，未來可能還會出現新的相關職業。"
   ]
  },
  {
   "cell_type": "markdown",
   "metadata": {},
   "source": [
    "!image\n",
    "- digests/diablo-3-characters.jpg\n",
    "- AI 時代裡有各式各樣的相關職業，找尋最適合你的職業很重要\n",
    "- https://leemeng.tw/data-science-digest-volume-4-choose-your-own-character-in-data-science-role-play-game.html"
   ]
  },
  {
   "cell_type": "markdown",
   "metadata": {},
   "source": [
    "我們在這邊不會一一列出每個職業的工作內容，但忠實讀者會發現，事實上我們在[數據科學 MMORPG 上線！你，選好自己的角色了嗎？](https://leemeng.tw/data-science-digest-volume-4-choose-your-own-character-in-data-science-role-play-game.html)一文中就已經討論過類似的話題了。\n",
    "\n",
    "要踏入 AI 這塊領域，除了資料科學家以外，你還有很多選擇。思考你的強處以及興趣所在，選擇最適合的職業發揮所長是最理想的。"
   ]
  },
  {
   "cell_type": "markdown",
   "metadata": {},
   "source": [
    "## 終身學習在這個年代前所未有地重要\n",
    "\n",
    "如同課程中吳恩達教授所說的，你並不需要取得一個 AI master 才能開始進行 AI 專案。很多時候利用[線上課程](https://leemeng.tw/deep-learning-resources.html#xian%20shang%20ke%20cheng_1)或是[網路上的深度學習資源](https://leemeng.tw/deep-learning-resources.html)就可以開始你的第一個 AI 專案了。\n",
    "\n",
    "事實上，學習 [AI For Everyone](https://www.coursera.org/learn/ai-for-everyone) 這堂課就是一個不錯的開始。網路上也有很多優質的部落格或教學文章等待你的探索。"
   ]
  },
  {
   "cell_type": "markdown",
   "metadata": {},
   "source": [
    "!image\n",
    "- ai-for-everyone/le-tan-674393-unsplash.jpg"
   ]
  },
  {
   "cell_type": "markdown",
   "metadata": {},
   "source": [
    "AI 領域近年發展神速，要學習 AI，用上一代「讀幾年書，出來用一輩子」的概念是行不通的。台大電機系的[李宏毅教授](http://speech.ee.ntu.edu.tw/~tlkagk/)就曾說過：「在深度學習的領域，超過五年就是遠古時代了」。\n",
    "\n",
    "因此如果你決定踏上學習 AI 的這條路，就做好跟我一起終身學習的心理準備吧！"
   ]
  },
  {
   "cell_type": "markdown",
   "metadata": {},
   "source": [
    "## 結語"
   ]
  },
  {
   "cell_type": "markdown",
   "metadata": {},
   "source": [
    "看到這裡，相信你已經了解 AI For Everyone 裡頭 10 個最重要的概念了，恭喜！\n",
    "\n",
    "這些概念大多是我將課程裡頭擷取出的核心概念，佐以自己從事資料科學家以來的心得感想。希望閱讀完此文的你有學到點東西，或是獲得些啟發。"
   ]
  },
  {
   "cell_type": "markdown",
   "metadata": {},
   "source": [
    "!image\n",
    "- ai-for-everyone/fabrizio-magoni-219347-unsplash.jpg\n",
    "- 課堂內容是主菜，我的個人心得是調味料，希望你喜歡這道菜，並分享給朋友知道"
   ]
  },
  {
   "cell_type": "markdown",
   "metadata": {},
   "source": [
    "為了幫助你回憶，現在讓我再次將本文提到的概念一一列出：\n",
    "\n",
    "1. 講到 AI，我們通常是指狹義的 AI 而非終結者\n",
    "2. 多數 AI 應用是讓機器學會一個對應關係\n",
    "3. 大數據、神經網路及運算能力是 AI 成功關鍵\n",
    "4. 只需花費你 1 秒的任務，大都可由 AI 自動化\n",
    "5. 對 AI 的態度不應過度樂觀，但也不必太悲觀\n",
    "6. AI 偏見難解，但或許比消除人類偏見簡單\n",
    "7. 擁抱 AI 的最好方法是將其與領域專業結合\n",
    "8. 機器學習和資料科學的產出分別是系統和洞見\n",
    "9. AI 時代，你得思考未來自己想要扮演的角色\n",
    "10. 終身學習在這個年代前所未有地重要"
   ]
  },
  {
   "cell_type": "markdown",
   "metadata": {},
   "source": [
    "AI 當然有其侷限性，但只要你能找出應用它的任務，就能將其轉換成你的超能力，可能性無窮大。"
   ]
  },
  {
   "cell_type": "markdown",
   "metadata": {},
   "source": [
    "跟隨完我的思路歷程，現在輪到你動腦回答下面問題了："
   ]
  },
  {
   "cell_type": "markdown",
   "metadata": {},
   "source": [
    "!quote\n",
    "- 你有什麼個人或是企業的課題，是可以透過 AI 改善或是提升價值的呢？"
   ]
  }
 ],
 "metadata": {
  "kernelspec": {
   "display_name": "Python 3",
   "language": "python",
   "name": "python3"
  },
  "language_info": {
   "codemirror_mode": {
    "name": "ipython",
    "version": 3
   },
   "file_extension": ".py",
   "mimetype": "text/x-python",
   "name": "python",
   "nbconvert_exporter": "python",
   "pygments_lexer": "ipython3",
   "version": "3.7.0"
  }
 },
 "nbformat": 4,
 "nbformat_minor": 2
}
