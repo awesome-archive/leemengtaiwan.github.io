{
 "cells": [
  {
   "cell_type": "markdown",
   "metadata": {},
   "source": [
    "- author: Lee Meng\n",
    "- date: 2018-11-05 08:00\n",
    "- title: 資料科學家 L 的奇幻旅程 Vol.2 如何用資料工程當個時間旅人\n",
    "- slug: journey-of-data-scientist-L-part-2-time-traveling-with-data-engineering\n",
    "- tags: 日誌, 資料科學, 資料工程\n",
    "- description: \n",
    "- summary: \n",
    "- image: kevin-ku-392517-unsplash.jpg\n",
    "- image_credit_url: https://unsplash.com/photos/aiyBwbrWWlo?utm_source=unsplash&utm_medium=referral&utm_content=creditCopyText\n",
    "- status: draft"
   ]
  },
  {
   "cell_type": "markdown",
   "metadata": {},
   "source": [
    "在奇幻旅程的第一篇：[新人不得不問的 2 個問題]({filename}20180704-journal-of-a-data-scientist-1-from-zero-to-hero.ipynb)裡頭你已經看到，為何了解企業內部使用的 KPI 以及熟悉公司內部的「數據流動」能讓一個資料科學家在工作上更如魚得水。\n",
    "\n",
    "那是一篇稍微正經嚴肅，但我認為對資料科學家來說（**D**ata **S**cientist，後簡稱 DS）很有幫助的一篇文章。不過今天，我想跟你分享一個輕鬆話題：身為 DS 的我，是如何利用資料工程（Data Engineering）在公司裡頭當個「時間旅人」的。\n",
    "\n",
    "「時間旅人？你在開玩笑嗎？」\n",
    "\n",
    "「資料工程跟時間旅行八竿子沒關係吧！」"
   ]
  },
  {
   "cell_type": "markdown",
   "metadata": {},
   "source": [
    "!image\n",
    "- journal/dog-705820_1280.jpg\n",
    "- 這可能是現在困惑的你的最佳寫照"
   ]
  },
  {
   "cell_type": "markdown",
   "metadata": {},
   "source": [
    "對對對我知道。\n",
    "\n",
    "你或許正歪著頭，想著我是不是下了個釣魚標題騙你進來。我得承認自己是個浪漫主義者，常常會將工作上的任務跟看的小說、電影做聯想。但我想，聯想力或許就是人類跟 AI 最大的差距吧！我也不覺得這是件壞事：）\n",
    "\n",
    "拉回正題。"
   ]
  },
  {
   "cell_type": "markdown",
   "metadata": {},
   "source": [
    "## 所以什麼是時間旅人"
   ]
  },
  {
   "cell_type": "markdown",
   "metadata": {},
   "source": [
    "對我來說，一個理想的「時間旅人」要能掌握兩種超能力：\n",
    "- 能夠回到過去，修正錯誤\n",
    "- 能夠預測未來，洞察先機\n",
    "\n",
    "而事實上後面我們會發現，要實現這兩個能力，除了「資料科學」以外，我們還需要「資料工程」。"
   ]
  },
  {
   "cell_type": "markdown",
   "metadata": {},
   "source": [
    "!image\n",
    "- journal/wormhole-2514312_1280.jpg\n",
    "- 掌握資料工程讓我們可以穿越時空"
   ]
  },
  {
   "cell_type": "markdown",
   "metadata": {},
   "source": [
    "## 預測未來，洞察先機"
   ]
  },
  {
   "cell_type": "markdown",
   "metadata": {},
   "source": [
    "如果你也是一名 DS 或是分析人員的話，應該可以猜得到，在資料科學領域裡頭所謂的「預測未來」是指「建立某些預測模型」。\n",
    "\n",
    "只不過，光是建立出一個可以做預測的模型並不足夠。\n",
    "\n",
    "不管是簡單的決策樹還是神經網路，要讓你想出來的模型發揮最大的影響力，你需要讓它\n",
    "\n",
    "資深的 DS 會知道，除了分析數據並建立一個準確的模型以外，\n",
    "\n",
    "\n",
    "而在資料工程領域，除了做出一個模型以外\n",
    "\n",
    "\n",
    "\n",
    "\n",
    "\n",
    "\n",
    "\n",
    "只不過為何「資料工程」可以帶我們「回到過去並修正錯誤」？\n",
    "\n",
    "更重要的問題是：為什麼「錯誤」會產生呢？什麼樣的「錯誤」？\n",
    "\n",
    "乍聽這些問題，你可能毫無頭緒。不過我相信你看完下節以後，就會恍然大悟，並對平常在分析的數據以及資料工程有更深的理解。"
   ]
  },
  {
   "cell_type": "markdown",
   "metadata": {},
   "source": [
    "## 回到過去，修正錯誤\n",
    "\n",
    "如果你現在正努力學習資料科學，期待未來能成為一個 DS，你可能會「想像」進了一間新公司以後，前人都已經幫你把所有專案 / 產品分析需要的關鍵績效指標（**K**ey **P**erformance **I**ndicators，即 KPI）定義完成。\n",
    "\n",
    "除此之外，所有你需要分析的數據也都被事先建立並存放在[資料倉儲或是資料湖](https://leemeng.tw/why-you-need-to-learn-data-engineering-as-a-data-scientist.html#%E8%B3%87%E6%96%99%E5%80%89%E5%84%B2)裡頭供你大展身手。\n",
    "\n",
    "而你所需要做的，就是開始下 [SQL 查詢]({filename}20180430-why-you-need-to-learn-sql-as-a-data-scientist.ipynb)並建立分析模型。"
   ]
  },
  {
   "cell_type": "markdown",
   "metadata": {},
   "source": [
    "!image\n",
    "- data-science/sean-pollock-203658-unsplash.jpg\n",
    "- 規模非常大的企業讓你看到自己的渺小，但好處是身為一個 DS，你要擔心的東西可能也比較少（數據品質、KPI 定義 etc）"
   ]
  },
  {
   "cell_type": "markdown",
   "metadata": {},
   "source": [
    "如果你的公司規模如 Facebook、Google 或是 Netflix 那麽龐大，裡頭已經有非常專業的[資料平台團隊](https://leemeng.tw/data-science-digest-volume-4-choose-your-own-character-in-data-science-role-play-game.html#Beyond-Interactive:-Notebook-Innovation-at-Netflix)，則或許上述為真。身為一個小小的 DS，你無須擔心什麼 KPI 的定義或是數據品質。\n",
    "\n",
    "但很多時候，這種抱持著「KPI 永遠是對的！」的假設需要承擔不小風險。\n",
    "\n",
    "一般企業（尤其是新創）在事後發現一直以來追蹤、監視的 KPI 的計算需要修正是常有的事情。最常見的一個例子就是發現當時用來計算 KPI 的 SQL 查詢的邏輯有所瑕疵，而原因可能是：\n",
    "- 之前產品釋出新功能，但使用者利用該功能的 Log 沒有被計算到 KPI 裡頭\n",
    "- 少做了數據品質的檢查，導致表格裡頭有 NULL 的使用者 ID 等問題，無法識別用戶\n",
    "- KPI 裡頭包含了不該被計算在裡頭的雜訊\n",
    "\n",
    "不管是哪項，我們都需要修正該 SQL 查詢、更新 KPI 定義，並將該 SQL 查詢重新丟上 Production 環境的 ETL Pipeline。\n",
    "\n",
    "這樣你才能確保新的一天，該 KPI 能以最正確的方式被計算出來（假設我們一天算一次該 KPI）。畢竟如同我們在奇幻旅程的第一篇：[新人不得不問的 2 個問題]({filename}20180704-journal-of-a-data-scientist-1-from-zero-to-hero.ipynb)裡頭看到的，錯誤的 KPI 數字會讓整個數據團隊或是公司策略走錯方向，影響可說是非常深遠，得及早修正。"
   ]
  },
  {
   "cell_type": "markdown",
   "metadata": {},
   "source": [
    "!image\n",
    "- airflow/tim-gouw-68319-unsplash.jpg"
   ]
  },
  {
   "cell_type": "markdown",
   "metadata": {},
   "source": [
    "在你努力修正該 SQL 查詢並部署到 Production 環境以後，唷呼！明天我們的 KPI 就會用最正確的邏輯被計算了！\n",
    "\n",
    "不過別開心得太早。\n",
    "\n",
    "在過去的數個月，甚至數年，該 KPI 已經被顯示在儀表板（Dashboard）上的數字可不會全部「自動地」被以新的邏輯重新計算。\n",
    "\n",
    "但同時每個 PM 都拉著你，急著向你確認，到底用了最新的定義以後，該 KPI 過去的數字會變得如何、以及其對過去的分析的影響有多大。\n",
    "\n",
    "這時你需要用新的計算邏輯 / KPI 定義來更新過去全部的資料，才能讓你公平地比較過去與現在的數字。"
   ]
  },
  {
   "cell_type": "markdown",
   "metadata": {},
   "source": [
    "!image\n",
    "- journal/carlos-muza-84523-unsplash.jpg\n",
    "- 修正了 KPI 定義以及 SQL 語法以後，你要做的是，確保該 KPI 過去存在資料庫裡的數據以及儀表板的數字也都隨之更新"
   ]
  },
  {
   "cell_type": "markdown",
   "metadata": {},
   "source": [
    "這時候資料分析能力幫不了你，你需要的是資料工程的知識（或是一個老實的資料工程師，**D**ata **E**ngineer，DE）。\n",
    "\n",
    "好消息是，如果你已經有在使用如 [Airflow]({filename}20180817-how-i-use-airflow-to-automate-my-comic-life.ipynb) 等工作流程管理工具來管理你的 ETL，要「回到過去」，並利用最新的計算邏輯來修正過去所有「錯誤的 KPI 數字」 並不是一件太難的事情。\n",
    "\n",
    "「將過去排程過的 ETL 工作重新執行」這個任務在各個公司屢見不鮮，在資料工程領域裡頭甚至有其專業術語：Backfill。"
   ]
  },
  {
   "cell_type": "markdown",
   "metadata": {},
   "source": [
    "!image\n",
    "- journal/backfilling.jpg\n",
    "- Backfill：行家才懂的資料工程關鍵字"
   ]
  },
  {
   "cell_type": "markdown",
   "metadata": {},
   "source": [
    "Backfill 本身直接翻譯成「回填」，在資料工程領域裡頭，即代表著（用新的計算邏輯 / SQL 查詢）將過去執行過的 ETL 工作重新執行。\n",
    "\n",
    "事實上 Backfill 常見到 [Airbnb 甚至自己用 Airflow 建立了一個 Backfill Framework](https://medium.com/@rchang/a-beginners-guide-to-data-engineering-the-series-finale-2cc92ff14b0)。\n",
    "\n",
    "\n",
    "\n",
    "在[一段 Airflow 與資料工程的故事：談如何用 Python 追漫畫連載]({filename}20180817-how-i-use-airflow-to-automate-my-comic-life.ipynb)一文裡頭，我詳細探討了 Airflow 與資料工程的關係，以及你可以如何利用 Airflow 來「回到過去」，修正一切的錯誤。\n",
    "\n",
    "\n",
    "你問我怎麼做 Backfill？\n",
    "\n",
    "基本上目前我是使用 Airflow 以及 [Amazon EMR](https://aws.amazon.com/tw/emr/) 來重新執行過去所有計算該 KPI 的 ETL 工作，並讓實際的計算運行在 EMR 環境上以 scale。"
   ]
  },
  {
   "cell_type": "markdown",
   "metadata": {},
   "source": [
    "!image\n",
    "- airflow/time-machine.jpg\n",
    "- 利用 Airflow 回到過去\n",
    "- https://leemeng.tw/a-story-about-airflow-and-data-engineering-using-how-to-use-python-to-catch-up-with-latest-comics-as-an-example.html"
   ]
  },
  {
   "cell_type": "markdown",
   "metadata": {},
   "source": [
    "就算你現在不需自己做資料工程，在求職或者想了解其他公司的數據環境時，可以詢問該公司的資料科學家 / 資料工程師："
   ]
  },
  {
   "cell_type": "markdown",
   "metadata": {},
   "source": [
    "!quote\n",
    "- 所以你們平常是怎麼做 Backfill ？"
   ]
  },
  {
   "cell_type": "markdown",
   "metadata": {},
   "source": [
    "一個簡單的問題，馬上能凸顯你的專業。\n",
    "\n",
    "驚艷對方的同時，又能讓你實際了解非常多該公司數據平台的細節。\n",
    "\n",
    "如果你立志成為 DS，且不希望之後操心數據品質或是自己對資料工程沒興趣，那你反而更需要搞清楚，想去的公司的資料工程環境如何，能否讓你專注在數據分析；如果你是想成為 DE，你就能知道這家公司環境適不適合你大展身手。"
   ]
  },
  {
   "cell_type": "markdown",
   "metadata": {},
   "source": [
    "## 預測未來，洞察先機"
   ]
  },
  {
   "cell_type": "markdown",
   "metadata": {},
   "source": [
    "## 結語\n",
    "\n",
    "想看家一家公司的ＤＥ 環境，可以問問他們 ｄｓ 或 DE 「你們怎麼說做 backfill的？」既專業，能經驗對方，又能了解非常多該公司平台的細節。\n",
    "\n",
    "\n",
    "希望透過這篇文章，能讓你感覺到資料工程並不是一門硬邦邦的領域，且其正等待著你的探索。\n",
    "\n",
    "\n",
    "每家企業的 DS　做得事情不一樣\n",
    "多寫了幾篇文章，有時總讓我覺得自己是個浪漫主義者。不過每個 DS 都有自己的故事"
   ]
  }
 ],
 "metadata": {
  "kernelspec": {
   "display_name": "Python 3",
   "language": "python",
   "name": "python3"
  },
  "language_info": {
   "codemirror_mode": {
    "name": "ipython",
    "version": 3
   },
   "file_extension": ".py",
   "mimetype": "text/x-python",
   "name": "python",
   "nbconvert_exporter": "python",
   "pygments_lexer": "ipython3",
   "version": "3.7.0"
  }
 },
 "nbformat": 4,
 "nbformat_minor": 2
}
