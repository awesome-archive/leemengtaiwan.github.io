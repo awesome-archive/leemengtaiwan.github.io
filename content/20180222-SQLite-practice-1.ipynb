{
 "cells": [
  {
   "cell_type": "markdown",
   "metadata": {},
   "source": [
    "- author: Lee Meng\n",
    "- date: 2018-02-23 22:00\n",
    "- title: SQLite 筆記\n",
    "- slug: sqlite-note\n",
    "- tags: SQL, SQLite, 資料庫\n",
    "- description: 這篇主要紀錄使用 SQLite shell 下 SQL Query 的指令。基本上在 shell 裡頭都是用 dot-command, 使用 .help 可以顯示所有可用的指令。\n",
    "- summary: 這篇主要紀錄使用 SQLite shell 下 SQL Query 的指令。基本上在 shell 裡頭都是用 dot-command, 使用 .help 可以顯示所有可用的指令。"
   ]
  },
  {
   "cell_type": "markdown",
   "metadata": {
    "toc": "true"
   },
   "source": [
    " # Table of Contents\n",
    "<div class=\"toc\" style=\"margin-top: 1em;\"><ul class=\"toc-item\" id=\"toc-level0\"><li><span><a href=\"http://localhost:8890/notebooks/content/20180222-SQLite-practice-1.ipynb#Prettier-output\" data-toc-modified-id=\"Prettier-output-1\">Prettier output</a></span><ul class=\"toc-item\"><li><span><a href=\"http://localhost:8890/notebooks/content/20180222-SQLite-practice-1.ipynb#調整每一個-column-寬度\" data-toc-modified-id=\"調整每一個-column-寬度-1.1\">調整每一個 column 寬度</a></span></li></ul></li><li><span><a href=\"http://localhost:8890/notebooks/content/20180222-SQLite-practice-1.ipynb#在-sqlite3-shell-裡清空畫面\" data-toc-modified-id=\"在-sqlite3-shell-裡清空畫面-2\">在 sqlite3 shell 裡清空畫面</a></span></li><li><span><a href=\"http://localhost:8890/notebooks/content/20180222-SQLite-practice-1.ipynb#使用-SQL-script-建立-tables\" data-toc-modified-id=\"使用-SQL-script-建立-tables-3\">使用 SQL script 建立 tables</a></span></li><li><span><a href=\"http://localhost:8890/notebooks/content/20180222-SQLite-practice-1.ipynb#顯示目前的-tables\" data-toc-modified-id=\"顯示目前的-tables-4\">顯示目前的 tables</a></span></li><li><span><a href=\"http://localhost:8890/notebooks/content/20180222-SQLite-practice-1.ipynb#顯示-table-schema\" data-toc-modified-id=\"顯示-table-schema-5\">顯示 table schema</a></span></li><li><span><a href=\"http://localhost:8890/notebooks/content/20180222-SQLite-practice-1.ipynb#顯示-indexes\" data-toc-modified-id=\"顯示-indexes-6\">顯示 indexes</a></span></li></ul></div>"
   ]
  },
  {
   "cell_type": "markdown",
   "metadata": {},
   "source": [
    "這篇主要紀錄使用 SQLite shell 下 SQL Query 的指令。基本上在 shell 裡頭都是用 dot-command, 使用 `.help` 可以顯示所有可用的指令."
   ]
  },
  {
   "cell_type": "markdown",
   "metadata": {},
   "source": [
    "## Prettier output\n",
    "在 command-line program 裡頭使用的 response format\n",
    "\n",
    "    .mode column\n",
    "    .headers on\n",
    "    \n",
    "Example output\n",
    "\n",
    "    Code        Name        Price       Manufacturer\n",
    "    ----------  ----------  ----------  ------------\n",
    "    7           CD drive    90          2           \n",
    "    9           Toner cart  66          3           \n",
    "\n",
    "### 調整每一個 column 寬度\n",
    "\n",
    "    .width 5 18 15\n",
    "    \n",
    "缺點是不同的 tables, 不同的 columns 需要的寬度不同, 要自己調整\n",
    "要重置設定:\n",
    "    \n",
    "    .width 0\n"
   ]
  },
  {
   "cell_type": "markdown",
   "metadata": {},
   "source": [
    "## 在 sqlite3 shell 裡清空畫面\n",
    "要看 OS 決定實際的 shell command\n",
    "\n",
    "    .shell clear\n",
    "\n",
    "除了 `clear` 以外, 其他 shell command都能使用, e.g.,\n",
    "\n",
    "    .shell cd"
   ]
  },
  {
   "cell_type": "markdown",
   "metadata": {},
   "source": [
    "## 使用 SQL script 建立 tables\n",
    "\n",
    "比方我們有一個 `create_tables.sql` 內容是：\n",
    "\n",
    "    CREATE TABLE Departments (\n",
    "      Code INTEGER PRIMARY KEY,\n",
    "      Name varchar(255) NOT NULL ,\n",
    "      Budget decimal NOT NULL \n",
    "    );\n",
    "    \n",
    "    INSERT INTO Departments(Code,Name,Budget) VALUES(14,'IT',65000);\n",
    "\n",
    "我們可以用 `.read` dot-command 在 shell 跑該 script 建立 `Department` table:\n",
    "\n",
    "    .read create_tables.sql\n"
   ]
  },
  {
   "cell_type": "markdown",
   "metadata": {},
   "source": [
    "## 顯示目前的 tables\n",
    "\n",
    "```\n",
    ".tables\n",
    "```"
   ]
  },
  {
   "cell_type": "markdown",
   "metadata": {},
   "source": [
    "## 顯示 table schema\n",
    "\n",
    "    .schema <TABLE_NAME>"
   ]
  },
  {
   "cell_type": "markdown",
   "metadata": {},
   "source": [
    "## 顯示 indexes\n",
    "\n",
    "    .indexes\n",
    "    \n",
    "在 Table T 的 Column C 建立 index\n",
    "\n",
    "    CREATE INDEX <INDEX_NAME> ON T(C);\n",
    "    \n",
    "砍掉 index\n",
    "\n",
    "    DROP INDEX <INDEX_NAME>"
   ]
  }
 ],
 "metadata": {
  "Author": "Lee Meng",
  "Category": "SQL",
  "Date": "2018-02-23 22:00",
  "Description": "這篇主要紀錄使用 SQLite shell 下 SQL Query 的指令。",
  "Summary": "這篇主要紀錄使用 SQLite shell 下 SQL Query 的指令。基本上在 shell 裡頭都是用 dot-command, 使用 .help 可以顯示所有可用的指令.",
  "Tags": "SQL, SQLite",
  "Title": "SQLite 筆記",
  "_draft": {
   "nbviewer_url": "https://gist.github.com/a64a0cbe2858f8239d9befe529d752c8"
  },
  "gist": {
   "data": {
    "description": "SQLite Note",
    "public": false
   },
   "id": "a64a0cbe2858f8239d9befe529d752c8"
  },
  "kernelspec": {
   "display_name": "Python 3",
   "language": "python",
   "name": "python3"
  },
  "language_info": {
   "codemirror_mode": {
    "name": "ipython",
    "version": 3
   },
   "file_extension": ".py",
   "mimetype": "text/x-python",
   "name": "python",
   "nbconvert_exporter": "python",
   "pygments_lexer": "ipython3",
   "version": "3.6.5"
  },
  "toc": {
   "nav_menu": {},
   "number_sections": false,
   "sideBar": false,
   "skip_h1_title": false,
   "toc_cell": true,
   "toc_position": {
    "height": "143px",
    "left": "1076.05px",
    "right": "20px",
    "top": "120px",
    "width": "258px"
   },
   "toc_section_display": "none",
   "toc_window_display": true
  },
  "varInspector": {
   "cols": {
    "lenName": 16,
    "lenType": 16,
    "lenVar": 40
   },
   "kernels_config": {
    "python": {
     "delete_cmd_postfix": "",
     "delete_cmd_prefix": "del ",
     "library": "var_list.py",
     "varRefreshCmd": "print(var_dic_list())"
    },
    "r": {
     "delete_cmd_postfix": ") ",
     "delete_cmd_prefix": "rm(",
     "library": "var_list.r",
     "varRefreshCmd": "cat(var_dic_list()) "
    }
   },
   "types_to_exclude": [
    "module",
    "function",
    "builtin_function_or_method",
    "instance",
    "_Feature"
   ],
   "window_display": false
  }
 },
 "nbformat": 4,
 "nbformat_minor": 2
}
