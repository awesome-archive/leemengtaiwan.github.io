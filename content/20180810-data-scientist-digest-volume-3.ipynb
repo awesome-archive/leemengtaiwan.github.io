{
 "cells": [
  {
   "cell_type": "markdown",
   "metadata": {},
   "source": [
    "- author: Lee Meng\n",
    "- date: 2018-08-10 21:00\n",
    "- title: 資料科學文摘 Vol.3 Pandas、Docker 以及數據時代的反思\n",
    "- slug: data-science-digest-volume-3\n",
    "- tags: 文摘, Pandas, SQL, Docker, 資料科學\n",
    "- description: 不同於上週的文摘，這週的選文比較技術以及實作導向。本週將導讀 3 篇使用 Python 以及 Pandas 的文章，並鼓勵讀者實際動手學習。我們也會看到如何使用 Docker 來讓資料科學變得更簡單，並提供一個有趣的貓咪圖片辨識 App 給有興趣的讀者參考。最後，讓我們分別看看哈佛商業評論以及美國前首席資料科學家 DJ Patil 談談如何讓資料科學在企業內普及，以及數據時代我們面臨的各種道德議題。\n",
    "- summary: 不同於上週的文摘，這週的選文比較技術以及實作導向。本週將導讀 3 篇使用 Python 以及 Pandas 的文章，並鼓勵讀者實際動手學習。我們也會看到如何使用 Docker 來讓資料科學變得更簡單，並提供一個有趣的貓咪圖片辨識 App 給有興趣的讀者參考。最後，讓我們分別看看哈佛商業評論以及美國前首席資料科學家 DJ Patil 談談如何讓資料科學在企業內普及，以及數據時代我們面臨的各種道德議題。\n",
    "- image: thought-catalog-575840-unsplash.jpg\n",
    "- image_credit_url: https://unsplash.com/photos/OJZB0VUQKKc?utm_source=unsplash&utm_medium=referral&utm_content=creditCopyText"
   ]
  },
  {
   "cell_type": "markdown",
   "metadata": {},
   "source": [
    "不同於上週的[文摘 Vol.2 產品理解以及 DS / DE 之路](https://leemengtaiwan.github.io/data-science-digest-volume-2.html)，這週的選文比較技術以及實作導向。本週將導讀 3 篇使用 Python 以及 Pandas 的文章，並鼓勵讀者實際動手學習。我們也會看到如何使用 Docker 來讓資料科學變得更簡單，並提供一個有趣的貓咪圖片辨識 App 給有興趣的讀者參考。最後，讓我們分別看看哈佛商業評論以及美國前首席資料科學家 DJ Patil 談談如何讓資料科學在企業內普及，以及數據時代我們面臨的各種道德議題。"
   ]
  },
  {
   "cell_type": "markdown",
   "metadata": {},
   "source": [
    "## 本週閱讀清單\n",
    "- Pandas、Python\n",
    "    - [How to Master Your Skills for Pandas?](#How-to-Master-Your-Skills-for-Pandas?)\n",
    "    - [How to rewrite your SQL queries in Pandas, and more](#How-to-rewrite-your-SQL-queries-in-Pandas,-and-more)\n",
    "    - [Learn Functional Python in 10 Minutes](#Learn-Functional-Python-in-10-Minutes)\n",
    "- Docker    \n",
    "    - [Docker for Data Scientists](#Docker-for-Data-Scientists)\n",
    "    - [Cat Recognizer: A flask app showcasing how to recognize cats using Tensorflow](#Try-It-Yourself)\n",
    "- 數據時代的反思\n",
    "    - [The Democratization of Data Science](#The-Democratization-of-Data-Science)\n",
    "    - [Data's day of reckoning](#Data's-day-of-reckoning)"
   ]
  },
  {
   "cell_type": "code",
   "execution_count": null,
   "metadata": {},
   "outputs": [],
   "source": [
    "#ignore\n",
    "l = [\n",
    "    \"How to Master Your Skills for Pandas?\",\n",
    "    \"How to rewrite your SQL queries in Pandas, and more\",\n",
    "    \"Learn Functional Python in 10 Minutes\",\n",
    "    \"Docker for Data Scientists\",\n",
    "    \"The Democratization of Data Science\",\n",
    "    \"Data's day of reckoning\"\n",
    "]\n",
    "for e in l:\n",
    "    print(f\"- [{e}](#{ e.replace(' ', '-') })\")"
   ]
  },
  {
   "cell_type": "markdown",
   "metadata": {},
   "source": [
    "## [How to Master Your Skills for Pandas?](https://engmrk.com/module5-introduction-to-pandas/)\n",
    "<center>\n",
    "    <a href=\"https://engmrk.com/module5-introduction-to-pandas/\" target=\"_blacnk\">\n",
    "        <img src=\"images/digests/Module-5-Introduction-to-Pandas.png\" style=\"width:90%\"/>\n",
    "    </a>\n",
    "</center>\n",
    "\n",
    "Python 裡頭最著名的資料處理 library 非 [Pandas](https://pandas.pydata.org/) 莫屬了。[這篇文章](https://engmrk.com/module5-introduction-to-pandas/)使用互動式的環境，列出挺完整的 Pandas 指令讓讀者可以邊參考 sample code 邊自己動手玩玩看。\n",
    "\n",
    "其中包含各種利用 Series 以及 Dataframe 兩種 Pandas 常見的資料格式來對數據進行各種操作，適合沒碰過 Pandas 的新手以及想要重新 refresh 語法的人。"
   ]
  },
  {
   "cell_type": "markdown",
   "metadata": {},
   "source": [
    "## [How to rewrite your SQL queries in Pandas, and more](https://codeburst.io/how-to-rewrite-your-sql-queries-in-pandas-and-more-149d341fc53e)\n",
    "<center>\n",
    "    <a href=\"https://codeburst.io/how-to-rewrite-your-sql-queries-in-pandas-and-more-149d341fc53e\" target=\"_blacnk\">\n",
    "        <img src=\"images/digests/kofu-pandas.jpeg\" style=\"width:90%\"/>\n",
    "    </a>\n",
    "</center>\n",
    "提供常見的 SQL 查詢以及其對應的 Pandas 寫法。一個有效率的資料科學家通常需要 SQL 及 pandas 兼具。雖然這篇一開始的目標讀者是那些已經熟悉 SQL 並打算使用 Pandas 的讀者，我認為熟悉 Pandas 但還不了解 SQL 的同學們也能從這篇學到點東西。\n",
    "\n",
    "這篇適合至少懂 Python 或是 SQL 並想學習另外一個語言的讀者。如果你想要深入了解 SQL 或是其與 Python 之間的差異，你可以看看我之前寫的[為何資料科學家需要學習 SQL](https://leemengtaiwan.github.io/why-you-need-to-learn-sql-as-a-data-scientist.html)。"
   ]
  },
  {
   "cell_type": "markdown",
   "metadata": {},
   "source": [
    "## [Learn Functional Python in 10 Minutes](https://hackernoon.com/learn-functional-python-in-10-minutes-to-2d1651dece6f)\n",
    "<center>\n",
    "    <a href=\"https://hackernoon.com/learn-functional-python-in-10-minutes-to-2d1651dece6f\" target=\"_blank\">\n",
    "        <img src=\"images/digests/1_ZXixptvL4rzkx3EDuj38xw.jpg\" style=\"width:90%\"/>\n",
    "    </a>\n",
    "</center>"
   ]
  },
  {
   "cell_type": "markdown",
   "metadata": {},
   "source": [
    "[這篇 Hackernon 文章](https://bobbywlindsey.com/data-science/2018/07/16/docker-for-data-scientists/)則簡單介紹 Functional Programming 在 Python 可以如何被實作，函式（function）是怎麼被視為 Python 的第一公民以及我們能如何活用函式如 Map、Filter 函式。"
   ]
  },
  {
   "cell_type": "markdown",
   "metadata": {},
   "source": [
    "如果你剛起步，想要有效率地學習 Python 的話，我建議可以從 [List comprehension](https://www.python-course.eu/list_comprehension.php) 開始學起。\n",
    "\n",
    "一個簡單的例子是假設我們想從一個 List 中取得大於 50 的數字："
   ]
  },
  {
   "cell_type": "code",
   "execution_count": 2,
   "metadata": {},
   "outputs": [
    {
     "name": "stdout",
     "output_type": "stream",
     "text": [
      "[100, 70]\n"
     ]
    }
   ],
   "source": [
    "l = [5, -3, 100, 70, 2]\n",
    "larger_than_50 = [e for e in l if e > 50]\n",
    "print(larger_than_50)"
   ]
  },
  {
   "cell_type": "markdown",
   "metadata": {},
   "source": [
    "文章的後半段則透過 The Zen of Python （Python 的禪學）來說明為何使用 List comprehension 會比使用傳統 Functional Programming 中的 Map、Filter 函式來得簡單。\n",
    "\n",
    "Python 有一個著名的彩蛋，你可以利用 `import this` 來顯示 The Zen of Python，它提供使用 Python 的人一個簡單的開發準則，具體如下："
   ]
  },
  {
   "cell_type": "code",
   "execution_count": 1,
   "metadata": {},
   "outputs": [
    {
     "name": "stdout",
     "output_type": "stream",
     "text": [
      "The Zen of Python, by Tim Peters\n",
      "\n",
      "Beautiful is better than ugly.\n",
      "Explicit is better than implicit.\n",
      "Simple is better than complex.\n",
      "Complex is better than complicated.\n",
      "Flat is better than nested.\n",
      "Sparse is better than dense.\n",
      "Readability counts.\n",
      "Special cases aren't special enough to break the rules.\n",
      "Although practicality beats purity.\n",
      "Errors should never pass silently.\n",
      "Unless explicitly silenced.\n",
      "In the face of ambiguity, refuse the temptation to guess.\n",
      "There should be one-- and preferably only one --obvious way to do it.\n",
      "Although that way may not be obvious at first unless you're Dutch.\n",
      "Now is better than never.\n",
      "Although never is often better than *right* now.\n",
      "If the implementation is hard to explain, it's a bad idea.\n",
      "If the implementation is easy to explain, it may be a good idea.\n",
      "Namespaces are one honking great idea -- let's do more of those!\n"
     ]
    }
   ],
   "source": [
    "import this"
   ]
  },
  {
   "cell_type": "markdown",
   "metadata": {},
   "source": [
    "## [Docker for Data Scientists](https://bobbywlindsey.com/data-science/2018/07/16/docker-for-data-scientists/)\n",
    "<center>\n",
    "    <a href=\"https://bobbywlindsey.com/data-science/2018/07/16/docker-for-data-scientists/\" target=\"_blank\">\n",
    "        <img src=\"images/digests/docker-flickr.jpg\" style=\"width:90%\"/>\n",
    "    </a>\n",
    "</center>\n",
    "很簡單地說明常見的 [Docker](https://www.docker.com/) 術語以及使用 Docker 可以為資料科學家帶來的好處：\n",
    "- 節省建置開發 / 分析環境所需的時間\n",
    "- 增加可重現性（Reproducibility）\n",
    "- 抽象化作業系統（OS）的概念，再也沒有只能在 Mac 跑而不能在 Windows 跑的問題\n",
    "\n",
    "這篇提供非常初級的指令來開始在本機環境使用 Docker，可以嘗試看看。\n",
    "\n",
    "在 Smartnews 我則是使用 [Amazon Elastic Container Service](https://aws.amazon.com/tw/ecs/) 來開發一些資料科學家們會用到的分析工具，如大家的好朋友 [Jupyter Hub](https://jupyterhub.readthedocs.io/en/stable/)、Airbnb 開發的 BI 工具 [Superset](https://github.com/apache/incubator-superset)。之後有機會會另外撰文分享經驗。"
   ]
  },
  {
   "cell_type": "markdown",
   "metadata": {},
   "source": [
    "### Try It Yourself\n",
    "Docker 讓我們可以快速重現其他人的分析環境或者是有趣的 application。如果你想馬上感受 Docker 的威力，可以看看我之前利用 [Tensorflow](https://www.tensorflow.org/) 以及 [Flask](http://flask.pocoo.org/) 實作的一個貓咪圖片辨識的 [Github repo](https://github.com/leemengtaiwan/cat-recognition-app)（feat. [CNC](https://github.com/mnicnc404)）：\n",
    "\n",
    "\n",
    "<center>\n",
    "    <a href=\"https://github.com/leemengtaiwan/cat-recognition-app\" target=\"_blank\">\n",
    "        <img src=\"images/digests/cat-recog-cover.jpg\" style=\"width:90%\"/>\n",
    "    </a>\n",
    "    <br>\n",
    "    <a href=\"https://github.com/leemengtaiwan/cat-recognition-app\" target=\"_blank\">Cat Recognizer</a>\n",
    "       ：利用 Tensorflow, Flask 實作 App 並使用 Docker 快速與他人分享成果\n",
    "    <br>\n",
    "    <br>\n",
    "    <br>\n",
    "</center>\n",
    "\n",
    "雖然 [Github repo](https://github.com/leemengtaiwan/cat-recognition-app) 上也有教學指南，想要最快速地在你的電腦上使用這個 App 的話，下載 [Docker](https://www.docker.com/) 並開啟 Daemon 後，使用命令列輸入以下指令：\n",
    "\n",
    "```sh\n",
    "docker pull leemeng/cat\n",
    "docker run -dp 1234:5000 leemeng/cat\n",
    "```\n",
    "\n",
    "接著在瀏覽器輸入 `localhost:1234` 應該就能開始使用了。如果你有興趣了解如何一步步打造這樣的 ML 應用，可以留言跟我說。\n",
    "\n",
    "不過現在讓我們繼續看剩下的 2 篇好文章：）"
   ]
  },
  {
   "cell_type": "markdown",
   "metadata": {},
   "source": [
    "## [The Democratization of Data Science](https://hbr.org/2018/07/the-democratization-of-data-science)\n",
    "<center>\n",
    "    <a href=\"https://hbr.org/2018/07/the-democratization-of-data-science\" target=\"_blank\">\n",
    "        <img src=\"images/digests/jul18-27-833771544-Patricia-Toth-McCormick-1200x675.jpg\" style=\"width:90%\"/>\n",
    "    </a>\n",
    "</center>\n",
    "\n",
    "[哈佛商業評論（Harvard Business Review, HBR）](https://hbr.org/)在這篇文章裏頭敘述為何不只是針對資料科學家，提升所有人的「資料素養」對一個企業來說是一件非常重要的事情。\n",
    "\n",
    "最明顯的優點是可以讓數據團隊專注在：\n",
    "- 解決更高層次的企業問題\n",
    "- 建立分析工具以加速所有部門的數據分析\n",
    "\n",
    "而不是處理每個部門的「資料瑣事」。\n",
    "\n",
    "這個議題並非只跟企業的管理階層相關。對一個資料科學家來說，想辦法利用資料工程（Data Engineering）等方式來自動化如「建立簡單儀表板」的工作，並教導各個部門實際的使用方式，可以讓你一勞永逸，避免永遠在處理非常瑣碎的「資料瑣事」，專著在更大的目標。"
   ]
  },
  {
   "cell_type": "code",
   "execution_count": null,
   "metadata": {},
   "outputs": [],
   "source": [
    "#blockquote\n",
    "你不會因為自己不是會計師就不遵守專案預算；你也不會因為不是資料科學家就不提升資料素養。"
   ]
  },
  {
   "cell_type": "markdown",
   "metadata": {},
   "source": [
    "## [Data's day of reckoning](https://www.oreilly.com/ideas/datas-day-of-reckoning)\n",
    "<center>\n",
    "    <a href=\"https://www.oreilly.com/ideas/datas-day-of-reckoning\" target=\"_blank\">\n",
    "        <img src=\"images/digests/shower-of-sparks-3115784_1280.jpg\" style=\"width:90%\"/>\n",
    "    </a>\n",
    "</center>\n",
    "生活在數據驅動時代的我們或許都能感受到世界變化的快速。\n",
    "\n",
    "美國前首席資料科學家 [DJ Patil](https://www.oreilly.com/people/15b77-dj-patil) 認為不管是資料科學、機器學習還是人工智慧領域，「道德倫理」以及「安全隱私」議題都應該越來越被重視。\n",
    "\n",
    "電腦科學（Computer Science）時代最著名的安全議題非 SQL 注入[（SQL Injection）](https://zh.wikipedia.org/zh-hant/SQL%E8%B3%87%E6%96%99%E9%9A%B1%E7%A2%BC%E6%94%BB%E6%93%8A)莫屬了。如同這個議題，在數據驅動時代，我們也會面臨類似道德以及數據保護的議題，像是人工智慧模型產生具有偏見的預測、以及最近的 [GDPR](https://zh.wikipedia.org/wiki/%E6%AD%90%E7%9B%9F%E4%B8%80%E8%88%AC%E8%B3%87%E6%96%99%E4%BF%9D%E8%AD%B7%E8%A6%8F%E7%AF%84) 等等。\n",
    "\n",
    "在教育方面，DJ Patil 認為我們應該教育下一代在數據處理時，應該遵守的準則並將其被納入課綱；以數據驅動的公司則需要將這些想法都納入企業文化，在招聘資料科學家的時候，除了考慮他 / 她的分析能力以外，也要評估道德倫理的部分。\n",
    "\n",
    "身為一個資料科學家，除了技術層面的提升，也應該稍微了解這些議題。"
   ]
  },
  {
   "cell_type": "code",
   "execution_count": null,
   "metadata": {},
   "outputs": [],
   "source": [
    "#blockquote\n",
    "We can build a future we want to live in, or we can build a nightmare. The choice is up to us."
   ]
  },
  {
   "cell_type": "markdown",
   "metadata": {},
   "source": [
    "## 結語"
   ]
  },
  {
   "cell_type": "markdown",
   "metadata": {},
   "source": [
    "Pandas、SQL、Docker、資料素養的培養以及數據時代的道德倫理問題等等，這週我們也看了不少資料科學相關的文章，希望你有從這篇文章裡頭學到點東西。\n",
    "\n",
    "雖然因為篇幅關係沒辦法把所有實際的 Python 指令列在這邊，我希望透過摘要的方式能讓沒時間的你也能學習、初步地了解資料科學並進一步發現自己有興趣的地方鑽研。\n",
    "\n",
    "有時間的話我推薦實際閱讀這些文章（當然也可以閱讀其他你自己收藏的文章，也歡迎分享），也可以試試看我寫的 [Cat Recognizer](https://github.com/leemengtaiwan/cat-recognition-app) 並留言跟我說說你的想法。\n",
    "\n",
    "之後一樣會定期更新，希望收到第一手消息的話可以點擊下面的訂閱。另外如果你有其他會對這篇文章有興趣的朋友，也請幫忙分享給他 / 她：）\n"
   ]
  },
  {
   "cell_type": "markdown",
   "metadata": {},
   "source": [
    "That's it for this week, stay tuned and happy data science!"
   ]
  },
  {
   "cell_type": "code",
   "execution_count": null,
   "metadata": {},
   "outputs": [],
   "source": []
  }
 ],
 "metadata": {
  "kernelspec": {
   "display_name": "Python 3",
   "language": "python",
   "name": "python3"
  },
  "language_info": {
   "codemirror_mode": {
    "name": "ipython",
    "version": 3
   },
   "file_extension": ".py",
   "mimetype": "text/x-python",
   "name": "python",
   "nbconvert_exporter": "python",
   "pygments_lexer": "ipython3",
   "version": "3.7.0"
  }
 },
 "nbformat": 4,
 "nbformat_minor": 2
}
