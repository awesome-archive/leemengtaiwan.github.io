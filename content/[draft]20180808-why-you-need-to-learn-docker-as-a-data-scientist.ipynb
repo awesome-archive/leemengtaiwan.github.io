{
 "cells": [
  {
   "cell_type": "markdown",
   "metadata": {},
   "source": [
    "- author: Lee Meng\n",
    "- date: 2018-08-08 14:20\n",
    "- title: 為何資料科學家需要學習 Docker\n",
    "- slug: why-you-need-to-learn-docker-as-a-data-scientist\n",
    "- tags: 資料科學, Docker\n",
    "- description: TEST\n",
    "- summary: TEST\n",
    "- image: docker-cover.png\n",
    "- image_credit_url: https://www.threatstack.com/blog/why-docker-cant-solve-all-your-problems-in-the-cloud\n",
    "- status: draft"
   ]
  },
  {
   "cell_type": "code",
   "execution_count": null,
   "metadata": {},
   "outputs": [],
   "source": []
  },
  {
   "cell_type": "code",
   "execution_count": null,
   "metadata": {},
   "outputs": [],
   "source": []
  },
  {
   "cell_type": "markdown",
   "metadata": {},
   "source": []
  },
  {
   "cell_type": "markdown",
   "metadata": {},
   "source": [
    "```sh\n",
    "docker pull leemeng/cat\n",
    "docker run -p 1234:5000 leemeng/cat\n",
    "```\n",
    "\n",
    "```text\n",
    "Using default tag: latest\n",
    "latest: Pulling from leemeng/cat\n",
    "85b1f47fba49: Pull complete\n",
    "ba6bd283713a: Pull complete\n",
    "817c8cd48a09: Pull complete\n",
    "47cc0ed96dc3: Pull complete\n",
    "4a36819a59dc: Pull complete\n",
    "db9a0221399f: Pull complete\n",
    "7a511a7689b6: Pull complete\n",
    "1223757f6914: Pull complete\n",
    "1402462a2f89: Pull complete\n",
    "99f801751722: Pull complete\n",
    "da1f8a029642: Pull complete\n",
    "Digest: sha256:7a65f2a9d60b73320733541d4a3263de7b512b0963ff2ab12139f763af67aa47\n",
    "Status: Downloaded newer image for leemeng/cat:latest\n",
    "```"
   ]
  },
  {
   "cell_type": "markdown",
   "metadata": {},
   "source": [
    "\n",
    "<center>\n",
    "    <img src=\"{filename}images/docker/cat-demo.jpg\" style=\"width:90%\"/>\n",
    "</center>\n",
    "<center>\n",
    "    貓咪測試員一號\n",
    "    <br>\n",
    "    <br>\n",
    "    <br>\n",
    "</center>"
   ]
  },
  {
   "cell_type": "code",
   "execution_count": null,
   "metadata": {},
   "outputs": [],
   "source": []
  }
 ],
 "metadata": {
  "kernelspec": {
   "display_name": "Python 3",
   "language": "python",
   "name": "python3"
  },
  "language_info": {
   "codemirror_mode": {
    "name": "ipython",
    "version": 3
   },
   "file_extension": ".py",
   "mimetype": "text/x-python",
   "name": "python",
   "nbconvert_exporter": "python",
   "pygments_lexer": "ipython3",
   "version": "3.7.0"
  }
 },
 "nbformat": 4,
 "nbformat_minor": 2
}
