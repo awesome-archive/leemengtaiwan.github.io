{
 "cells": [
  {
   "cell_type": "code",
   "execution_count": null,
   "metadata": {},
   "outputs": [],
   "source": []
  },
  {
   "cell_type": "markdown",
   "metadata": {},
   "source": [
    "## 資料科學家 VS 資料工程師\n",
    "為了減少累贅，接下來用縮寫表示兩者\n",
    "- DS（資料科學家，**D**ata **S**cientist）\n",
    "- DE（資料工程師，**D**ata **E**ngineer）\n",
    "\n",
    "下圖簡單介紹 DS 以及 DE 重複的技能以及各自的強處："
   ]
  },
  {
   "cell_type": "markdown",
   "metadata": {},
   "source": [
    "<center>\n",
    "    <img src=\"images/data-engineering/data-scientist-vs-data-engineer.png\" style=\"width:90%\"/>\n",
    "</center>\n",
    "<center>\n",
    "    <a href=\"https://www.oreilly.com/ideas/data-engineers-vs-data-scientists\" target=\"_blank\">BDI</a>\n",
    "    <font color='purple'>: </font>DS 跟 DE 的技能基本上是重疊的，只是看重疊多少（虛線為本人）\n",
    "    <br>\n",
    "</center>"
   ]
  },
  {
   "cell_type": "markdown",
   "metadata": {},
   "source": [
    "從上面的圖我們可以簡單的看出 DS 以及 DE 各自的強處，整理如下表：\n",
    "\n",
    "| 資料科學家 DS |   重疊技能   | 資料工程師 DE |\n",
    "| :--------:  |:----------: |:----------: |\n",
    "|進階數學 / 統計能力 | 基本分析 | 進階程式能力 |\n",
    "|機器學習 / 人工智慧 | 程式能力 | 分散式系統 |\n",
    "|進階數據分析       | 大數據   | 資料工作流程|\n",
    "\n",
    "### 重疊技能\n",
    "但這邊的一個重點是： DS 跟 DE 本來就是相關且重疊的。以「程式能力」來說，基本上在這領域應該很少有一個完全不懂程式的卻還活得很好的。（有的話我建議先開始學 Python 或 SQL 以備不時之需）。\n",
    "\n",
    "現在問你\n",
    "- 依照自己的工作內容\n",
    "- 想要走的路線畫出虛線三角形，然後思考\n",
    "\n",
    "(寫一個產生器)\n",
    "\n",
    "\n",
    "但如何只是這樣整理成表格實在是浪費了。這邊的重點是兩者的技能本來就有重疊"
   ]
  },
  {
   "cell_type": "markdown",
   "metadata": {},
   "source": [
    "## 資料工程師 & 資料科學家缺一不可..\n",
    "\n",
    "依照 https://www.datanami.com/2018/02/05/2018-will-year-data-engineer/ 所說的，\n",
    "\n",
    "針對大數據, 常常分兩個面向同步進行：\n",
    "    - 分析\n",
    "    - 資料管理\n",
    "\n",
    "    而企業需要將兩者都好好地解決\n",
    "    - 資料管理搞定，但分析沒做好： 沒創造價值，維護 data pile 就花一堆錢\n",
    "    - 資料管理沒做好： 分析被信賴的程度降低，實際能否創造價值就變成未知數\n",
    "\n",
    "\n",
    "比例上：\n",
    "    - 資料科學家跟資料工程師的比例至少要 1:1, 理想上可能是1:3. 了解你所在的企業的資料科學家跟工程師的比例，大概就可以估算你實際工作內容需要做什麼\n",
    "        - https://www.oreilly.com/ideas/data-engineers-vs-data-scientists\n",
    "\n",
    "    - 極端例子：只有一個人的時候全部自己做, build data pipeline + visualization （自己的血淚史）\n",
    "        - 有時候企業對資料的要求水平提高，在將資料丟入資料湖前，需要有人幫忙對資料做進一步處理/清理 以提高資料本身的價值。而這時候如果沒有資料工程師，資料科學家表示：「幹」。"
   ]
  },
  {
   "cell_type": "markdown",
   "metadata": {},
   "source": [
    "\n",
    "\n"
   ]
  },
  {
   "cell_type": "code",
   "execution_count": null,
   "metadata": {},
   "outputs": [],
   "source": []
  },
  {
   "cell_type": "code",
   "execution_count": null,
   "metadata": {},
   "outputs": [],
   "source": []
  },
  {
   "cell_type": "code",
   "execution_count": null,
   "metadata": {},
   "outputs": [],
   "source": []
  }
 ],
 "metadata": {
  "kernelspec": {
   "display_name": "Python 3",
   "language": "python",
   "name": "python3"
  },
  "language_info": {
   "codemirror_mode": {
    "name": "ipython",
    "version": 3
   },
   "file_extension": ".py",
   "mimetype": "text/x-python",
   "name": "python",
   "nbconvert_exporter": "python",
   "pygments_lexer": "ipython3",
   "version": "3.6.4"
  }
 },
 "nbformat": 4,
 "nbformat_minor": 2
}
